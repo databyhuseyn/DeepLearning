{
  "nbformat": 4,
  "nbformat_minor": 0,
  "metadata": {
    "colab": {
      "provenance": [],
      "gpuType": "T4",
      "authorship_tag": "ABX9TyNjOzQFrZ6+folSFusMe/3r",
      "include_colab_link": true
    },
    "kernelspec": {
      "name": "python3",
      "display_name": "Python 3"
    },
    "language_info": {
      "name": "python"
    },
    "accelerator": "GPU"
  },
  "cells": [
    {
      "cell_type": "markdown",
      "metadata": {
        "id": "view-in-github",
        "colab_type": "text"
      },
      "source": [
        "<a href=\"https://colab.research.google.com/github/databyhuseyn/DeepLearning/blob/main/training_deep_neural_networks.ipynb\" target=\"_parent\"><img src=\"https://colab.research.google.com/assets/colab-badge.svg\" alt=\"Open In Colab\"/></a>"
      ]
    },
    {
      "cell_type": "code",
      "execution_count": null,
      "metadata": {
        "colab": {
          "base_uri": "https://localhost:8080/",
          "height": 447
        },
        "id": "8XbtrPe4WshN",
        "outputId": "2ecb26f4-566e-410b-ba72-996adf6bf8d7"
      },
      "outputs": [
        {
          "output_type": "execute_result",
          "data": {
            "text/plain": [
              "[<matplotlib.lines.Line2D at 0x7c577ab672e0>]"
            ]
          },
          "metadata": {},
          "execution_count": 1
        },
        {
          "output_type": "display_data",
          "data": {
            "text/plain": [
              "<Figure size 640x480 with 1 Axes>"
            ],
            "image/png": "[encoded data removed]"
          },
          "metadata": {}
        }
      ],
      "source": [
        "import numpy as np\n",
        "import matplotlib.pyplot as plt\n",
        "\n",
        "def sigmoid(z):\n",
        "  return 1 / (1 + np.exp(-z))\n",
        "\n",
        "z = np.linspace(-5, 5, 200)\n",
        "\n",
        "plt.plot([-5, 5], [0, 0], 'k-')\n",
        "plt.plot([-5,5], [1, 1], 'k--')"
      ]
    },
    {
      "cell_type": "markdown",
      "source": [
        "# Xavier and He Initialization"
      ],
      "metadata": {
        "id": "DcJkSo1dXKwa"
      }
    },
    {
      "cell_type": "code",
      "source": [
        "import tensorflow as tf\n",
        "dense = tf.keras.layers.Dense(50, activation='relu',\n",
        "                              kernel_initializer='he_normal')"
      ],
      "metadata": {
        "id": "RlKytO8BXRC1"
      },
      "execution_count": null,
      "outputs": []
    },
    {
      "cell_type": "code",
      "source": [
        "he_avg_init = tf.keras.initializers.VarianceScaling(scale=2., mode='fan_avg',\n",
        "                                                    distribution='uniform')\n",
        "dense = tf.keras.layers.Dense(50, activation='sigmoid',\n",
        "                              kernel_initializer=he_avg_init)"
      ],
      "metadata": {
        "id": "QqOBM14xXh_u"
      },
      "execution_count": null,
      "outputs": []
    },
    {
      "cell_type": "markdown",
      "source": [
        "# Nonsaturating Activation Functions\n",
        "\n",
        "# Leaky Relu"
      ],
      "metadata": {
        "id": "qMresIPeX1vH"
      }
    },
    {
      "cell_type": "code",
      "source": [
        "def leaky_relu(z, alpha):\n",
        "  return np.maximum(alpha * z, z)\n",
        "\n",
        "z = np.linspace(-5, 5 , 200)"
      ],
      "metadata": {
        "id": "XdraGoj-YAiE"
      },
      "execution_count": null,
      "outputs": []
    },
    {
      "cell_type": "code",
      "source": [
        "leaky_relu = tf.keras.layers.LeakyReLU(alpha=0.2)     # defaults to alpha=0.3\n",
        "dense= tf.keras.layers.Dense(50, activation=leaky_relu,\n",
        "                             kernel_initializer='he_normal')"
      ],
      "metadata": {
        "id": "agnCS7fgaQAp"
      },
      "execution_count": null,
      "outputs": []
    },
    {
      "cell_type": "code",
      "source": [
        "model = tf.keras.models.Sequential([\n",
        "    tf.keras.layers.Dense(50, kernel_initializer='he_normal'),   # no activation\n",
        "    tf.keras.layers.LeakyReLU(alpha=0.2)      # activation as a separate layer\n",
        "])"
      ],
      "metadata": {
        "id": "DaXsSVnwbBp2"
      },
      "execution_count": null,
      "outputs": []
    },
    {
      "cell_type": "markdown",
      "source": [
        "# ELU"
      ],
      "metadata": {
        "id": "hwCrQnf3bSSZ"
      }
    },
    {
      "cell_type": "code",
      "source": [
        "dense = tf.keras.layers.Dense(50, activation='elu',\n",
        "                              kernel_initializer='he_normal')"
      ],
      "metadata": {
        "id": "4qDrexqTcRAi"
      },
      "execution_count": null,
      "outputs": []
    },
    {
      "cell_type": "markdown",
      "source": [
        "# SELU\n",
        "\n",
        "# ancaq chox deep neural networklerde istifade olunur, amma dense-den bashqa hec bir layer olmamalidi ve data normalized olmalidi, lecun initializer olmalidi"
      ],
      "metadata": {
        "id": "drsgmlGlcZ74"
      }
    },
    {
      "cell_type": "code",
      "source": [
        "desne = tf.keras.layers.Dense(50, activation='selu',\n",
        "                              kernel_initializer='lecun_normal')"
      ],
      "metadata": {
        "id": "idZr1aUYcslr"
      },
      "execution_count": null,
      "outputs": []
    },
    {
      "cell_type": "code",
      "source": [
        "tf.random.set_seed(42)\n",
        "model = tf.keras.Sequential()\n",
        "model.add(tf.keras.layers.Flatten(input_shape=[28, 28]))\n",
        "for layer in range(100):\n",
        "  model.add(tf.keras.layers.Dense(100, activation='selu',\n",
        "                                  kernel_initializer='lecun_normal'))\n",
        "model.add(tf.keras.layers.Dense(10, activation='softmax'))"
      ],
      "metadata": {
        "id": "bl6R-6Q8dLBn"
      },
      "execution_count": null,
      "outputs": []
    },
    {
      "cell_type": "code",
      "source": [
        "model.compile(loss='sparse_categorical_crossentropy',\n",
        "              optimizer=tf.keras.optimizers.SGD(learning_rate=1e-3),\n",
        "              metrics=['accuracy'])"
      ],
      "metadata": {
        "id": "jKjf7tlHdNuN"
      },
      "execution_count": null,
      "outputs": []
    },
    {
      "cell_type": "code",
      "source": [
        "fashion_mnist = tf.keras.datasets.fashion_mnist.load_data()\n",
        "(X_train_full, y_train_full), (X_test, y_test) = fashion_mnist\n",
        "X_train, y_train = X_train_full[:-5000], y_train_full[:-5000]\n",
        "X_valid, y_valid = X_train_full[-5000:], y_train_full[-5000:]\n",
        "X_train, X_valid, X_test = X_train / 255, X_valid / 255, X_test / 255"
      ],
      "metadata": {
        "id": "ch3-5sKveWFU",
        "colab": {
          "base_uri": "https://localhost:8080/"
        },
        "outputId": "8a6920e4-f771-4d79-b8d8-5fea34522230"
      },
      "execution_count": null,
      "outputs": [
        {
          "output_type": "stream",
          "name": "stdout",
          "text": [
            "Downloading data from https://storage.googleapis.com/tensorflow/tf-keras-datasets/train-labels-idx1-ubyte.gz\n",
            "29515/29515 [==============================] - 0s 0us/step\n",
            "Downloading data from https://storage.googleapis.com/tensorflow/tf-keras-datasets/train-images-idx3-ubyte.gz\n",
            "26421880/26421880 [==============================] - 0s 0us/step\n",
            "Downloading data from https://storage.googleapis.com/tensorflow/tf-keras-datasets/t10k-labels-idx1-ubyte.gz\n",
            "5148/5148 [==============================] - 0s 0us/step\n",
            "Downloading data from https://storage.googleapis.com/tensorflow/tf-keras-datasets/t10k-images-idx3-ubyte.gz\n",
            "4422102/4422102 [==============================] - 0s 0us/step\n"
          ]
        }
      ]
    },
    {
      "cell_type": "code",
      "source": [
        "class_names = [\"T-shirt/top\",\n",
        "    \"Trouser\",\n",
        "    \"Pullover\",\n",
        "    \"Dress\",\n",
        "    \"Coat\",\n",
        "    \"Sandal\",\n",
        "    \"Shirt\",\n",
        "    \"Sneaker\",\n",
        "    \"Bag\",\n",
        "    \"Ankle boot\"\n",
        "]"
      ],
      "metadata": {
        "id": "-5llYB-xfAEe"
      },
      "execution_count": null,
      "outputs": []
    },
    {
      "cell_type": "code",
      "source": [
        "pixel_means = X_train.mean(axis=0, keepdims=True)\n",
        "pixel_stds = X_train.std(axis=0, keepdims=True)\n",
        "X_train_scaled = (X_train - pixel_means) / pixel_stds\n",
        "X_valid_scaled = (X_valid - pixel_means) / pixel_stds\n",
        "X_test_scaled = (X_test - pixel_means) / pixel_stds"
      ],
      "metadata": {
        "id": "hoip-ji4fpRN"
      },
      "execution_count": null,
      "outputs": []
    },
    {
      "cell_type": "code",
      "source": [
        "history = model.fit(X_train_scaled, y_train, epochs=5,\n",
        "                    validation_data=(X_valid_scaled, y_valid))"
      ],
      "metadata": {
        "colab": {
          "base_uri": "https://localhost:8080/"
        },
        "id": "o-2x7Z2LgAzn",
        "outputId": "ed551f18-504b-4c4b-a5ee-26df02a84c4c"
      },
      "execution_count": null,
      "outputs": [
        {
          "output_type": "stream",
          "name": "stdout",
          "text": [
            "Epoch 1/5\n",
            "1719/1719 [==============================] - 65s 25ms/step - loss: 1.2574 - accuracy: 0.5116 - val_loss: 0.8763 - val_accuracy: 0.6810\n",
            "Epoch 2/5\n",
            "1719/1719 [==============================] - 43s 25ms/step - loss: 1.0627 - accuracy: 0.6058 - val_loss: 0.9099 - val_accuracy: 0.6828\n",
            "Epoch 3/5\n",
            "1719/1719 [==============================] - 42s 24ms/step - loss: 0.7698 - accuracy: 0.7135 - val_loss: 0.6722 - val_accuracy: 0.7562\n",
            "Epoch 4/5\n",
            "1719/1719 [==============================] - 42s 24ms/step - loss: 0.6403 - accuracy: 0.7605 - val_loss: 0.6024 - val_accuracy: 0.7756\n",
            "Epoch 5/5\n",
            "1719/1719 [==============================] - 47s 27ms/step - loss: 0.6109 - accuracy: 0.7743 - val_loss: 0.6517 - val_accuracy: 0.7574\n"
          ]
        }
      ]
    },
    {
      "cell_type": "code",
      "source": [
        "tf.random.set_seed(42)"
      ],
      "metadata": {
        "id": "xays9lSqifHE"
      },
      "execution_count": null,
      "outputs": []
    },
    {
      "cell_type": "code",
      "source": [
        "model = tf.keras.Sequential()\n",
        "model.add(tf.keras.layers.Flatten(input_shape=[28, 28]))\n",
        "for layer in range(100):\n",
        "  model.add(tf.keras.layers.Dense(100, activation='relu',\n",
        "                                  kernel_initializer='he_normal'))\n",
        "model.add(tf.keras.layers.Dense(10, activation='softmax'))"
      ],
      "metadata": {
        "id": "rasQVmuJipOd"
      },
      "execution_count": null,
      "outputs": []
    },
    {
      "cell_type": "code",
      "source": [
        "model.compile(loss='sparse_categorical_crossentropy',\n",
        "              optimizer=tf.keras.optimizers.SGD(learning_rate=1e-3),\n",
        "              metrics=['accuracy'])"
      ],
      "metadata": {
        "id": "lW7x10A6i9KK"
      },
      "execution_count": null,
      "outputs": []
    },
    {
      "cell_type": "code",
      "source": [
        "history = model.fit(X_train, y_train, epochs=5,\n",
        "                    validation_data=(X_valid, y_valid))"
      ],
      "metadata": {
        "colab": {
          "base_uri": "https://localhost:8080/"
        },
        "id": "cSYzjaUEmzei",
        "outputId": "c69c03c0-8289-4b01-b3f9-e70eb2d204cc"
      },
      "execution_count": null,
      "outputs": [
        {
          "output_type": "stream",
          "name": "stdout",
          "text": [
            "Epoch 1/5\n",
            "1719/1719 [==============================] - 59s 25ms/step - loss: 1.9694 - accuracy: 0.2309 - val_loss: 1.9611 - val_accuracy: 0.2108\n",
            "Epoch 2/5\n",
            "1719/1719 [==============================] - 42s 25ms/step - loss: 1.5101 - accuracy: 0.4018 - val_loss: 1.3658 - val_accuracy: 0.4276\n",
            "Epoch 3/5\n",
            "1719/1719 [==============================] - 42s 25ms/step - loss: 1.0432 - accuracy: 0.5600 - val_loss: 0.8600 - val_accuracy: 0.6412\n",
            "Epoch 4/5\n",
            "1719/1719 [==============================] - 42s 24ms/step - loss: 0.9167 - accuracy: 0.6278 - val_loss: 0.7969 - val_accuracy: 0.6874\n",
            "Epoch 5/5\n",
            "1719/1719 [==============================] - 42s 24ms/step - loss: 0.9550 - accuracy: 0.6206 - val_loss: 0.8279 - val_accuracy: 0.6870\n"
          ]
        }
      ]
    },
    {
      "cell_type": "markdown",
      "source": [
        "# GELU, Swish and Mish"
      ],
      "metadata": {
        "id": "kNGspXqDm-dx"
      }
    },
    {
      "cell_type": "code",
      "source": [
        "def swish(z, beta=1):\n",
        "  return z * sigmoid(beta * z)\n",
        "\n",
        "def approx_gelu(z):\n",
        "  return swish(z, beta=1.702)\n",
        "\n",
        "def softplus(z):\n",
        "  return np.log(1 + np.exp(z))\n",
        "\n",
        "def mish(z):\n",
        "  return z * np.tanh(softplus(z))"
      ],
      "metadata": {
        "id": "vPQn9jN9n2Qb"
      },
      "execution_count": null,
      "outputs": []
    },
    {
      "cell_type": "markdown",
      "source": [
        "# Batch Normalization"
      ],
      "metadata": {
        "id": "uP_il1aCoTw7"
      }
    },
    {
      "cell_type": "code",
      "source": [
        "tf.keras.backend.clear_session()\n",
        "tf.random.set_seed(42)"
      ],
      "metadata": {
        "id": "AFpsRpARyEq6"
      },
      "execution_count": null,
      "outputs": []
    },
    {
      "cell_type": "code",
      "source": [
        "model = tf.keras.Sequential([\n",
        "    tf.keras.layers.Flatten(input_shape=[28, 28]),\n",
        "    tf.keras.layers.BatchNormalization(),\n",
        "    tf.keras.layers.Dense(300, activation='relu',\n",
        "                          kernel_initializer='he_normal'),\n",
        "    tf.keras.layers.BatchNormalization(),\n",
        "    tf.keras.layers.Dense(100, activation='relu',\n",
        "                          kernel_initializer='he_normal'),\n",
        "    tf.keras.layers.BatchNormalization(),\n",
        "    tf.keras.layers.Dense(10, activation='softmax')\n",
        "])"
      ],
      "metadata": {
        "id": "bWQcl45ZyLR_"
      },
      "execution_count": null,
      "outputs": []
    },
    {
      "cell_type": "code",
      "source": [
        "[(var.name, var.trainable) for var in model.layers[1].variables]"
      ],
      "metadata": {
        "colab": {
          "base_uri": "https://localhost:8080/"
        },
        "id": "EAqRPD6lyw5j",
        "outputId": "96a8cac9-b49c-4ae1-c677-b190404fd3da"
      },
      "execution_count": null,
      "outputs": [
        {
          "output_type": "execute_result",
          "data": {
            "text/plain": [
              "[('batch_normalization/gamma:0', True),\n",
              " ('batch_normalization/beta:0', True),\n",
              " ('batch_normalization/moving_mean:0', False),\n",
              " ('batch_normalization/moving_variance:0', False)]"
            ]
          },
          "metadata": {},
          "execution_count": 22
        }
      ]
    },
    {
      "cell_type": "code",
      "source": [
        "model.compile(loss='sparse_categorical_crossentropy', optimizer='sgd',\n",
        "              metrics='accuracy')\n",
        "model.fit(X_train, y_train, epochs=2, validation_data=(X_valid, y_valid))"
      ],
      "metadata": {
        "colab": {
          "base_uri": "https://localhost:8080/"
        },
        "id": "dtUw2Ye91vj0",
        "outputId": "b632072f-998b-4140-aae1-f833e0b9d904"
      },
      "execution_count": null,
      "outputs": [
        {
          "output_type": "stream",
          "name": "stdout",
          "text": [
            "Epoch 1/2\n",
            "1719/1719 [==============================] - 11s 5ms/step - loss: 0.5465 - accuracy: 0.8084 - val_loss: 0.3955 - val_accuracy: 0.8562\n",
            "Epoch 2/2\n",
            "1719/1719 [==============================] - 9s 5ms/step - loss: 0.4011 - accuracy: 0.8570 - val_loss: 0.3575 - val_accuracy: 0.8684\n"
          ]
        },
        {
          "output_type": "execute_result",
          "data": {
            "text/plain": [
              "<keras.src.callbacks.History at 0x7c5675210ca0>"
            ]
          },
          "metadata": {},
          "execution_count": 23
        }
      ]
    },
    {
      "cell_type": "code",
      "source": [
        "tf.keras.backend.clear_session()\n",
        "tf.random.set_seed(42)"
      ],
      "metadata": {
        "id": "VwQClSjr2GRy"
      },
      "execution_count": null,
      "outputs": []
    },
    {
      "cell_type": "markdown",
      "source": [
        "data activation functiona chatmazdan once normalize olmalidi\n",
        "\n",
        "\n",
        "Batch Normalization Computer Vision uchun chox yaxshidi"
      ],
      "metadata": {
        "id": "7aUJTmPs3h8v"
      }
    },
    {
      "cell_type": "code",
      "source": [
        "model = tf.keras.Sequential([\n",
        "    tf.keras.layers.Flatten(input_shape=[28, 28]),\n",
        "    tf.keras.layers.Dense(300, kernel_initializer='he_normal', use_bias=False),\n",
        "    tf.keras.layers.BatchNormalization(),\n",
        "    tf.keras.layers.Activation('relu'),\n",
        "    tf.keras.layers.Dense(100, kernel_initializer='he_normal', use_bias=False),\n",
        "    tf.keras.layers.BatchNormalization(),\n",
        "    tf.keras.layers.Activation('relu'),\n",
        "    tf.keras.layers.Dense(10, activation='softmax')\n",
        "])"
      ],
      "metadata": {
        "id": "ZW4TbwNx2SYu"
      },
      "execution_count": null,
      "outputs": []
    },
    {
      "cell_type": "code",
      "source": [
        "model.compile(loss='sparse_categorical_crossentropy', optimizer='sgd',\n",
        "              metrics='accuracy')\n",
        "model.fit(X_train, y_train, epochs=2, validation_data=(X_valid, y_valid))"
      ],
      "metadata": {
        "colab": {
          "base_uri": "https://localhost:8080/"
        },
        "id": "BE7JlQNd3Qcj",
        "outputId": "b09f857f-cbda-4d81-cf25-6772c229759b"
      },
      "execution_count": null,
      "outputs": [
        {
          "output_type": "stream",
          "name": "stdout",
          "text": [
            "Epoch 1/2\n",
            "1719/1719 [==============================] - 9s 5ms/step - loss: 0.6004 - accuracy: 0.7978 - val_loss: 0.4233 - val_accuracy: 0.8478\n",
            "Epoch 2/2\n",
            "1719/1719 [==============================] - 7s 4ms/step - loss: 0.4268 - accuracy: 0.8501 - val_loss: 0.3705 - val_accuracy: 0.8648\n"
          ]
        },
        {
          "output_type": "execute_result",
          "data": {
            "text/plain": [
              "<keras.src.callbacks.History at 0x7c5674b3f010>"
            ]
          },
          "metadata": {},
          "execution_count": 26
        }
      ]
    },
    {
      "cell_type": "markdown",
      "source": [
        "# Gradient Clipping for RNN"
      ],
      "metadata": {
        "id": "bNBKhkcs3dJt"
      }
    },
    {
      "cell_type": "code",
      "source": [
        "optimizer = tf.keras.optimizers.SGD(clipvalue=1.0)        # 1den balaca olanlara deymir, ondan boyukleri normalize edir  (bir nov learning_rate i azaldir her ikisi)\n",
        "model.compile(loss='sparse_categorical_crossentropy', optimizer=optimizer)"
      ],
      "metadata": {
        "id": "JwA-JZlR4FRJ"
      },
      "execution_count": null,
      "outputs": []
    },
    {
      "cell_type": "code",
      "source": [
        "optimizer=tf.keras.optimizers.SGD(clipnorm=1.0)           # butun datani max 1 olmaq sherti ile normalize edir\n",
        "model.compile(loss='sparse_categorical_crossentropy', optimizer=optimizer)"
      ],
      "metadata": {
        "id": "hiYb-Wx74T60"
      },
      "execution_count": null,
      "outputs": []
    },
    {
      "cell_type": "markdown",
      "source": [
        "# Reusing Pretrained Layers"
      ],
      "metadata": {
        "id": "RgI2zozF4dXk"
      }
    },
    {
      "cell_type": "code",
      "source": [
        "pos_class_id = class_names.index(\"Pullover\")\n",
        "neg_class_id = class_names.index(\"T-shirt/top\")\n",
        "\n",
        "def split_dataset(X, y):\n",
        "    y_for_B = (y == pos_class_id) | (y == neg_class_id)\n",
        "    y_A = y[~y_for_B]\n",
        "    y_B = (y[y_for_B] == pos_class_id).astype(np.float32)\n",
        "    old_class_ids = list(set(range(10)) - set([neg_class_id, pos_class_id]))\n",
        "    for old_class_id, new_class_id in zip(old_class_ids, range(8)):\n",
        "        y_A[y_A == old_class_id] = new_class_id  # reorder class ids for A\n",
        "    return ((X[~y_for_B], y_A), (X[y_for_B], y_B))\n",
        "\n",
        "(X_train_A, y_train_A), (X_train_B, y_train_B) = split_dataset(X_train, y_train)\n",
        "(X_valid_A, y_valid_A), (X_valid_B, y_valid_B) = split_dataset(X_valid, y_valid)\n",
        "(X_test_A, y_test_A), (X_test_B, y_test_B) = split_dataset(X_test, y_test)\n",
        "X_train_B = X_train_B[:200]\n",
        "y_train_B = y_train_B[:200]"
      ],
      "metadata": {
        "id": "lnhelWv95Ds6"
      },
      "execution_count": null,
      "outputs": []
    },
    {
      "cell_type": "code",
      "source": [
        "tf.random.set_seed(42)\n",
        "\n",
        "model_A = tf.keras.Sequential([\n",
        "    tf.keras.layers.Flatten(input_shape=[28, 28]),\n",
        "    tf.keras.layers.Dense(100, activation='relu',\n",
        "                          kernel_initializer='he_normal'),\n",
        "    tf.keras.layers.Dense(100, activation='relu',\n",
        "                          kernel_initializer='he_normal'),\n",
        "    tf.keras.layers.Dense(100, activation='relu',\n",
        "                          kernel_initializer='he_normal'),\n",
        "    tf.keras.layers.Dense(8, activation='softmax')\n",
        "\n",
        "])\n",
        "\n",
        "model_A.compile(loss='sparse_categorical_crossentropy',\n",
        "                optimizer= tf.keras.optimizers.SGD(learning_rate=1e-3),\n",
        "                metrics='accuracy')\n",
        "history = model_A.fit(X_train_A, y_train_A, epochs=20,\n",
        "                      validation_data=(X_valid_A, y_valid_A))\n",
        "model_A.save('my_model_A')"
      ],
      "metadata": {
        "colab": {
          "base_uri": "https://localhost:8080/"
        },
        "id": "nGhBKJ3q5RuG",
        "outputId": "7bd78eac-013a-4007-feeb-d97fce978b84"
      },
      "execution_count": null,
      "outputs": [
        {
          "output_type": "stream",
          "name": "stdout",
          "text": [
            "Epoch 1/20\n",
            "1376/1376 [==============================] - 5s 3ms/step - loss: 1.3050 - accuracy: 0.6094 - val_loss: 0.7637 - val_accuracy: 0.7543\n",
            "Epoch 2/20\n",
            "1376/1376 [==============================] - 5s 4ms/step - loss: 0.6422 - accuracy: 0.7924 - val_loss: 0.5403 - val_accuracy: 0.8240\n",
            "Epoch 3/20\n",
            "1376/1376 [==============================] - 5s 3ms/step - loss: 0.5057 - accuracy: 0.8388 - val_loss: 0.4541 - val_accuracy: 0.8538\n",
            "Epoch 4/20\n",
            "1376/1376 [==============================] - 5s 3ms/step - loss: 0.4364 - accuracy: 0.8611 - val_loss: 0.4029 - val_accuracy: 0.8691\n",
            "Epoch 5/20\n",
            "1376/1376 [==============================] - 5s 4ms/step - loss: 0.3928 - accuracy: 0.8731 - val_loss: 0.3717 - val_accuracy: 0.8754\n",
            "Epoch 6/20\n",
            "1376/1376 [==============================] - 4s 3ms/step - loss: 0.3636 - accuracy: 0.8800 - val_loss: 0.3495 - val_accuracy: 0.8807\n",
            "Epoch 7/20\n",
            "1376/1376 [==============================] - 5s 4ms/step - loss: 0.3434 - accuracy: 0.8841 - val_loss: 0.3342 - val_accuracy: 0.8809\n",
            "Epoch 8/20\n",
            "1376/1376 [==============================] - 4s 3ms/step - loss: 0.3277 - accuracy: 0.8891 - val_loss: 0.3282 - val_accuracy: 0.8874\n",
            "Epoch 9/20\n",
            "1376/1376 [==============================] - 4s 3ms/step - loss: 0.3158 - accuracy: 0.8934 - val_loss: 0.3133 - val_accuracy: 0.8902\n",
            "Epoch 10/20\n",
            "1376/1376 [==============================] - 5s 4ms/step - loss: 0.3055 - accuracy: 0.8971 - val_loss: 0.3102 - val_accuracy: 0.8947\n",
            "Epoch 11/20\n",
            "1376/1376 [==============================] - 5s 3ms/step - loss: 0.2965 - accuracy: 0.9003 - val_loss: 0.3023 - val_accuracy: 0.8957\n",
            "Epoch 12/20\n",
            "1376/1376 [==============================] - 5s 4ms/step - loss: 0.2893 - accuracy: 0.9018 - val_loss: 0.3013 - val_accuracy: 0.8972\n",
            "Epoch 13/20\n",
            "1376/1376 [==============================] - 4s 3ms/step - loss: 0.2834 - accuracy: 0.9025 - val_loss: 0.2922 - val_accuracy: 0.8975\n",
            "Epoch 14/20\n",
            "1376/1376 [==============================] - 4s 3ms/step - loss: 0.2773 - accuracy: 0.9059 - val_loss: 0.2845 - val_accuracy: 0.8977\n",
            "Epoch 15/20\n",
            "1376/1376 [==============================] - 5s 4ms/step - loss: 0.2723 - accuracy: 0.9069 - val_loss: 0.2813 - val_accuracy: 0.9030\n",
            "Epoch 16/20\n",
            "1376/1376 [==============================] - 4s 3ms/step - loss: 0.2676 - accuracy: 0.9083 - val_loss: 0.2780 - val_accuracy: 0.9057\n",
            "Epoch 17/20\n",
            "1376/1376 [==============================] - 6s 4ms/step - loss: 0.2632 - accuracy: 0.9104 - val_loss: 0.2733 - val_accuracy: 0.9047\n",
            "Epoch 18/20\n",
            "1376/1376 [==============================] - 4s 3ms/step - loss: 0.2588 - accuracy: 0.9120 - val_loss: 0.2727 - val_accuracy: 0.9040\n",
            "Epoch 19/20\n",
            "1376/1376 [==============================] - 4s 3ms/step - loss: 0.2553 - accuracy: 0.9128 - val_loss: 0.2694 - val_accuracy: 0.9082\n",
            "Epoch 20/20\n",
            "1376/1376 [==============================] - 5s 4ms/step - loss: 0.2515 - accuracy: 0.9135 - val_loss: 0.2705 - val_accuracy: 0.9070\n"
          ]
        }
      ]
    },
    {
      "cell_type": "code",
      "source": [
        "tf.random.set_seed(42)\n",
        "model_B = tf.keras.Sequential([\n",
        "    tf.keras.layers.Flatten(input_shape=[28, 28]),\n",
        "    tf.keras.layers.Dense(100, activation='relu',\n",
        "                          kernel_initializer='he_normal'),\n",
        "    tf.keras.layers.Dense(100, activation='relu',\n",
        "                          kernel_initializer='he_normal'),\n",
        "    tf.keras.layers.Dense(100, activation='relu',\n",
        "                          kernel_initializer='he_normal'),\n",
        "    tf.keras.layers.Dense(1, activation='sigmoid')\n",
        "])\n",
        "\n",
        "model_B.compile(loss='binary_crossentropy',\n",
        "                optimizer=tf.keras.optimizers.SGD(learning_rate=1e-3),\n",
        "                metrics=['accuracy'])\n",
        "history = model_B.fit(X_train_B, y_train_B, epochs=20,\n",
        "                      validation_data=(X_valid_B, y_valid_B))\n",
        "model.evaluate(X_test_B, y_test_B)"
      ],
      "metadata": {
        "colab": {
          "base_uri": "https://localhost:8080/"
        },
        "id": "flrK9-gy7XOd",
        "outputId": "48ada18b-ec3b-41bf-b1fa-71fd96f51489"
      },
      "execution_count": null,
      "outputs": [
        {
          "output_type": "stream",
          "name": "stdout",
          "text": [
            "Epoch 1/20\n",
            "7/7 [==============================] - 2s 55ms/step - loss: 0.7486 - accuracy: 0.4400 - val_loss: 0.7201 - val_accuracy: 0.4807\n",
            "Epoch 2/20\n",
            "7/7 [==============================] - 0s 17ms/step - loss: 0.7169 - accuracy: 0.4750 - val_loss: 0.6954 - val_accuracy: 0.5391\n",
            "Epoch 3/20\n",
            "7/7 [==============================] - 0s 17ms/step - loss: 0.6900 - accuracy: 0.5550 - val_loss: 0.6734 - val_accuracy: 0.6142\n",
            "Epoch 4/20\n",
            "7/7 [==============================] - 0s 18ms/step - loss: 0.6644 - accuracy: 0.6700 - val_loss: 0.6576 - val_accuracy: 0.6855\n",
            "Epoch 5/20\n",
            "7/7 [==============================] - 0s 16ms/step - loss: 0.6469 - accuracy: 0.7400 - val_loss: 0.6431 - val_accuracy: 0.7290\n",
            "Epoch 6/20\n",
            "7/7 [==============================] - 0s 16ms/step - loss: 0.6310 - accuracy: 0.7750 - val_loss: 0.6311 - val_accuracy: 0.7666\n",
            "Epoch 7/20\n",
            "7/7 [==============================] - 0s 16ms/step - loss: 0.6176 - accuracy: 0.8150 - val_loss: 0.6194 - val_accuracy: 0.7982\n",
            "Epoch 8/20\n",
            "7/7 [==============================] - 0s 18ms/step - loss: 0.6061 - accuracy: 0.8550 - val_loss: 0.6081 - val_accuracy: 0.8249\n",
            "Epoch 9/20\n",
            "7/7 [==============================] - 0s 17ms/step - loss: 0.5933 - accuracy: 0.8750 - val_loss: 0.5976 - val_accuracy: 0.8348\n",
            "Epoch 10/20\n",
            "7/7 [==============================] - 0s 17ms/step - loss: 0.5820 - accuracy: 0.8750 - val_loss: 0.5873 - val_accuracy: 0.8437\n",
            "Epoch 11/20\n",
            "7/7 [==============================] - 0s 17ms/step - loss: 0.5707 - accuracy: 0.9000 - val_loss: 0.5771 - val_accuracy: 0.8536\n",
            "Epoch 12/20\n",
            "7/7 [==============================] - 0s 16ms/step - loss: 0.5592 - accuracy: 0.9300 - val_loss: 0.5663 - val_accuracy: 0.8595\n",
            "Epoch 13/20\n",
            "7/7 [==============================] - 0s 16ms/step - loss: 0.5475 - accuracy: 0.9400 - val_loss: 0.5567 - val_accuracy: 0.8635\n",
            "Epoch 14/20\n",
            "7/7 [==============================] - 0s 16ms/step - loss: 0.5368 - accuracy: 0.9400 - val_loss: 0.5467 - val_accuracy: 0.8694\n",
            "Epoch 15/20\n",
            "7/7 [==============================] - 0s 16ms/step - loss: 0.5261 - accuracy: 0.9350 - val_loss: 0.5363 - val_accuracy: 0.8833\n",
            "Epoch 16/20\n",
            "7/7 [==============================] - 0s 16ms/step - loss: 0.5152 - accuracy: 0.9400 - val_loss: 0.5264 - val_accuracy: 0.8932\n",
            "Epoch 17/20\n",
            "7/7 [==============================] - 0s 17ms/step - loss: 0.5044 - accuracy: 0.9400 - val_loss: 0.5168 - val_accuracy: 0.8961\n",
            "Epoch 18/20\n",
            "7/7 [==============================] - 0s 17ms/step - loss: 0.4938 - accuracy: 0.9450 - val_loss: 0.5063 - val_accuracy: 0.9050\n",
            "Epoch 19/20\n",
            "7/7 [==============================] - 0s 17ms/step - loss: 0.4829 - accuracy: 0.9400 - val_loss: 0.4965 - val_accuracy: 0.9139\n",
            "Epoch 20/20\n",
            "7/7 [==============================] - 0s 17ms/step - loss: 0.4731 - accuracy: 0.9400 - val_loss: 0.4877 - val_accuracy: 0.9179\n",
            "63/63 [==============================] - 0s 2ms/step - loss: 4.0101\n"
          ]
        },
        {
          "output_type": "execute_result",
          "data": {
            "text/plain": [
              "4.010115146636963"
            ]
          },
          "metadata": {},
          "execution_count": 31
        }
      ]
    },
    {
      "cell_type": "code",
      "source": [
        "model_A = tf.keras.models.load_model(\"my_model_A\")\n",
        "model_B_on_A = tf.keras.Sequential(model_A.layers[:-1])         # output layeri goturme\n",
        "model_B_on_A.add(tf.keras.layers.Dense(1, activation='sigmoid'))      # onun yerine bunu elave et\n"
      ],
      "metadata": {
        "id": "NFUmSuqy9MEv"
      },
      "execution_count": null,
      "outputs": []
    },
    {
      "cell_type": "code",
      "source": [
        "tf.random.set_seed(42)"
      ],
      "metadata": {
        "id": "dmj8dv9t-TAS"
      },
      "execution_count": null,
      "outputs": []
    },
    {
      "cell_type": "code",
      "source": [
        "model_A_clone = tf.keras.models.clone_model(model_A)\n",
        "model_A_clone.set_weights(model_A.get_weights())          # A modelinin clonunu gotururuk ki, B_on_A-i yeniden fit etsek, A-nin parametrleri yeniden deyishecek. Ona gore clone yaradiriq ve A modelinin weight-lerini gotururuk"
      ],
      "metadata": {
        "id": "RToc14_1-eZh"
      },
      "execution_count": null,
      "outputs": []
    },
    {
      "cell_type": "code",
      "source": [
        "model_B_on_A = tf.keras.Sequential(model_A_clone.layers[:-1])\n",
        "model_B_on_A.add(tf.keras.layers.Dense(1, activation='sigmoid'))"
      ],
      "metadata": {
        "id": "2Bu9Ccd6-ppm"
      },
      "execution_count": null,
      "outputs": []
    },
    {
      "cell_type": "code",
      "source": [
        "for layer in model_B_on_A.layers[:-1]:\n",
        "  layer.traniable = False                                     # bele edirik ki, A modelinin parametrleri deyishmesin\n",
        "\n",
        "optimizer = tf.keras.optimizers.SGD(learning_rate=1e-3)\n",
        "model_B_on_A.compile(loss='binary_crossentropy', optimizer=optimizer,\n",
        "                     metrics=['accuracy'])\n",
        "\n",
        "history = model_B_on_A.fit(X_train_B, y_train_B, epochs=4,\n",
        "                           validation_data=(X_valid_B, y_valid_B))"
      ],
      "metadata": {
        "colab": {
          "base_uri": "https://localhost:8080/"
        },
        "id": "YnNz4YTN_4Dk",
        "outputId": "a7676bfb-6e91-4c6d-c754-8eefbd339647"
      },
      "execution_count": null,
      "outputs": [
        {
          "output_type": "stream",
          "name": "stdout",
          "text": [
            "Epoch 1/4\n",
            "7/7 [==============================] - 1s 70ms/step - loss: 0.6533 - accuracy: 0.6950 - val_loss: 0.5480 - val_accuracy: 0.7517\n",
            "Epoch 2/4\n",
            "7/7 [==============================] - 0s 33ms/step - loss: 0.4935 - accuracy: 0.7900 - val_loss: 0.5009 - val_accuracy: 0.8150\n",
            "Epoch 3/4\n",
            "7/7 [==============================] - 0s 25ms/step - loss: 0.4502 - accuracy: 0.8400 - val_loss: 0.4742 - val_accuracy: 0.8348\n",
            "Epoch 4/4\n",
            "7/7 [==============================] - 0s 25ms/step - loss: 0.4171 - accuracy: 0.8700 - val_loss: 0.4413 - val_accuracy: 0.8645\n"
          ]
        }
      ]
    },
    {
      "cell_type": "code",
      "source": [
        "for layer in model_B_on_A.layers[:-1]:\n",
        "  layer.trainable = True\n",
        "\n",
        "optimizer = tf.keras.optimizers.SGD(learning_rate=1e-3)\n",
        "model_B_on_A.compile(loss='binary_crossentropy', optimizer=optimizer,\n",
        "                     metrics='accuracy')\n",
        "history = model_B_on_A.fit(X_train_B, y_train_B, epochs=16, validation_data=(X_valid_B, y_valid_B))"
      ],
      "metadata": {
        "colab": {
          "base_uri": "https://localhost:8080/"
        },
        "id": "3RKSVoHlARo6",
        "outputId": "6b101db8-b639-4006-bfe7-4c227574b5e2"
      },
      "execution_count": null,
      "outputs": [
        {
          "output_type": "stream",
          "name": "stdout",
          "text": [
            "Epoch 1/16\n",
            "7/7 [==============================] - 1s 40ms/step - loss: 0.3943 - accuracy: 0.8750 - val_loss: 0.4239 - val_accuracy: 0.8605\n",
            "Epoch 2/16\n",
            "7/7 [==============================] - 0s 18ms/step - loss: 0.3727 - accuracy: 0.8900 - val_loss: 0.3982 - val_accuracy: 0.8882\n",
            "Epoch 3/16\n",
            "7/7 [==============================] - 0s 16ms/step - loss: 0.3500 - accuracy: 0.9050 - val_loss: 0.3829 - val_accuracy: 0.8971\n",
            "Epoch 4/16\n",
            "7/7 [==============================] - 0s 16ms/step - loss: 0.3336 - accuracy: 0.9150 - val_loss: 0.3663 - val_accuracy: 0.9060\n",
            "Epoch 5/16\n",
            "7/7 [==============================] - 0s 17ms/step - loss: 0.3194 - accuracy: 0.9250 - val_loss: 0.3546 - val_accuracy: 0.9011\n",
            "Epoch 6/16\n",
            "7/7 [==============================] - 0s 17ms/step - loss: 0.3105 - accuracy: 0.9350 - val_loss: 0.3421 - val_accuracy: 0.9139\n",
            "Epoch 7/16\n",
            "7/7 [==============================] - 0s 17ms/step - loss: 0.2961 - accuracy: 0.9300 - val_loss: 0.3425 - val_accuracy: 0.9001\n",
            "Epoch 8/16\n",
            "7/7 [==============================] - 0s 17ms/step - loss: 0.2940 - accuracy: 0.9300 - val_loss: 0.3242 - val_accuracy: 0.9199\n",
            "Epoch 9/16\n",
            "7/7 [==============================] - 0s 16ms/step - loss: 0.2774 - accuracy: 0.9450 - val_loss: 0.3133 - val_accuracy: 0.9199\n",
            "Epoch 10/16\n",
            "7/7 [==============================] - 0s 17ms/step - loss: 0.2689 - accuracy: 0.9450 - val_loss: 0.3060 - val_accuracy: 0.9219\n",
            "Epoch 11/16\n",
            "7/7 [==============================] - 0s 31ms/step - loss: 0.2620 - accuracy: 0.9450 - val_loss: 0.3006 - val_accuracy: 0.9238\n",
            "Epoch 12/16\n",
            "7/7 [==============================] - 0s 16ms/step - loss: 0.2551 - accuracy: 0.9500 - val_loss: 0.2930 - val_accuracy: 0.9238\n",
            "Epoch 13/16\n",
            "7/7 [==============================] - 0s 16ms/step - loss: 0.2483 - accuracy: 0.9500 - val_loss: 0.2873 - val_accuracy: 0.9268\n",
            "Epoch 14/16\n",
            "7/7 [==============================] - 0s 17ms/step - loss: 0.2439 - accuracy: 0.9550 - val_loss: 0.2830 - val_accuracy: 0.9278\n",
            "Epoch 15/16\n",
            "7/7 [==============================] - 0s 17ms/step - loss: 0.2383 - accuracy: 0.9500 - val_loss: 0.2775 - val_accuracy: 0.9318\n",
            "Epoch 16/16\n",
            "7/7 [==============================] - 0s 16ms/step - loss: 0.2330 - accuracy: 0.9500 - val_loss: 0.2725 - val_accuracy: 0.9308\n"
          ]
        }
      ]
    },
    {
      "cell_type": "code",
      "source": [
        "model_B_on_A.evaluate(X_test_B, y_test_B)"
      ],
      "metadata": {
        "colab": {
          "base_uri": "https://localhost:8080/"
        },
        "id": "cviEFtecDF2x",
        "outputId": "bd9a027e-2d59-4d46-ba88-7cad32f9c774"
      },
      "execution_count": null,
      "outputs": [
        {
          "output_type": "stream",
          "name": "stdout",
          "text": [
            "63/63 [==============================] - 0s 2ms/step - loss: 0.2862 - accuracy: 0.9085\n"
          ]
        },
        {
          "output_type": "execute_result",
          "data": {
            "text/plain": [
              "[0.286216139793396, 0.9085000157356262]"
            ]
          },
          "metadata": {},
          "execution_count": 38
        }
      ]
    },
    {
      "cell_type": "code",
      "source": [
        "(1 - (100 - 93.67) / (100 - 88.33)) * 100"
      ],
      "metadata": {
        "colab": {
          "base_uri": "https://localhost:8080/"
        },
        "id": "zWFIbTg5Du3w",
        "outputId": "b4916d8c-f759-4283-a3b3-63878fba8781"
      },
      "execution_count": null,
      "outputs": [
        {
          "output_type": "execute_result",
          "data": {
            "text/plain": [
              "45.75835475578408"
            ]
          },
          "metadata": {},
          "execution_count": 39
        }
      ]
    },
    {
      "cell_type": "code",
      "source": [
        "def build_model(seed=42):\n",
        "  tf.random.set_seed(seed)\n",
        "  return tf.keras.Sequential([\n",
        "      tf.keras.layers.Flatten(input_shape=[28, 28]),\n",
        "      tf.keras.layers.Dense(100, activation='relu',\n",
        "                            kernel_initializer='he_normal'),\n",
        "      tf.keras.layers.Dense(100, activation='relu',\n",
        "                            kernel_initializer='he_normal'),\n",
        "      tf.keras.layers.Dense(100, activation='relu',\n",
        "                            kernel_initializer='he_normal'),\n",
        "      tf.keras.layers.Dense(10, activation='softmax')\n",
        "  ])\n",
        "\n",
        "def build_and_train_model(optimizer):\n",
        "  model = build_model()\n",
        "  model.compile(loss='sparse_categorical_crossentropy',optimizer=optimizer,\n",
        "                metrics=['accuracy'])\n",
        "  return model.fit(X_train, y_train, epochs=10,\n",
        "                   validation_data=(X_valid, y_valid))"
      ],
      "metadata": {
        "id": "cWWe3B-CHdZ4"
      },
      "execution_count": null,
      "outputs": []
    },
    {
      "cell_type": "markdown",
      "source": [
        "# Momentum optimization"
      ],
      "metadata": {
        "id": "a8dTVWX8JOY3"
      }
    },
    {
      "cell_type": "code",
      "source": [
        "optimizer = tf.keras.optimizers.SGD(learning_rate=1e-3, momentum=0.9)"
      ],
      "metadata": {
        "id": "lhDW4hLUKEdj"
      },
      "execution_count": null,
      "outputs": []
    },
    {
      "cell_type": "code",
      "source": [
        "history_sgd = build_and_train_model(optimizer)"
      ],
      "metadata": {
        "colab": {
          "base_uri": "https://localhost:8080/"
        },
        "id": "Q7brz0TJKLFG",
        "outputId": "16b38a62-b558-4817-c35d-5848859cc6e9"
      },
      "execution_count": null,
      "outputs": [
        {
          "output_type": "stream",
          "name": "stdout",
          "text": [
            "Epoch 1/10\n",
            "1719/1719 [==============================] - 7s 4ms/step - loss: 0.7135 - accuracy: 0.7582 - val_loss: 0.5037 - val_accuracy: 0.8174\n",
            "Epoch 2/10\n",
            "1719/1719 [==============================] - 6s 3ms/step - loss: 0.4745 - accuracy: 0.8337 - val_loss: 0.4511 - val_accuracy: 0.8364\n",
            "Epoch 3/10\n",
            "1719/1719 [==============================] - 5s 3ms/step - loss: 0.4267 - accuracy: 0.8486 - val_loss: 0.4237 - val_accuracy: 0.8502\n",
            "Epoch 4/10\n",
            "1719/1719 [==============================] - 6s 3ms/step - loss: 0.3980 - accuracy: 0.8610 - val_loss: 0.3837 - val_accuracy: 0.8594\n",
            "Epoch 5/10\n",
            "1719/1719 [==============================] - 5s 3ms/step - loss: 0.3760 - accuracy: 0.8665 - val_loss: 0.3653 - val_accuracy: 0.8642\n",
            "Epoch 6/10\n",
            "1719/1719 [==============================] - 6s 4ms/step - loss: 0.3621 - accuracy: 0.8698 - val_loss: 0.3656 - val_accuracy: 0.8652\n",
            "Epoch 7/10\n",
            "1719/1719 [==============================] - 5s 3ms/step - loss: 0.3451 - accuracy: 0.8761 - val_loss: 0.3683 - val_accuracy: 0.8646\n",
            "Epoch 8/10\n",
            "1719/1719 [==============================] - 6s 4ms/step - loss: 0.3354 - accuracy: 0.8786 - val_loss: 0.3485 - val_accuracy: 0.8728\n",
            "Epoch 9/10\n",
            "1719/1719 [==============================] - 5s 3ms/step - loss: 0.3267 - accuracy: 0.8816 - val_loss: 0.3642 - val_accuracy: 0.8648\n",
            "Epoch 10/10\n",
            "1719/1719 [==============================] - 6s 3ms/step - loss: 0.3157 - accuracy: 0.8857 - val_loss: 0.3627 - val_accuracy: 0.8656\n"
          ]
        }
      ]
    },
    {
      "cell_type": "markdown",
      "source": [
        "# Nesterov Accelerated Gradient"
      ],
      "metadata": {
        "id": "doYBjkiIM2cd"
      }
    },
    {
      "cell_type": "code",
      "source": [
        "optimizer = tf.keras.optimizers.SGD(learning_rate=1e-3, momentum=0.9,\n",
        "                                    nesterov = True)"
      ],
      "metadata": {
        "id": "oeo1VHiyKPCF"
      },
      "execution_count": null,
      "outputs": []
    },
    {
      "cell_type": "code",
      "source": [
        "history_nesterov = build_and_train_model(optimizer)"
      ],
      "metadata": {
        "colab": {
          "base_uri": "https://localhost:8080/"
        },
        "id": "KPrG8v6YL8NY",
        "outputId": "82fbd4b8-bb29-4f84-8ba5-5024e5b628aa"
      },
      "execution_count": null,
      "outputs": [
        {
          "output_type": "stream",
          "name": "stdout",
          "text": [
            "Epoch 1/10\n",
            "1719/1719 [==============================] - 7s 3ms/step - loss: 0.6857 - accuracy: 0.7627 - val_loss: 0.4913 - val_accuracy: 0.8248\n",
            "Epoch 2/10\n",
            "1719/1719 [==============================] - 6s 3ms/step - loss: 0.4596 - accuracy: 0.8381 - val_loss: 0.4313 - val_accuracy: 0.8404\n",
            "Epoch 3/10\n",
            "1719/1719 [==============================] - 5s 3ms/step - loss: 0.4156 - accuracy: 0.8533 - val_loss: 0.3986 - val_accuracy: 0.8558\n",
            "Epoch 4/10\n",
            "1719/1719 [==============================] - 6s 4ms/step - loss: 0.3904 - accuracy: 0.8628 - val_loss: 0.3806 - val_accuracy: 0.8654\n",
            "Epoch 5/10\n",
            "1719/1719 [==============================] - 6s 3ms/step - loss: 0.3693 - accuracy: 0.8702 - val_loss: 0.3677 - val_accuracy: 0.8634\n",
            "Epoch 6/10\n",
            "1719/1719 [==============================] - 6s 4ms/step - loss: 0.3559 - accuracy: 0.8735 - val_loss: 0.3772 - val_accuracy: 0.8654\n",
            "Epoch 7/10\n",
            "1719/1719 [==============================] - 5s 3ms/step - loss: 0.3419 - accuracy: 0.8769 - val_loss: 0.3655 - val_accuracy: 0.8648\n",
            "Epoch 8/10\n",
            "1719/1719 [==============================] - 6s 4ms/step - loss: 0.3321 - accuracy: 0.8806 - val_loss: 0.3627 - val_accuracy: 0.8638\n",
            "Epoch 9/10\n",
            "1719/1719 [==============================] - 6s 3ms/step - loss: 0.3230 - accuracy: 0.8835 - val_loss: 0.3500 - val_accuracy: 0.8676\n",
            "Epoch 10/10\n",
            "1719/1719 [==============================] - 6s 4ms/step - loss: 0.3134 - accuracy: 0.8869 - val_loss: 0.3551 - val_accuracy: 0.8746\n"
          ]
        }
      ]
    },
    {
      "cell_type": "markdown",
      "source": [
        "#AdaGrad"
      ],
      "metadata": {
        "id": "vzDG3Z5OMAJ6"
      }
    },
    {
      "cell_type": "code",
      "source": [
        "optimizer = tf.keras.optimizers.Adagrad(learning_rate=1e-3)         # her parametr uchun ayri learning_rate yaradir     amma global minimuma chatmir"
      ],
      "metadata": {
        "id": "ACS5VPSwNWrz"
      },
      "execution_count": null,
      "outputs": []
    },
    {
      "cell_type": "code",
      "source": [
        "history_adagrad = build_and_train_model(optimizer)"
      ],
      "metadata": {
        "colab": {
          "base_uri": "https://localhost:8080/"
        },
        "id": "hFWC1e5nNbkh",
        "outputId": "cd204333-a680-419e-ba0c-1cfbeccb29c0"
      },
      "execution_count": null,
      "outputs": [
        {
          "output_type": "stream",
          "name": "stdout",
          "text": [
            "Epoch 1/10\n",
            "1719/1719 [==============================] - 6s 3ms/step - loss: 1.0000 - accuracy: 0.6848 - val_loss: 0.6907 - val_accuracy: 0.7658\n",
            "Epoch 2/10\n",
            "1719/1719 [==============================] - 6s 4ms/step - loss: 0.6499 - accuracy: 0.7790 - val_loss: 0.5919 - val_accuracy: 0.7914\n",
            "Epoch 3/10\n",
            "1719/1719 [==============================] - 6s 3ms/step - loss: 0.5837 - accuracy: 0.7992 - val_loss: 0.5488 - val_accuracy: 0.8080\n",
            "Epoch 4/10\n",
            "1719/1719 [==============================] - 6s 4ms/step - loss: 0.5481 - accuracy: 0.8131 - val_loss: 0.5244 - val_accuracy: 0.8174\n",
            "Epoch 5/10\n",
            "1719/1719 [==============================] - 6s 3ms/step - loss: 0.5242 - accuracy: 0.8195 - val_loss: 0.5054 - val_accuracy: 0.8228\n",
            "Epoch 6/10\n",
            "1719/1719 [==============================] - 6s 4ms/step - loss: 0.5069 - accuracy: 0.8258 - val_loss: 0.4930 - val_accuracy: 0.8254\n",
            "Epoch 7/10\n",
            "1719/1719 [==============================] - 6s 3ms/step - loss: 0.4933 - accuracy: 0.8303 - val_loss: 0.4786 - val_accuracy: 0.8308\n",
            "Epoch 8/10\n",
            "1719/1719 [==============================] - 6s 4ms/step - loss: 0.4823 - accuracy: 0.8334 - val_loss: 0.4703 - val_accuracy: 0.8322\n",
            "Epoch 9/10\n",
            "1719/1719 [==============================] - 6s 3ms/step - loss: 0.4729 - accuracy: 0.8367 - val_loss: 0.4631 - val_accuracy: 0.8336\n",
            "Epoch 10/10\n",
            "1719/1719 [==============================] - 6s 4ms/step - loss: 0.4648 - accuracy: 0.8386 - val_loss: 0.4560 - val_accuracy: 0.8384\n"
          ]
        }
      ]
    },
    {
      "cell_type": "markdown",
      "source": [
        "# RMSProp"
      ],
      "metadata": {
        "id": "4PRm6pDHNfOi"
      }
    },
    {
      "cell_type": "code",
      "source": [
        "optimizer = tf.keras.optimizers.RMSprop(learning_rate=1e-3, rho=0.9)"
      ],
      "metadata": {
        "id": "iaw4uyPxN1ss"
      },
      "execution_count": null,
      "outputs": []
    },
    {
      "cell_type": "code",
      "source": [
        "history_rmsprop = build_and_train_model(optimizer)"
      ],
      "metadata": {
        "colab": {
          "base_uri": "https://localhost:8080/"
        },
        "id": "0RL-FjMHN9es",
        "outputId": "6133a50e-49cc-4f9c-cc83-46ac05136730"
      },
      "execution_count": null,
      "outputs": [
        {
          "output_type": "stream",
          "name": "stdout",
          "text": [
            "Epoch 1/10\n",
            "1719/1719 [==============================] - 7s 3ms/step - loss: 0.5135 - accuracy: 0.8147 - val_loss: 0.4547 - val_accuracy: 0.8344\n",
            "Epoch 2/10\n",
            "1719/1719 [==============================] - 6s 4ms/step - loss: 0.3913 - accuracy: 0.8589 - val_loss: 0.4651 - val_accuracy: 0.8342\n",
            "Epoch 3/10\n",
            "1719/1719 [==============================] - 6s 3ms/step - loss: 0.3649 - accuracy: 0.8691 - val_loss: 0.4249 - val_accuracy: 0.8576\n",
            "Epoch 4/10\n",
            "1719/1719 [==============================] - 6s 4ms/step - loss: 0.3577 - accuracy: 0.8753 - val_loss: 0.3660 - val_accuracy: 0.8758\n",
            "Epoch 5/10\n",
            "1719/1719 [==============================] - 5s 3ms/step - loss: 0.3479 - accuracy: 0.8780 - val_loss: 0.4186 - val_accuracy: 0.8510\n",
            "Epoch 6/10\n",
            "1719/1719 [==============================] - 6s 4ms/step - loss: 0.3458 - accuracy: 0.8808 - val_loss: 0.4514 - val_accuracy: 0.8650\n",
            "Epoch 7/10\n",
            "1719/1719 [==============================] - 6s 3ms/step - loss: 0.3457 - accuracy: 0.8806 - val_loss: 0.4114 - val_accuracy: 0.8698\n",
            "Epoch 8/10\n",
            "1719/1719 [==============================] - 6s 4ms/step - loss: 0.3463 - accuracy: 0.8819 - val_loss: 0.4061 - val_accuracy: 0.8690\n",
            "Epoch 9/10\n",
            "1719/1719 [==============================] - 6s 3ms/step - loss: 0.3437 - accuracy: 0.8838 - val_loss: 0.4198 - val_accuracy: 0.8766\n",
            "Epoch 10/10\n",
            "1719/1719 [==============================] - 6s 3ms/step - loss: 0.3412 - accuracy: 0.8844 - val_loss: 0.4139 - val_accuracy: 0.8740\n"
          ]
        }
      ]
    },
    {
      "cell_type": "markdown",
      "source": [
        "# Adam Optimization"
      ],
      "metadata": {
        "id": "45OHqiPhOBKx"
      }
    },
    {
      "cell_type": "code",
      "source": [
        "optimizer = tf.keras.optimizers.Adam(learning_rate=1e-3, beta_1=0.9,    # momentum\n",
        "                                     beta_2 = 0.999)  # RMSProp\n",
        "history_adam = build_and_train_model(optimizer)"
      ],
      "metadata": {
        "colab": {
          "base_uri": "https://localhost:8080/"
        },
        "id": "MucY3A4pO9C9",
        "outputId": "06058430-ead0-486d-82b0-4885c3538d58"
      },
      "execution_count": null,
      "outputs": [
        {
          "output_type": "stream",
          "name": "stdout",
          "text": [
            "Epoch 1/10\n",
            "1719/1719 [==============================] - 8s 3ms/step - loss: 0.5004 - accuracy: 0.8216 - val_loss: 0.4461 - val_accuracy: 0.8296\n",
            "Epoch 2/10\n",
            "1719/1719 [==============================] - 6s 4ms/step - loss: 0.3768 - accuracy: 0.8626 - val_loss: 0.4012 - val_accuracy: 0.8504\n",
            "Epoch 3/10\n",
            "1719/1719 [==============================] - 6s 3ms/step - loss: 0.3396 - accuracy: 0.8746 - val_loss: 0.3409 - val_accuracy: 0.8758\n",
            "Epoch 4/10\n",
            "1719/1719 [==============================] - 6s 4ms/step - loss: 0.3172 - accuracy: 0.8829 - val_loss: 0.3572 - val_accuracy: 0.8678\n",
            "Epoch 5/10\n",
            "1719/1719 [==============================] - 6s 3ms/step - loss: 0.2987 - accuracy: 0.8891 - val_loss: 0.3418 - val_accuracy: 0.8760\n",
            "Epoch 6/10\n",
            "1719/1719 [==============================] - 6s 4ms/step - loss: 0.2835 - accuracy: 0.8951 - val_loss: 0.3672 - val_accuracy: 0.8686\n",
            "Epoch 7/10\n",
            "1719/1719 [==============================] - 6s 3ms/step - loss: 0.2724 - accuracy: 0.8968 - val_loss: 0.3458 - val_accuracy: 0.8808\n",
            "Epoch 8/10\n",
            "1719/1719 [==============================] - 6s 4ms/step - loss: 0.2628 - accuracy: 0.9003 - val_loss: 0.3345 - val_accuracy: 0.8802\n",
            "Epoch 9/10\n",
            "1719/1719 [==============================] - 6s 3ms/step - loss: 0.2537 - accuracy: 0.9044 - val_loss: 0.3586 - val_accuracy: 0.8730\n",
            "Epoch 10/10\n",
            "1719/1719 [==============================] - 6s 4ms/step - loss: 0.2432 - accuracy: 0.9084 - val_loss: 0.3685 - val_accuracy: 0.8748\n"
          ]
        }
      ]
    },
    {
      "cell_type": "markdown",
      "source": [
        "# Adamax Optimization"
      ],
      "metadata": {
        "id": "1Nnejx0APNzo"
      }
    },
    {
      "cell_type": "code",
      "source": [
        "optimizer = tf.keras.optimizers.Adamax(learning_rate=1e-3, beta_1=0.9,\n",
        "                                       beta_2 = 0.999)\n",
        "history_adamax = build_and_train_model(optimizer)"
      ],
      "metadata": {
        "colab": {
          "base_uri": "https://localhost:8080/"
        },
        "id": "QwF5jNetP_ej",
        "outputId": "db16bfad-072e-4efc-a64b-d3846be4ca39"
      },
      "execution_count": null,
      "outputs": [
        {
          "output_type": "stream",
          "name": "stdout",
          "text": [
            "Epoch 1/10\n",
            "1719/1719 [==============================] - 7s 3ms/step - loss: 0.5351 - accuracy: 0.8117 - val_loss: 0.4433 - val_accuracy: 0.8334\n",
            "Epoch 2/10\n",
            "1719/1719 [==============================] - 6s 4ms/step - loss: 0.3970 - accuracy: 0.8582 - val_loss: 0.3983 - val_accuracy: 0.8530\n",
            "Epoch 3/10\n",
            "1719/1719 [==============================] - 6s 3ms/step - loss: 0.3590 - accuracy: 0.8704 - val_loss: 0.3671 - val_accuracy: 0.8686\n",
            "Epoch 4/10\n",
            "1719/1719 [==============================] - 6s 4ms/step - loss: 0.3333 - accuracy: 0.8800 - val_loss: 0.3478 - val_accuracy: 0.8742\n",
            "Epoch 5/10\n",
            "1719/1719 [==============================] - 6s 3ms/step - loss: 0.3139 - accuracy: 0.8852 - val_loss: 0.3290 - val_accuracy: 0.8766\n",
            "Epoch 6/10\n",
            "1719/1719 [==============================] - 6s 4ms/step - loss: 0.3000 - accuracy: 0.8907 - val_loss: 0.3337 - val_accuracy: 0.8806\n",
            "Epoch 7/10\n",
            "1719/1719 [==============================] - 6s 3ms/step - loss: 0.2871 - accuracy: 0.8938 - val_loss: 0.3466 - val_accuracy: 0.8742\n",
            "Epoch 8/10\n",
            "1719/1719 [==============================] - 6s 4ms/step - loss: 0.2761 - accuracy: 0.8979 - val_loss: 0.3207 - val_accuracy: 0.8836\n",
            "Epoch 9/10\n",
            "1719/1719 [==============================] - 7s 4ms/step - loss: 0.2670 - accuracy: 0.9025 - val_loss: 0.3470 - val_accuracy: 0.8692\n",
            "Epoch 10/10\n",
            "1719/1719 [==============================] - 10s 6ms/step - loss: 0.2563 - accuracy: 0.9052 - val_loss: 0.3597 - val_accuracy: 0.8712\n"
          ]
        }
      ]
    },
    {
      "cell_type": "markdown",
      "source": [
        "# Nadam"
      ],
      "metadata": {
        "id": "dOAgbqDuQLoJ"
      }
    },
    {
      "cell_type": "markdown",
      "source": [
        "#AdamW Optimization"
      ],
      "metadata": {
        "id": "slxtrXTLQa6N"
      }
    },
    {
      "cell_type": "code",
      "source": [
        "optimizer = tf.keras.optimizers.AdamW(weight_decay=1e-5, learning_rate=1e-3,\n",
        "                                      beta_1=0.9, beta_2=0.999)\n",
        "history_adamw = build_and_train_model(optimizer)                                # chox deep network ishledirikse AdamW de ishlede bilerik"
      ],
      "metadata": {
        "colab": {
          "base_uri": "https://localhost:8080/"
        },
        "id": "I54mLfaJQdFD",
        "outputId": "c9fdc52b-0599-44fd-9c48-0c381eedd7aa"
      },
      "execution_count": null,
      "outputs": [
        {
          "output_type": "stream",
          "name": "stdout",
          "text": [
            "Epoch 1/10\n",
            "1719/1719 [==============================] - 9s 4ms/step - loss: 0.5044 - accuracy: 0.8206 - val_loss: 0.4090 - val_accuracy: 0.8394\n",
            "Epoch 2/10\n",
            "1719/1719 [==============================] - 7s 4ms/step - loss: 0.3761 - accuracy: 0.8626 - val_loss: 0.3810 - val_accuracy: 0.8550\n",
            "Epoch 3/10\n",
            "1719/1719 [==============================] - 9s 5ms/step - loss: 0.3421 - accuracy: 0.8746 - val_loss: 0.3525 - val_accuracy: 0.8740\n",
            "Epoch 4/10\n",
            "1719/1719 [==============================] - 6s 4ms/step - loss: 0.3166 - accuracy: 0.8839 - val_loss: 0.3309 - val_accuracy: 0.8728\n",
            "Epoch 5/10\n",
            "1719/1719 [==============================] - 7s 4ms/step - loss: 0.2966 - accuracy: 0.8892 - val_loss: 0.3368 - val_accuracy: 0.8730\n",
            "Epoch 6/10\n",
            "1719/1719 [==============================] - 6s 4ms/step - loss: 0.2816 - accuracy: 0.8956 - val_loss: 0.3421 - val_accuracy: 0.8736\n",
            "Epoch 7/10\n",
            "1719/1719 [==============================] - 7s 4ms/step - loss: 0.2724 - accuracy: 0.8974 - val_loss: 0.3315 - val_accuracy: 0.8824\n",
            "Epoch 8/10\n",
            "1719/1719 [==============================] - 6s 4ms/step - loss: 0.2586 - accuracy: 0.9025 - val_loss: 0.3241 - val_accuracy: 0.8826\n",
            "Epoch 9/10\n",
            "1719/1719 [==============================] - 7s 4ms/step - loss: 0.2526 - accuracy: 0.9051 - val_loss: 0.3403 - val_accuracy: 0.8806\n",
            "Epoch 10/10\n",
            "1719/1719 [==============================] - 6s 4ms/step - loss: 0.2443 - accuracy: 0.9072 - val_loss: 0.3371 - val_accuracy: 0.8772\n"
          ]
        }
      ]
    },
    {
      "cell_type": "markdown",
      "source": [
        "# Learning rate scheduling\n",
        "\n",
        "# Power Scheduling"
      ],
      "metadata": {
        "id": "w98Fa3ZGQuj_"
      }
    },
    {
      "cell_type": "code",
      "source": [
        "# DEPRECATED:\n",
        "optimizer = tf.keras.optimizers.legacy.SGD(learning_rate=0.01, decay=1e-4)"
      ],
      "metadata": {
        "id": "WaPxeunUSKFa"
      },
      "execution_count": null,
      "outputs": []
    },
    {
      "cell_type": "code",
      "source": [
        "# REOMMENDED:\n",
        "lr_schedule = tf.keras.optimizers.schedules.InverseTimeDecay(\n",
        "    initial_learning_rate=0.01,\n",
        "    decay_steps=10_000,\n",
        "    decay_rate=1.0,\n",
        "    staircase=False\n",
        ")\n",
        "\n",
        "optimizer = tf.keras.optimizers.SGD(learning_rate=lr_schedule)"
      ],
      "metadata": {
        "id": "m7Uf4b1KSVzq"
      },
      "execution_count": null,
      "outputs": []
    },
    {
      "cell_type": "code",
      "source": [
        "history_power_scheduling = build_and_train_model(optimizer)"
      ],
      "metadata": {
        "colab": {
          "base_uri": "https://localhost:8080/"
        },
        "id": "sdk9SNbfSxAq",
        "outputId": "4d7671c5-b55c-4df0-a7bd-b6d475959e0e"
      },
      "execution_count": null,
      "outputs": [
        {
          "output_type": "stream",
          "name": "stdout",
          "text": [
            "Epoch 1/10\n",
            "1719/1719 [==============================] - 6s 3ms/step - loss: 0.6873 - accuracy: 0.7677 - val_loss: 0.4987 - val_accuracy: 0.8186\n",
            "Epoch 2/10\n",
            "1719/1719 [==============================] - 6s 4ms/step - loss: 0.4716 - accuracy: 0.8348 - val_loss: 0.4464 - val_accuracy: 0.8388\n",
            "Epoch 3/10\n",
            "1719/1719 [==============================] - 7s 4ms/step - loss: 0.4249 - accuracy: 0.8498 - val_loss: 0.4122 - val_accuracy: 0.8536\n",
            "Epoch 4/10\n",
            "1719/1719 [==============================] - 7s 4ms/step - loss: 0.4010 - accuracy: 0.8586 - val_loss: 0.3889 - val_accuracy: 0.8628\n",
            "Epoch 5/10\n",
            "1719/1719 [==============================] - 6s 3ms/step - loss: 0.3820 - accuracy: 0.8652 - val_loss: 0.3818 - val_accuracy: 0.8578\n",
            "Epoch 6/10\n",
            "1719/1719 [==============================] - 7s 4ms/step - loss: 0.3673 - accuracy: 0.8704 - val_loss: 0.3874 - val_accuracy: 0.8612\n",
            "Epoch 7/10\n",
            "1719/1719 [==============================] - 6s 3ms/step - loss: 0.3570 - accuracy: 0.8734 - val_loss: 0.3692 - val_accuracy: 0.8680\n",
            "Epoch 8/10\n",
            "1719/1719 [==============================] - 6s 4ms/step - loss: 0.3477 - accuracy: 0.8767 - val_loss: 0.3730 - val_accuracy: 0.8628\n",
            "Epoch 9/10\n",
            "1719/1719 [==============================] - 6s 3ms/step - loss: 0.3406 - accuracy: 0.8788 - val_loss: 0.3551 - val_accuracy: 0.8726\n",
            "Epoch 10/10\n",
            "1719/1719 [==============================] - 6s 4ms/step - loss: 0.3332 - accuracy: 0.8812 - val_loss: 0.3550 - val_accuracy: 0.8690\n"
          ]
        }
      ]
    },
    {
      "cell_type": "markdown",
      "source": [
        "# Exponential Scheduling"
      ],
      "metadata": {
        "id": "MjvYxUuiToZC"
      }
    },
    {
      "cell_type": "markdown",
      "source": [
        "# Avoiding Overfitting Through Regularization"
      ],
      "metadata": {
        "id": "9iRt9R4CT8eD"
      }
    },
    {
      "cell_type": "code",
      "source": [
        "layers = tf.keras.layers.Dense(100, activation='relu',\n",
        "                              kernel_initializer='he_normal',\n",
        "                              kernel_regularizer=tf.keras.regularizers.l2(0.01))"
      ],
      "metadata": {
        "id": "qLsQ_6G5Rmst"
      },
      "execution_count": null,
      "outputs": []
    },
    {
      "cell_type": "code",
      "source": [
        "tf.random.set_seed(42)"
      ],
      "metadata": {
        "id": "uu-_NxyvRz-q"
      },
      "execution_count": null,
      "outputs": []
    },
    {
      "cell_type": "code",
      "source": [
        "from functools import partial\n",
        "\n",
        "RegularizedDense = partial(tf.keras.layers.Dense,\n",
        "                          activation='relu',\n",
        "                          kernel_initializer='he_normal',\n",
        "                          kernel_regularizer= tf.keras.regularizers.l2(0.01))\n",
        "\n",
        "model = tf.keras.Sequential([\n",
        "    tf.keras.layers.Flatten(input_shape=[28, 28]),\n",
        "    RegularizedDense(100),\n",
        "    RegularizedDense(100),\n",
        "    RegularizedDense(10, activation='softmax')\n",
        "])"
      ],
      "metadata": {
        "id": "cvY2bhtxR88F"
      },
      "execution_count": null,
      "outputs": []
    },
    {
      "cell_type": "code",
      "source": [
        "optimizer= tf.keras.optimizers.SGD(learning_rate=2e-2)\n",
        "model.compile(loss='sparse_categorical_crossentropy', optimizer=optimizer,\n",
        "              metrics=['accuracy'])\n",
        "history = model.fit(X_train, y_train, epochs=2,\n",
        "                    validation_data=(X_valid, y_valid))"
      ],
      "metadata": {
        "colab": {
          "base_uri": "https://localhost:8080/"
        },
        "id": "VC0vKk0gSxy6",
        "outputId": "154bd72d-24a1-4825-cfa0-6d0fac0e0a59"
      },
      "execution_count": null,
      "outputs": [
        {
          "output_type": "stream",
          "name": "stdout",
          "text": [
            "Epoch 1/2\n",
            "1719/1719 [==============================] - 6s 3ms/step - loss: 3.1521 - accuracy: 0.7707 - val_loss: 1.8669 - val_accuracy: 0.8250\n",
            "Epoch 2/2\n",
            "1719/1719 [==============================] - 6s 3ms/step - loss: 1.4304 - accuracy: 0.8134 - val_loss: 1.1288 - val_accuracy: 0.8116\n"
          ]
        }
      ]
    },
    {
      "cell_type": "markdown",
      "source": [
        "# Dropout"
      ],
      "metadata": {
        "id": "VUyx56YWTdzq"
      }
    },
    {
      "cell_type": "code",
      "source": [
        "tf.random.set_seed(42)"
      ],
      "metadata": {
        "id": "pth6w5R-UrLI"
      },
      "execution_count": null,
      "outputs": []
    },
    {
      "cell_type": "code",
      "source": [
        "model = tf.keras.Sequential([\n",
        "    tf.keras.layers.Flatten(input_shape=[28, 28]),\n",
        "    tf.keras.layers.Dropout(rate=0.2),                                        # burda pixellerin 20%-ini atiriq\n",
        "    tf.keras.layers.Dense(100, activation='relu',\n",
        "                          kernel_initializer='he_normal'),\n",
        "    tf.keras.layers.Dropout(rate=0.2),                                        # burda amma neuronlarin 20%-ini\n",
        "    tf.keras.layers.Dense(100, activation='relu',\n",
        "                          kernel_initializer='he_normal'),\n",
        "    tf.keras.layers.Dropout(rate=0.2),\n",
        "    tf.keras.layers.Dense(10, activation='softmax')\n",
        "])"
      ],
      "metadata": {
        "id": "6De8UKcxVnLe"
      },
      "execution_count": null,
      "outputs": []
    },
    {
      "cell_type": "code",
      "source": [
        "optimizer = tf.keras.optimizers.SGD(learning_rate=1e-2,\n",
        "                                    momentum=0.9)\n",
        "model.compile(loss='sparse_categorical_crossentropy',\n",
        "              optimizer=optimizer,\n",
        "              metrics=['accuracy'])\n",
        "model.fit(X_train, y_train, epochs=10,\n",
        "          validation_data=(X_valid, y_valid))"
      ],
      "metadata": {
        "colab": {
          "base_uri": "https://localhost:8080/"
        },
        "id": "2BL2fxvUWEae",
        "outputId": "ed558764-ad69-4ab1-db39-02cec9fae359"
      },
      "execution_count": null,
      "outputs": [
        {
          "output_type": "stream",
          "name": "stdout",
          "text": [
            "Epoch 1/10\n",
            "1719/1719 [==============================] - 8s 3ms/step - loss: 0.6812 - accuracy: 0.7510 - val_loss: 0.4510 - val_accuracy: 0.8336\n",
            "Epoch 2/10\n",
            "1719/1719 [==============================] - 6s 3ms/step - loss: 0.5125 - accuracy: 0.8143 - val_loss: 0.4272 - val_accuracy: 0.8308\n",
            "Epoch 3/10\n",
            "1719/1719 [==============================] - 6s 3ms/step - loss: 0.4744 - accuracy: 0.8259 - val_loss: 0.3892 - val_accuracy: 0.8510\n",
            "Epoch 4/10\n",
            "1719/1719 [==============================] - 6s 3ms/step - loss: 0.4511 - accuracy: 0.8338 - val_loss: 0.3708 - val_accuracy: 0.8632\n",
            "Epoch 5/10\n",
            "1719/1719 [==============================] - 6s 3ms/step - loss: 0.4334 - accuracy: 0.8399 - val_loss: 0.3643 - val_accuracy: 0.8620\n",
            "Epoch 6/10\n",
            "1719/1719 [==============================] - 6s 3ms/step - loss: 0.4267 - accuracy: 0.8423 - val_loss: 0.3601 - val_accuracy: 0.8656\n",
            "Epoch 7/10\n",
            "1719/1719 [==============================] - 6s 3ms/step - loss: 0.4125 - accuracy: 0.8491 - val_loss: 0.3595 - val_accuracy: 0.8698\n",
            "Epoch 8/10\n",
            "1719/1719 [==============================] - 6s 3ms/step - loss: 0.4103 - accuracy: 0.8496 - val_loss: 0.3517 - val_accuracy: 0.8678\n",
            "Epoch 9/10\n",
            "1719/1719 [==============================] - 6s 4ms/step - loss: 0.4022 - accuracy: 0.8516 - val_loss: 0.3458 - val_accuracy: 0.8716\n",
            "Epoch 10/10\n",
            "1719/1719 [==============================] - 6s 3ms/step - loss: 0.3925 - accuracy: 0.8555 - val_loss: 0.3425 - val_accuracy: 0.8712\n"
          ]
        },
        {
          "output_type": "execute_result",
          "data": {
            "text/plain": [
              "<keras.src.callbacks.History at 0x7c567528f040>"
            ]
          },
          "metadata": {},
          "execution_count": 61
        }
      ]
    },
    {
      "cell_type": "markdown",
      "source": [
        "Dropout edenden sonra hem train hem test datasini evaluate etmek lazimdir. Chunki accuracy-e baxanda neuronlarin mueyyen hissesini atir, amma evaluate edende butun neuronlari istifade edir deye overfit edir"
      ],
      "metadata": {
        "id": "OUi-MGgfXQBm"
      }
    },
    {
      "cell_type": "code",
      "source": [
        "model.evaluate(X_train, y_train) , model.evaluate(X_valid, y_valid), model.evaluate(X_test, y_test)"
      ],
      "metadata": {
        "colab": {
          "base_uri": "https://localhost:8080/"
        },
        "id": "gryLpswQXGGn",
        "outputId": "51799f64-f1b1-49aa-bcbf-6d25c8fb46bb"
      },
      "execution_count": null,
      "outputs": [
        {
          "output_type": "stream",
          "name": "stdout",
          "text": [
            "1719/1719 [==============================] - 4s 3ms/step - loss: 0.3075 - accuracy: 0.8849\n",
            "157/157 [==============================] - 0s 2ms/step - loss: 0.3425 - accuracy: 0.8712\n",
            "313/313 [==============================] - 1s 2ms/step - loss: 0.3663 - accuracy: 0.8679\n"
          ]
        },
        {
          "output_type": "execute_result",
          "data": {
            "text/plain": [
              "([0.30745556950569153, 0.8848727345466614],\n",
              " [0.34246736764907837, 0.8712000250816345],\n",
              " [0.36625856161117554, 0.867900013923645])"
            ]
          },
          "metadata": {},
          "execution_count": 62
        }
      ]
    },
    {
      "cell_type": "markdown",
      "source": [
        "# MC Dropout"
      ],
      "metadata": {
        "id": "dcej5EVEXn1B"
      }
    },
    {
      "cell_type": "code",
      "source": [
        "tf.random.set_seed(42)"
      ],
      "metadata": {
        "id": "NvhJoGAiX3Vw"
      },
      "execution_count": null,
      "outputs": []
    },
    {
      "cell_type": "code",
      "source": [
        "y_probas = np.stack([model(X_test, training=True)         # training true o demekdi ki predict edende de butun neyronlari goturmesin, dropout elesin                  # np.stack hamisini birleshdirir\n",
        "                    for sample in range(100)])            # 100 defe o ishi tekrarlayir  (yani 100 defe predict edir)\n",
        "y_proba = y_probas.mean(axis=0)                     # 100 modelin texmininin ortalamasini qaytarir"
      ],
      "metadata": {
        "id": "X2ck3EpqX5ne"
      },
      "execution_count": null,
      "outputs": []
    },
    {
      "cell_type": "markdown",
      "source": [
        "model(X_test) o demekdi ki predict etsin"
      ],
      "metadata": {
        "id": "XEe6M6ISZesB"
      }
    },
    {
      "cell_type": "code",
      "source": [
        "model.predict(X_test[:1].round(3))                      # list gozleyir deye [:1] yaziriq"
      ],
      "metadata": {
        "colab": {
          "base_uri": "https://localhost:8080/"
        },
        "id": "5YNL7ozOYFTA",
        "outputId": "a9eff05b-4f64-46dc-f1ba-b6a4ca4a541a"
      },
      "execution_count": null,
      "outputs": [
        {
          "output_type": "stream",
          "name": "stdout",
          "text": [
            "1/1 [==============================] - 0s 95ms/step\n"
          ]
        },
        {
          "output_type": "execute_result",
          "data": {
            "text/plain": [
              "array([[6.5182289e-06, 3.1513216e-06, 3.7762916e-06, 2.1798369e-05,\n",
              "        2.3803671e-06, 1.1054028e-02, 2.7450842e-06, 2.7693588e-01,\n",
              "        2.7304020e-05, 7.1194237e-01]], dtype=float32)"
            ]
          },
          "metadata": {},
          "execution_count": 65
        }
      ]
    },
    {
      "cell_type": "code",
      "source": [
        "y_proba[0].round(3)"
      ],
      "metadata": {
        "colab": {
          "base_uri": "https://localhost:8080/"
        },
        "id": "BAXt5F3SZkI6",
        "outputId": "e674a415-7060-4b37-e5d1-66dc47bf6272"
      },
      "execution_count": null,
      "outputs": [
        {
          "output_type": "execute_result",
          "data": {
            "text/plain": [
              "array([0.   , 0.   , 0.   , 0.   , 0.   , 0.044, 0.   , 0.229, 0.002,\n",
              "       0.723], dtype=float32)"
            ]
          },
          "metadata": {},
          "execution_count": 66
        }
      ]
    },
    {
      "cell_type": "code",
      "source": [
        "y_std = y_probas.std(axis=0)\n",
        "y_std[0].round(3)"
      ],
      "metadata": {
        "colab": {
          "base_uri": "https://localhost:8080/"
        },
        "id": "yu9oTZAxaIQQ",
        "outputId": "a7c3fb3d-f5ce-4b1c-bcc9-b3446a4c497b"
      },
      "execution_count": null,
      "outputs": [
        {
          "output_type": "execute_result",
          "data": {
            "text/plain": [
              "array([0.001, 0.002, 0.001, 0.002, 0.001, 0.077, 0.002, 0.151, 0.005,\n",
              "       0.172], dtype=float32)"
            ]
          },
          "metadata": {},
          "execution_count": 67
        }
      ]
    },
    {
      "cell_type": "code",
      "source": [
        "y_pred = y_proba.argmax(axis=1)\n",
        "accuracy = (y_pred == y_test).sum() / len(y_test)\n",
        "accuracy"
      ],
      "metadata": {
        "colab": {
          "base_uri": "https://localhost:8080/"
        },
        "id": "sBm5KBFta6ci",
        "outputId": "c0136759-c899-44bb-d3ae-4e66d5666179"
      },
      "execution_count": null,
      "outputs": [
        {
          "output_type": "execute_result",
          "data": {
            "text/plain": [
              "0.8668"
            ]
          },
          "metadata": {},
          "execution_count": 68
        }
      ]
    },
    {
      "cell_type": "markdown",
      "source": [
        "# Max Norm"
      ],
      "metadata": {
        "id": "mBueOkBbbJMb"
      }
    },
    {
      "cell_type": "code",
      "source": [
        "dense = tf.keras.layers.Dense(\n",
        "    100, activation='relu', kernel_initializer='he_normal',\n",
        "    kernel_constraint=tf.keras.constraints.max_norm(1.))                # normallashdiranda birden artiq olsa 1e getirir\n",
        "\n",
        "MaxNormDense = partial(tf.keras.layers.Dense,                           # funksiyani tekrarlamamaq uchun partial yaziriq\n",
        "                       activation='relu', kernel_initializer='he_normal',\n",
        "                       kernel_constraint=tf.keras.constraints.max_norm(1.0))\n",
        "\n",
        "\n",
        "tf.random.set_seed(42)\n",
        "model = tf.keras.Sequential([\n",
        "    tf.keras.layers.Flatten(input_shape=[28, 28]),\n",
        "    MaxNormDense(100),\n",
        "    MaxNormDense(100),\n",
        "    tf.keras.layers.Dense(10, activation='softmax')\n",
        "])\n",
        "optimizer = tf.keras.optimizers.SGD(learning_rate=1e-2, momentum=0.9)\n",
        "model.compile(loss='sparse_categorical_crossentropy',\n",
        "              optimizer=optimizer,\n",
        "              metrics=['accuracy'])\n",
        "model.fit(X_train, y_train, epochs=10,\n",
        "          validation_data=(X_valid, y_valid))"
      ],
      "metadata": {
        "colab": {
          "base_uri": "https://localhost:8080/"
        },
        "id": "nvc5d2tEb_Nu",
        "outputId": "c2b8bfa3-971d-42f9-d10a-9831fb2c7c2f"
      },
      "execution_count": null,
      "outputs": [
        {
          "output_type": "stream",
          "name": "stdout",
          "text": [
            "Epoch 1/10\n",
            "1719/1719 [==============================] - 9s 3ms/step - loss: 0.5446 - accuracy: 0.8046 - val_loss: 0.4291 - val_accuracy: 0.8410\n",
            "Epoch 2/10\n",
            "1719/1719 [==============================] - 6s 3ms/step - loss: 0.4103 - accuracy: 0.8505 - val_loss: 0.3954 - val_accuracy: 0.8540\n",
            "Epoch 3/10\n",
            "1719/1719 [==============================] - 6s 3ms/step - loss: 0.3784 - accuracy: 0.8609 - val_loss: 0.3821 - val_accuracy: 0.8632\n",
            "Epoch 4/10\n",
            "1719/1719 [==============================] - 6s 4ms/step - loss: 0.3616 - accuracy: 0.8669 - val_loss: 0.3612 - val_accuracy: 0.8702\n",
            "Epoch 5/10\n",
            "1719/1719 [==============================] - 6s 3ms/step - loss: 0.3459 - accuracy: 0.8716 - val_loss: 0.3547 - val_accuracy: 0.8658\n",
            "Epoch 6/10\n",
            "1719/1719 [==============================] - 6s 4ms/step - loss: 0.3408 - accuracy: 0.8742 - val_loss: 0.4267 - val_accuracy: 0.8552\n",
            "Epoch 7/10\n",
            "1719/1719 [==============================] - 6s 3ms/step - loss: 0.3314 - accuracy: 0.8764 - val_loss: 0.3809 - val_accuracy: 0.8612\n",
            "Epoch 8/10\n",
            "1719/1719 [==============================] - 6s 4ms/step - loss: 0.3272 - accuracy: 0.8782 - val_loss: 0.3553 - val_accuracy: 0.8628\n",
            "Epoch 9/10\n",
            "1719/1719 [==============================] - 6s 3ms/step - loss: 0.3277 - accuracy: 0.8769 - val_loss: 0.3676 - val_accuracy: 0.8600\n",
            "Epoch 10/10\n",
            "1719/1719 [==============================] - 6s 4ms/step - loss: 0.3206 - accuracy: 0.8810 - val_loss: 0.3953 - val_accuracy: 0.8574\n"
          ]
        },
        {
          "output_type": "execute_result",
          "data": {
            "text/plain": [
              "<keras.src.callbacks.History at 0x7c5674472650>"
            ]
          },
          "metadata": {},
          "execution_count": 69
        }
      ]
    },
    {
      "cell_type": "markdown",
      "source": [
        "# Hands-On"
      ],
      "metadata": {
        "id": "fabnG_GddY9F"
      }
    },
    {
      "cell_type": "code",
      "source": [
        "tf.keras.backend.clear_session()"
      ],
      "metadata": {
        "id": "Gdx5ExiMrQDo"
      },
      "execution_count": null,
      "outputs": []
    },
    {
      "cell_type": "code",
      "source": [
        "tf.keras.datasets.cifar10.load_data()"
      ],
      "metadata": {
        "colab": {
          "base_uri": "https://localhost:8080/"
        },
        "id": "Xzta3TuBlDj6",
        "outputId": "431a0f84-9f3c-4eb6-a91e-1af458ff627a"
      },
      "execution_count": null,
      "outputs": [
        {
          "output_type": "stream",
          "name": "stdout",
          "text": [
            "Downloading data from https://www.cs.toronto.edu/~kriz/cifar-10-python.tar.gz\n",
            "170498071/170498071 [==============================] - 3s 0us/step\n"
          ]
        },
        {
          "output_type": "execute_result",
          "data": {
            "text/plain": [
              "((array([[[[ 59,  62,  63],\n",
              "           [ 43,  46,  45],\n",
              "           [ 50,  48,  43],\n",
              "           ...,\n",
              "           [158, 132, 108],\n",
              "           [152, 125, 102],\n",
              "           [148, 124, 103]],\n",
              "  \n",
              "          [[ 16,  20,  20],\n",
              "           [  0,   0,   0],\n",
              "           [ 18,   8,   0],\n",
              "           ...,\n",
              "           [123,  88,  55],\n",
              "           [119,  83,  50],\n",
              "           [122,  87,  57]],\n",
              "  \n",
              "          [[ 25,  24,  21],\n",
              "           [ 16,   7,   0],\n",
              "           [ 49,  27,   8],\n",
              "           ...,\n",
              "           [118,  84,  50],\n",
              "           [120,  84,  50],\n",
              "           [109,  73,  42]],\n",
              "  \n",
              "          ...,\n",
              "  \n",
              "          [[208, 170,  96],\n",
              "           [201, 153,  34],\n",
              "           [198, 161,  26],\n",
              "           ...,\n",
              "           [160, 133,  70],\n",
              "           [ 56,  31,   7],\n",
              "           [ 53,  34,  20]],\n",
              "  \n",
              "          [[180, 139,  96],\n",
              "           [173, 123,  42],\n",
              "           [186, 144,  30],\n",
              "           ...,\n",
              "           [184, 148,  94],\n",
              "           [ 97,  62,  34],\n",
              "           [ 83,  53,  34]],\n",
              "  \n",
              "          [[177, 144, 116],\n",
              "           [168, 129,  94],\n",
              "           [179, 142,  87],\n",
              "           ...,\n",
              "           [216, 184, 140],\n",
              "           [151, 118,  84],\n",
              "           [123,  92,  72]]],\n",
              "  \n",
              "  \n",
              "         [[[154, 177, 187],\n",
              "           [126, 137, 136],\n",
              "           [105, 104,  95],\n",
              "           ...,\n",
              "           [ 91,  95,  71],\n",
              "           [ 87,  90,  71],\n",
              "           [ 79,  81,  70]],\n",
              "  \n",
              "          [[140, 160, 169],\n",
              "           [145, 153, 154],\n",
              "           [125, 125, 118],\n",
              "           ...,\n",
              "           [ 96,  99,  78],\n",
              "           [ 77,  80,  62],\n",
              "           [ 71,  73,  61]],\n",
              "  \n",
              "          [[140, 155, 164],\n",
              "           [139, 146, 149],\n",
              "           [115, 115, 112],\n",
              "           ...,\n",
              "           [ 79,  82,  64],\n",
              "           [ 68,  70,  55],\n",
              "           [ 67,  69,  55]],\n",
              "  \n",
              "          ...,\n",
              "  \n",
              "          [[175, 167, 166],\n",
              "           [156, 154, 160],\n",
              "           [154, 160, 170],\n",
              "           ...,\n",
              "           [ 42,  34,  36],\n",
              "           [ 61,  53,  57],\n",
              "           [ 93,  83,  91]],\n",
              "  \n",
              "          [[165, 154, 128],\n",
              "           [156, 152, 130],\n",
              "           [159, 161, 142],\n",
              "           ...,\n",
              "           [103,  93,  96],\n",
              "           [123, 114, 120],\n",
              "           [131, 121, 131]],\n",
              "  \n",
              "          [[163, 148, 120],\n",
              "           [158, 148, 122],\n",
              "           [163, 156, 133],\n",
              "           ...,\n",
              "           [143, 133, 139],\n",
              "           [143, 134, 142],\n",
              "           [143, 133, 144]]],\n",
              "  \n",
              "  \n",
              "         [[[255, 255, 255],\n",
              "           [253, 253, 253],\n",
              "           [253, 253, 253],\n",
              "           ...,\n",
              "           [253, 253, 253],\n",
              "           [253, 253, 253],\n",
              "           [253, 253, 253]],\n",
              "  \n",
              "          [[255, 255, 255],\n",
              "           [255, 255, 255],\n",
              "           [255, 255, 255],\n",
              "           ...,\n",
              "           [255, 255, 255],\n",
              "           [255, 255, 255],\n",
              "           [255, 255, 255]],\n",
              "  \n",
              "          [[255, 255, 255],\n",
              "           [254, 254, 254],\n",
              "           [254, 254, 254],\n",
              "           ...,\n",
              "           [254, 254, 254],\n",
              "           [254, 254, 254],\n",
              "           [254, 254, 254]],\n",
              "  \n",
              "          ...,\n",
              "  \n",
              "          [[113, 120, 112],\n",
              "           [111, 118, 111],\n",
              "           [105, 112, 106],\n",
              "           ...,\n",
              "           [ 72,  81,  80],\n",
              "           [ 72,  80,  79],\n",
              "           [ 72,  80,  79]],\n",
              "  \n",
              "          [[111, 118, 110],\n",
              "           [104, 111, 104],\n",
              "           [ 99, 106,  98],\n",
              "           ...,\n",
              "           [ 68,  75,  73],\n",
              "           [ 70,  76,  75],\n",
              "           [ 78,  84,  82]],\n",
              "  \n",
              "          [[106, 113, 105],\n",
              "           [ 99, 106,  98],\n",
              "           [ 95, 102,  94],\n",
              "           ...,\n",
              "           [ 78,  85,  83],\n",
              "           [ 79,  85,  83],\n",
              "           [ 80,  86,  84]]],\n",
              "  \n",
              "  \n",
              "         ...,\n",
              "  \n",
              "  \n",
              "         [[[ 35, 178, 235],\n",
              "           [ 40, 176, 239],\n",
              "           [ 42, 176, 241],\n",
              "           ...,\n",
              "           [ 99, 177, 219],\n",
              "           [ 79, 147, 197],\n",
              "           [ 89, 148, 189]],\n",
              "  \n",
              "          [[ 57, 182, 234],\n",
              "           [ 44, 184, 250],\n",
              "           [ 50, 183, 240],\n",
              "           ...,\n",
              "           [156, 182, 200],\n",
              "           [141, 177, 206],\n",
              "           [116, 149, 175]],\n",
              "  \n",
              "          [[ 98, 197, 237],\n",
              "           [ 64, 189, 252],\n",
              "           [ 69, 192, 245],\n",
              "           ...,\n",
              "           [188, 195, 206],\n",
              "           [119, 135, 147],\n",
              "           [ 61,  79,  90]],\n",
              "  \n",
              "          ...,\n",
              "  \n",
              "          [[ 73,  79,  77],\n",
              "           [ 53,  63,  68],\n",
              "           [ 54,  68,  80],\n",
              "           ...,\n",
              "           [ 17,  40,  64],\n",
              "           [ 21,  36,  51],\n",
              "           [ 33,  48,  49]],\n",
              "  \n",
              "          [[ 61,  68,  75],\n",
              "           [ 55,  70,  86],\n",
              "           [ 57,  79, 103],\n",
              "           ...,\n",
              "           [ 24,  48,  72],\n",
              "           [ 17,  35,  53],\n",
              "           [  7,  23,  32]],\n",
              "  \n",
              "          [[ 44,  56,  73],\n",
              "           [ 46,  66,  88],\n",
              "           [ 49,  77, 105],\n",
              "           ...,\n",
              "           [ 27,  52,  77],\n",
              "           [ 21,  43,  66],\n",
              "           [ 12,  31,  50]]],\n",
              "  \n",
              "  \n",
              "         [[[189, 211, 240],\n",
              "           [186, 208, 236],\n",
              "           [185, 207, 235],\n",
              "           ...,\n",
              "           [175, 195, 224],\n",
              "           [172, 194, 222],\n",
              "           [169, 194, 220]],\n",
              "  \n",
              "          [[194, 210, 239],\n",
              "           [191, 207, 236],\n",
              "           [190, 206, 235],\n",
              "           ...,\n",
              "           [173, 192, 220],\n",
              "           [171, 191, 218],\n",
              "           [167, 190, 216]],\n",
              "  \n",
              "          [[208, 219, 244],\n",
              "           [205, 216, 240],\n",
              "           [204, 215, 239],\n",
              "           ...,\n",
              "           [175, 191, 217],\n",
              "           [172, 190, 216],\n",
              "           [169, 191, 215]],\n",
              "  \n",
              "          ...,\n",
              "  \n",
              "          [[207, 199, 181],\n",
              "           [203, 195, 175],\n",
              "           [203, 196, 173],\n",
              "           ...,\n",
              "           [135, 132, 127],\n",
              "           [162, 158, 150],\n",
              "           [168, 163, 151]],\n",
              "  \n",
              "          [[198, 190, 170],\n",
              "           [189, 181, 159],\n",
              "           [180, 172, 147],\n",
              "           ...,\n",
              "           [178, 171, 160],\n",
              "           [175, 169, 156],\n",
              "           [175, 169, 154]],\n",
              "  \n",
              "          [[198, 189, 173],\n",
              "           [189, 181, 162],\n",
              "           [178, 170, 149],\n",
              "           ...,\n",
              "           [195, 184, 169],\n",
              "           [196, 189, 171],\n",
              "           [195, 190, 171]]],\n",
              "  \n",
              "  \n",
              "         [[[229, 229, 239],\n",
              "           [236, 237, 247],\n",
              "           [234, 236, 247],\n",
              "           ...,\n",
              "           [217, 219, 233],\n",
              "           [221, 223, 234],\n",
              "           [222, 223, 233]],\n",
              "  \n",
              "          [[222, 221, 229],\n",
              "           [239, 239, 249],\n",
              "           [233, 234, 246],\n",
              "           ...,\n",
              "           [223, 223, 236],\n",
              "           [227, 228, 238],\n",
              "           [210, 211, 220]],\n",
              "  \n",
              "          [[213, 206, 211],\n",
              "           [234, 232, 239],\n",
              "           [231, 233, 244],\n",
              "           ...,\n",
              "           [220, 220, 232],\n",
              "           [220, 219, 232],\n",
              "           [202, 203, 215]],\n",
              "  \n",
              "          ...,\n",
              "  \n",
              "          [[150, 143, 135],\n",
              "           [140, 135, 127],\n",
              "           [132, 127, 120],\n",
              "           ...,\n",
              "           [224, 222, 218],\n",
              "           [230, 228, 225],\n",
              "           [241, 241, 238]],\n",
              "  \n",
              "          [[137, 132, 126],\n",
              "           [130, 127, 120],\n",
              "           [125, 121, 115],\n",
              "           ...,\n",
              "           [181, 180, 178],\n",
              "           [202, 201, 198],\n",
              "           [212, 211, 207]],\n",
              "  \n",
              "          [[122, 119, 114],\n",
              "           [118, 116, 110],\n",
              "           [120, 116, 111],\n",
              "           ...,\n",
              "           [179, 177, 173],\n",
              "           [164, 164, 162],\n",
              "           [163, 163, 161]]]], dtype=uint8),\n",
              "  array([[6],\n",
              "         [9],\n",
              "         [9],\n",
              "         ...,\n",
              "         [9],\n",
              "         [1],\n",
              "         [1]], dtype=uint8)),\n",
              " (array([[[[158, 112,  49],\n",
              "           [159, 111,  47],\n",
              "           [165, 116,  51],\n",
              "           ...,\n",
              "           [137,  95,  36],\n",
              "           [126,  91,  36],\n",
              "           [116,  85,  33]],\n",
              "  \n",
              "          [[152, 112,  51],\n",
              "           [151, 110,  40],\n",
              "           [159, 114,  45],\n",
              "           ...,\n",
              "           [136,  95,  31],\n",
              "           [125,  91,  32],\n",
              "           [119,  88,  34]],\n",
              "  \n",
              "          [[151, 110,  47],\n",
              "           [151, 109,  33],\n",
              "           [158, 111,  36],\n",
              "           ...,\n",
              "           [139,  98,  34],\n",
              "           [130,  95,  34],\n",
              "           [120,  89,  33]],\n",
              "  \n",
              "          ...,\n",
              "  \n",
              "          [[ 68, 124, 177],\n",
              "           [ 42, 100, 148],\n",
              "           [ 31,  88, 137],\n",
              "           ...,\n",
              "           [ 38,  97, 146],\n",
              "           [ 13,  64, 108],\n",
              "           [ 40,  85, 127]],\n",
              "  \n",
              "          [[ 61, 116, 168],\n",
              "           [ 49, 102, 148],\n",
              "           [ 35,  85, 132],\n",
              "           ...,\n",
              "           [ 26,  82, 130],\n",
              "           [ 29,  82, 126],\n",
              "           [ 20,  64, 107]],\n",
              "  \n",
              "          [[ 54, 107, 160],\n",
              "           [ 56, 105, 149],\n",
              "           [ 45,  89, 132],\n",
              "           ...,\n",
              "           [ 24,  77, 124],\n",
              "           [ 34,  84, 129],\n",
              "           [ 21,  67, 110]]],\n",
              "  \n",
              "  \n",
              "         [[[235, 235, 235],\n",
              "           [231, 231, 231],\n",
              "           [232, 232, 232],\n",
              "           ...,\n",
              "           [233, 233, 233],\n",
              "           [233, 233, 233],\n",
              "           [232, 232, 232]],\n",
              "  \n",
              "          [[238, 238, 238],\n",
              "           [235, 235, 235],\n",
              "           [235, 235, 235],\n",
              "           ...,\n",
              "           [236, 236, 236],\n",
              "           [236, 236, 236],\n",
              "           [235, 235, 235]],\n",
              "  \n",
              "          [[237, 237, 237],\n",
              "           [234, 234, 234],\n",
              "           [234, 234, 234],\n",
              "           ...,\n",
              "           [235, 235, 235],\n",
              "           [235, 235, 235],\n",
              "           [234, 234, 234]],\n",
              "  \n",
              "          ...,\n",
              "  \n",
              "          [[ 87,  99,  89],\n",
              "           [ 43,  51,  37],\n",
              "           [ 19,  23,  11],\n",
              "           ...,\n",
              "           [169, 184, 179],\n",
              "           [182, 197, 193],\n",
              "           [188, 202, 201]],\n",
              "  \n",
              "          [[ 82,  96,  82],\n",
              "           [ 46,  57,  36],\n",
              "           [ 36,  44,  22],\n",
              "           ...,\n",
              "           [174, 189, 183],\n",
              "           [185, 200, 196],\n",
              "           [187, 202, 200]],\n",
              "  \n",
              "          [[ 85, 101,  83],\n",
              "           [ 62,  75,  48],\n",
              "           [ 58,  67,  38],\n",
              "           ...,\n",
              "           [168, 183, 178],\n",
              "           [180, 195, 191],\n",
              "           [186, 200, 199]]],\n",
              "  \n",
              "  \n",
              "         [[[158, 190, 222],\n",
              "           [158, 187, 218],\n",
              "           [139, 166, 194],\n",
              "           ...,\n",
              "           [228, 231, 234],\n",
              "           [237, 239, 243],\n",
              "           [238, 241, 246]],\n",
              "  \n",
              "          [[170, 200, 229],\n",
              "           [172, 199, 226],\n",
              "           [151, 176, 201],\n",
              "           ...,\n",
              "           [232, 232, 236],\n",
              "           [246, 246, 250],\n",
              "           [246, 247, 251]],\n",
              "  \n",
              "          [[174, 201, 225],\n",
              "           [176, 200, 222],\n",
              "           [157, 179, 199],\n",
              "           ...,\n",
              "           [230, 229, 232],\n",
              "           [250, 249, 251],\n",
              "           [245, 244, 247]],\n",
              "  \n",
              "          ...,\n",
              "  \n",
              "          [[ 31,  40,  45],\n",
              "           [ 30,  39,  44],\n",
              "           [ 26,  35,  40],\n",
              "           ...,\n",
              "           [ 37,  40,  46],\n",
              "           [  9,  13,  14],\n",
              "           [  4,   7,   5]],\n",
              "  \n",
              "          [[ 23,  34,  39],\n",
              "           [ 27,  38,  43],\n",
              "           [ 25,  36,  41],\n",
              "           ...,\n",
              "           [ 19,  20,  24],\n",
              "           [  4,   6,   3],\n",
              "           [  5,   7,   3]],\n",
              "  \n",
              "          [[ 28,  41,  47],\n",
              "           [ 30,  43,  50],\n",
              "           [ 32,  45,  52],\n",
              "           ...,\n",
              "           [  5,   6,   8],\n",
              "           [  4,   5,   3],\n",
              "           [  7,   8,   7]]],\n",
              "  \n",
              "  \n",
              "         ...,\n",
              "  \n",
              "  \n",
              "         [[[ 20,  15,  12],\n",
              "           [ 19,  14,  11],\n",
              "           [ 15,  14,  11],\n",
              "           ...,\n",
              "           [ 10,   9,   7],\n",
              "           [ 12,  11,   9],\n",
              "           [ 13,  12,  10]],\n",
              "  \n",
              "          [[ 21,  16,  13],\n",
              "           [ 20,  16,  13],\n",
              "           [ 18,  17,  12],\n",
              "           ...,\n",
              "           [ 10,   9,   7],\n",
              "           [ 10,   9,   7],\n",
              "           [ 12,  11,   9]],\n",
              "  \n",
              "          [[ 21,  16,  13],\n",
              "           [ 21,  17,  12],\n",
              "           [ 20,  18,  11],\n",
              "           ...,\n",
              "           [ 12,  11,   9],\n",
              "           [ 12,  11,   9],\n",
              "           [ 13,  12,  10]],\n",
              "  \n",
              "          ...,\n",
              "  \n",
              "          [[ 33,  25,  13],\n",
              "           [ 34,  26,  15],\n",
              "           [ 34,  26,  15],\n",
              "           ...,\n",
              "           [ 28,  25,  52],\n",
              "           [ 29,  25,  58],\n",
              "           [ 23,  20,  42]],\n",
              "  \n",
              "          [[ 33,  25,  14],\n",
              "           [ 34,  26,  15],\n",
              "           [ 34,  26,  15],\n",
              "           ...,\n",
              "           [ 27,  24,  52],\n",
              "           [ 27,  24,  56],\n",
              "           [ 25,  22,  47]],\n",
              "  \n",
              "          [[ 31,  23,  12],\n",
              "           [ 32,  24,  13],\n",
              "           [ 33,  25,  14],\n",
              "           ...,\n",
              "           [ 24,  23,  50],\n",
              "           [ 26,  23,  53],\n",
              "           [ 25,  20,  47]]],\n",
              "  \n",
              "  \n",
              "         [[[ 25,  40,  12],\n",
              "           [ 15,  36,   3],\n",
              "           [ 23,  41,  18],\n",
              "           ...,\n",
              "           [ 61,  82,  78],\n",
              "           [ 92, 113, 112],\n",
              "           [ 75,  89,  92]],\n",
              "  \n",
              "          [[ 12,  25,   6],\n",
              "           [ 20,  37,   7],\n",
              "           [ 24,  36,  15],\n",
              "           ...,\n",
              "           [115, 134, 138],\n",
              "           [149, 168, 177],\n",
              "           [104, 117, 131]],\n",
              "  \n",
              "          [[ 12,  25,  11],\n",
              "           [ 15,  29,   6],\n",
              "           [ 34,  40,  24],\n",
              "           ...,\n",
              "           [154, 172, 182],\n",
              "           [157, 175, 192],\n",
              "           [116, 129, 151]],\n",
              "  \n",
              "          ...,\n",
              "  \n",
              "          [[100, 129,  81],\n",
              "           [103, 132,  84],\n",
              "           [104, 134,  86],\n",
              "           ...,\n",
              "           [ 97, 128,  84],\n",
              "           [ 98, 126,  84],\n",
              "           [ 91, 121,  79]],\n",
              "  \n",
              "          [[103, 132,  83],\n",
              "           [104, 131,  83],\n",
              "           [107, 135,  87],\n",
              "           ...,\n",
              "           [101, 132,  87],\n",
              "           [ 99, 127,  84],\n",
              "           [ 92, 121,  79]],\n",
              "  \n",
              "          [[ 95, 126,  78],\n",
              "           [ 95, 123,  76],\n",
              "           [101, 128,  81],\n",
              "           ...,\n",
              "           [ 93, 124,  80],\n",
              "           [ 95, 123,  81],\n",
              "           [ 92, 120,  80]]],\n",
              "  \n",
              "  \n",
              "         [[[ 73,  78,  75],\n",
              "           [ 98, 103, 113],\n",
              "           [ 99, 106, 114],\n",
              "           ...,\n",
              "           [135, 150, 152],\n",
              "           [135, 149, 154],\n",
              "           [203, 215, 223]],\n",
              "  \n",
              "          [[ 69,  73,  70],\n",
              "           [ 84,  89,  97],\n",
              "           [ 68,  75,  81],\n",
              "           ...,\n",
              "           [ 85,  95,  89],\n",
              "           [ 71,  82,  80],\n",
              "           [120, 133, 135]],\n",
              "  \n",
              "          [[ 69,  73,  70],\n",
              "           [ 90,  95, 100],\n",
              "           [ 62,  71,  74],\n",
              "           ...,\n",
              "           [ 74,  81,  70],\n",
              "           [ 53,  62,  54],\n",
              "           [ 62,  74,  69]],\n",
              "  \n",
              "          ...,\n",
              "  \n",
              "          [[123, 128,  96],\n",
              "           [132, 132, 102],\n",
              "           [129, 128, 100],\n",
              "           ...,\n",
              "           [108, 107,  88],\n",
              "           [ 62,  60,  55],\n",
              "           [ 27,  27,  28]],\n",
              "  \n",
              "          [[115, 121,  91],\n",
              "           [123, 124,  95],\n",
              "           [129, 126,  99],\n",
              "           ...,\n",
              "           [115, 116,  94],\n",
              "           [ 66,  65,  59],\n",
              "           [ 27,  27,  27]],\n",
              "  \n",
              "          [[116, 120,  90],\n",
              "           [121, 122,  94],\n",
              "           [129, 128, 101],\n",
              "           ...,\n",
              "           [116, 115,  94],\n",
              "           [ 68,  65,  58],\n",
              "           [ 27,  26,  26]]]], dtype=uint8),\n",
              "  array([[3],\n",
              "         [8],\n",
              "         [8],\n",
              "         ...,\n",
              "         [5],\n",
              "         [1],\n",
              "         [7]], dtype=uint8)))"
            ]
          },
          "metadata": {},
          "execution_count": 71
        }
      ]
    },
    {
      "cell_type": "code",
      "source": [
        "(X_train, y_train), (X_test, y_test) = tf.keras.datasets.cifar10.load_data()\n",
        "assert X_train.shape == (50000, 32, 32, 3)\n",
        "assert X_test.shape == (10000, 32, 32, 3)\n",
        "assert y_train.shape == (50000, 1)\n",
        "assert y_test.shape == (10000, 1)"
      ],
      "metadata": {
        "id": "iSr178zulJOl"
      },
      "execution_count": null,
      "outputs": []
    },
    {
      "cell_type": "code",
      "source": [
        "X_train = X_train / 255\n",
        "X_test = X_test / 255"
      ],
      "metadata": {
        "id": "G_bijCg_uBFA"
      },
      "execution_count": null,
      "outputs": []
    },
    {
      "cell_type": "code",
      "source": [
        "model = tf.keras.Sequential()\n",
        "model.add(tf.keras.layers.Flatten(input_shape=[32, 32, 3]))\n",
        "for _ in range(20):\n",
        "  model.add(tf.keras.layers.Dense(100, activation='swish',\n",
        "                                  kernel_initializer='he_normal'))"
      ],
      "metadata": {
        "id": "sjOoyVjflTnn"
      },
      "execution_count": null,
      "outputs": []
    },
    {
      "cell_type": "code",
      "source": [
        "model.add(tf.keras.layers.Dense(10, activation='softmax'))"
      ],
      "metadata": {
        "id": "AKHqDvN1rDWt"
      },
      "execution_count": null,
      "outputs": []
    },
    {
      "cell_type": "code",
      "source": [
        "checkpoint_cb = tf.keras.callbacks.ModelCheckpoint('My checkpoints', save_weights_only=True)\n",
        "early_stopping_cb = tf.keras.callbacks.EarlyStopping(patience=10, restore_best_weights=True)\n",
        "optimizer = tf.keras.optimizers.Nadam(learning_rate=5e-5)"
      ],
      "metadata": {
        "id": "dNxumpdul9by"
      },
      "execution_count": null,
      "outputs": []
    },
    {
      "cell_type": "code",
      "source": [
        "model.compile(loss='sparse_categorical_crossentropy',\n",
        "              optimizer=optimizer,\n",
        "              metrics=['accuracy'])"
      ],
      "metadata": {
        "id": "LGjCy7Q-nTTx"
      },
      "execution_count": null,
      "outputs": []
    },
    {
      "cell_type": "code",
      "source": [
        "model.fit(X_train[:5000], y_train[:5000], epochs=1000,\n",
        "          validation_data=(X_test, y_test),\n",
        "          callbacks=[checkpoint_cb, early_stopping_cb])"
      ],
      "metadata": {
        "colab": {
          "base_uri": "https://localhost:8080/"
        },
        "id": "a905CDM1oORF",
        "outputId": "8911e961-d9f5-4331-eeb6-b7b5ede2239b"
      },
      "execution_count": null,
      "outputs": [
        {
          "output_type": "stream",
          "name": "stdout",
          "text": [
            "Epoch 1/1000\n",
            "157/157 [==============================] - 15s 26ms/step - loss: 2.2563 - accuracy: 0.1322 - val_loss: 2.1903 - val_accuracy: 0.1781\n",
            "Epoch 2/1000\n",
            "157/157 [==============================] - 3s 21ms/step - loss: 2.1325 - accuracy: 0.2124 - val_loss: 2.1692 - val_accuracy: 0.2002\n",
            "Epoch 3/1000\n",
            "157/157 [==============================] - 3s 20ms/step - loss: 2.0571 - accuracy: 0.2338 - val_loss: 2.0497 - val_accuracy: 0.2321\n",
            "Epoch 4/1000\n",
            "157/157 [==============================] - 3s 20ms/step - loss: 1.9749 - accuracy: 0.2604 - val_loss: 1.9669 - val_accuracy: 0.2619\n",
            "Epoch 5/1000\n",
            "157/157 [==============================] - 3s 17ms/step - loss: 1.9066 - accuracy: 0.2878 - val_loss: 1.9047 - val_accuracy: 0.3029\n",
            "Epoch 6/1000\n",
            "157/157 [==============================] - 3s 17ms/step - loss: 1.8520 - accuracy: 0.3124 - val_loss: 1.9221 - val_accuracy: 0.2954\n",
            "Epoch 7/1000\n",
            "157/157 [==============================] - 3s 20ms/step - loss: 1.8059 - accuracy: 0.3274 - val_loss: 1.9074 - val_accuracy: 0.2882\n",
            "Epoch 8/1000\n",
            "157/157 [==============================] - 4s 24ms/step - loss: 1.7719 - accuracy: 0.3484 - val_loss: 1.8508 - val_accuracy: 0.3250\n",
            "Epoch 9/1000\n",
            "157/157 [==============================] - 3s 20ms/step - loss: 1.7395 - accuracy: 0.3590 - val_loss: 1.8510 - val_accuracy: 0.3171\n",
            "Epoch 10/1000\n",
            "157/157 [==============================] - 3s 20ms/step - loss: 1.7094 - accuracy: 0.3692 - val_loss: 1.8549 - val_accuracy: 0.3275\n",
            "Epoch 11/1000\n",
            "157/157 [==============================] - 3s 17ms/step - loss: 1.6798 - accuracy: 0.3822 - val_loss: 1.8454 - val_accuracy: 0.3366\n",
            "Epoch 12/1000\n",
            "157/157 [==============================] - 3s 20ms/step - loss: 1.6581 - accuracy: 0.3912 - val_loss: 1.8207 - val_accuracy: 0.3449\n",
            "Epoch 13/1000\n",
            "157/157 [==============================] - 3s 16ms/step - loss: 1.6291 - accuracy: 0.4036 - val_loss: 1.8260 - val_accuracy: 0.3471\n",
            "Epoch 14/1000\n",
            "157/157 [==============================] - 3s 20ms/step - loss: 1.6088 - accuracy: 0.4098 - val_loss: 1.8024 - val_accuracy: 0.3469\n",
            "Epoch 15/1000\n",
            "157/157 [==============================] - 3s 17ms/step - loss: 1.5734 - accuracy: 0.4200 - val_loss: 1.8190 - val_accuracy: 0.3513\n",
            "Epoch 16/1000\n",
            "157/157 [==============================] - 3s 20ms/step - loss: 1.5509 - accuracy: 0.4316 - val_loss: 1.7980 - val_accuracy: 0.3599\n",
            "Epoch 17/1000\n",
            "157/157 [==============================] - 3s 20ms/step - loss: 1.5201 - accuracy: 0.4462 - val_loss: 1.7968 - val_accuracy: 0.3641\n",
            "Epoch 18/1000\n",
            "157/157 [==============================] - 3s 21ms/step - loss: 1.5097 - accuracy: 0.4460 - val_loss: 1.7869 - val_accuracy: 0.3623\n",
            "Epoch 19/1000\n",
            "157/157 [==============================] - 3s 18ms/step - loss: 1.4692 - accuracy: 0.4594 - val_loss: 1.8100 - val_accuracy: 0.3658\n",
            "Epoch 20/1000\n",
            "157/157 [==============================] - 3s 21ms/step - loss: 1.4478 - accuracy: 0.4722 - val_loss: 1.8179 - val_accuracy: 0.3633\n",
            "Epoch 21/1000\n",
            "157/157 [==============================] - 3s 20ms/step - loss: 1.4224 - accuracy: 0.4768 - val_loss: 1.9021 - val_accuracy: 0.3363\n",
            "Epoch 22/1000\n",
            "157/157 [==============================] - 3s 20ms/step - loss: 1.4052 - accuracy: 0.4856 - val_loss: 1.8157 - val_accuracy: 0.3662\n",
            "Epoch 23/1000\n",
            "157/157 [==============================] - 3s 18ms/step - loss: 1.3681 - accuracy: 0.4938 - val_loss: 1.8373 - val_accuracy: 0.3597\n",
            "Epoch 24/1000\n",
            "157/157 [==============================] - 3s 22ms/step - loss: 1.3515 - accuracy: 0.5074 - val_loss: 1.9007 - val_accuracy: 0.3566\n",
            "Epoch 25/1000\n",
            "157/157 [==============================] - 3s 17ms/step - loss: 1.3306 - accuracy: 0.5122 - val_loss: 1.8745 - val_accuracy: 0.3567\n",
            "Epoch 26/1000\n",
            "157/157 [==============================] - 3s 20ms/step - loss: 1.3074 - accuracy: 0.5294 - val_loss: 1.8828 - val_accuracy: 0.3657\n",
            "Epoch 27/1000\n",
            "157/157 [==============================] - 3s 21ms/step - loss: 1.2816 - accuracy: 0.5248 - val_loss: 1.8939 - val_accuracy: 0.3681\n",
            "Epoch 28/1000\n",
            "157/157 [==============================] - 3s 20ms/step - loss: 1.2491 - accuracy: 0.5448 - val_loss: 1.9153 - val_accuracy: 0.3679\n"
          ]
        },
        {
          "output_type": "execute_result",
          "data": {
            "text/plain": [
              "<keras.src.callbacks.History at 0x7c567c999570>"
            ]
          },
          "metadata": {},
          "execution_count": 78
        }
      ]
    },
    {
      "cell_type": "code",
      "source": [
        "model = tf.keras.Sequential()\n",
        "model.add(tf.keras.layers.Flatten(input_shape=[32, 32, 3]))\n",
        "for _ in range(20):\n",
        "  model.add(tf.keras.layers.Dense(100,\n",
        "                                  kernel_initializer='he_normal'))\n",
        "  model.add(tf.keras.layers.BatchNormalization())\n",
        "  model.add(tf.keras.layers.Activation('swish'))\n",
        "model.add(tf.keras.layers.Dense(10, activation='softmax'))"
      ],
      "metadata": {
        "id": "6am65qNRocZV"
      },
      "execution_count": null,
      "outputs": []
    },
    {
      "cell_type": "code",
      "source": [
        "optimizer = tf.keras.optimizers.Nadam(learning_rate=5e-4)\n",
        "model.compile(loss='sparse_categorical_crossentropy',\n",
        "              optimizer=optimizer,\n",
        "              metrics=['accuracy'])"
      ],
      "metadata": {
        "id": "TcyIl9Ifs-Hf"
      },
      "execution_count": null,
      "outputs": []
    },
    {
      "cell_type": "code",
      "source": [
        "model.fit(X_train[:5000], y_train[:5000], epochs=1000,\n",
        "          validation_data=(X_test, y_test),\n",
        "          callbacks=[checkpoint_cb, early_stopping_cb])"
      ],
      "metadata": {
        "colab": {
          "base_uri": "https://localhost:8080/"
        },
        "id": "uTqA-AMZtMoo",
        "outputId": "a360b9c8-a3c2-44ef-d263-32b307b1d0c2"
      },
      "execution_count": null,
      "outputs": [
        {
          "output_type": "stream",
          "name": "stdout",
          "text": [
            "Epoch 1/1000\n",
            "157/157 [==============================] - 30s 45ms/step - loss: 2.3730 - accuracy: 0.1374 - val_loss: 5.0887 - val_accuracy: 0.1486\n",
            "Epoch 2/1000\n",
            "157/157 [==============================] - 6s 40ms/step - loss: 2.1977 - accuracy: 0.1870 - val_loss: 2.4408 - val_accuracy: 0.1965\n",
            "Epoch 3/1000\n",
            "157/157 [==============================] - 6s 39ms/step - loss: 2.0980 - accuracy: 0.2190 - val_loss: 2.2571 - val_accuracy: 0.2249\n",
            "Epoch 4/1000\n",
            "157/157 [==============================] - 6s 41ms/step - loss: 2.0330 - accuracy: 0.2436 - val_loss: 2.7008 - val_accuracy: 0.2257\n",
            "Epoch 5/1000\n",
            "157/157 [==============================] - 6s 38ms/step - loss: 1.9807 - accuracy: 0.2596 - val_loss: 2.0841 - val_accuracy: 0.2676\n",
            "Epoch 6/1000\n",
            "157/157 [==============================] - 6s 40ms/step - loss: 1.9195 - accuracy: 0.2922 - val_loss: 2.2128 - val_accuracy: 0.2673\n",
            "Epoch 7/1000\n",
            "157/157 [==============================] - 6s 38ms/step - loss: 1.8636 - accuracy: 0.3192 - val_loss: 1.9738 - val_accuracy: 0.2863\n",
            "Epoch 8/1000\n",
            "157/157 [==============================] - 6s 41ms/step - loss: 1.8140 - accuracy: 0.3352 - val_loss: 2.0422 - val_accuracy: 0.2659\n",
            "Epoch 9/1000\n",
            "157/157 [==============================] - 6s 38ms/step - loss: 1.7823 - accuracy: 0.3464 - val_loss: 2.1262 - val_accuracy: 0.2607\n",
            "Epoch 10/1000\n",
            "157/157 [==============================] - 6s 40ms/step - loss: 1.7459 - accuracy: 0.3704 - val_loss: 1.9434 - val_accuracy: 0.3038\n",
            "Epoch 11/1000\n",
            "157/157 [==============================] - 6s 35ms/step - loss: 1.7074 - accuracy: 0.3778 - val_loss: 1.9277 - val_accuracy: 0.3045\n",
            "Epoch 12/1000\n",
            "157/157 [==============================] - 6s 41ms/step - loss: 1.6573 - accuracy: 0.3918 - val_loss: 1.9861 - val_accuracy: 0.3211\n",
            "Epoch 13/1000\n",
            "157/157 [==============================] - 6s 36ms/step - loss: 1.6192 - accuracy: 0.4124 - val_loss: 2.0657 - val_accuracy: 0.3013\n",
            "Epoch 14/1000\n",
            "157/157 [==============================] - 6s 39ms/step - loss: 1.5912 - accuracy: 0.4216 - val_loss: 1.8905 - val_accuracy: 0.3179\n",
            "Epoch 15/1000\n",
            "157/157 [==============================] - 6s 39ms/step - loss: 1.5606 - accuracy: 0.4366 - val_loss: 1.9138 - val_accuracy: 0.3348\n",
            "Epoch 16/1000\n",
            "157/157 [==============================] - 6s 39ms/step - loss: 1.5193 - accuracy: 0.4508 - val_loss: 1.8673 - val_accuracy: 0.3603\n",
            "Epoch 17/1000\n",
            "157/157 [==============================] - 6s 36ms/step - loss: 1.4765 - accuracy: 0.4682 - val_loss: 2.0417 - val_accuracy: 0.3291\n",
            "Epoch 18/1000\n",
            "157/157 [==============================] - 7s 42ms/step - loss: 1.4417 - accuracy: 0.4852 - val_loss: 2.3412 - val_accuracy: 0.2362\n",
            "Epoch 19/1000\n",
            "157/157 [==============================] - 6s 38ms/step - loss: 1.4189 - accuracy: 0.4984 - val_loss: 2.0804 - val_accuracy: 0.3167\n",
            "Epoch 20/1000\n",
            "157/157 [==============================] - 6s 41ms/step - loss: 1.3846 - accuracy: 0.5064 - val_loss: 1.9097 - val_accuracy: 0.3463\n",
            "Epoch 21/1000\n",
            "157/157 [==============================] - 6s 38ms/step - loss: 1.3394 - accuracy: 0.5096 - val_loss: 2.3224 - val_accuracy: 0.3145\n",
            "Epoch 22/1000\n",
            "157/157 [==============================] - 6s 41ms/step - loss: 1.3164 - accuracy: 0.5380 - val_loss: 2.3426 - val_accuracy: 0.2778\n",
            "Epoch 23/1000\n",
            "157/157 [==============================] - 6s 39ms/step - loss: 1.2642 - accuracy: 0.5608 - val_loss: 2.2924 - val_accuracy: 0.2911\n",
            "Epoch 24/1000\n",
            "157/157 [==============================] - 6s 40ms/step - loss: 1.2643 - accuracy: 0.5432 - val_loss: 2.0795 - val_accuracy: 0.3314\n",
            "Epoch 25/1000\n",
            "157/157 [==============================] - 6s 37ms/step - loss: 1.2272 - accuracy: 0.5550 - val_loss: 2.0405 - val_accuracy: 0.3334\n",
            "Epoch 26/1000\n",
            "157/157 [==============================] - 6s 40ms/step - loss: 1.1788 - accuracy: 0.5818 - val_loss: 2.2160 - val_accuracy: 0.3139\n"
          ]
        },
        {
          "output_type": "execute_result",
          "data": {
            "text/plain": [
              "<keras.src.callbacks.History at 0x7c5652ccf250>"
            ]
          },
          "metadata": {},
          "execution_count": 81
        }
      ]
    },
    {
      "cell_type": "code",
      "source": [
        "model = tf.keras.Sequential()\n",
        "model.add(tf.keras.layers.Flatten(input_shape=[32, 32, 3]))\n",
        "for _ in range(100):\n",
        "  model.add(tf.keras.layers.BatchNormalization())\n",
        "  model.add(tf.keras.layers.Dense(100, activation='selu',\n",
        "                                 kernel_initializer='lecun_normal'))\n",
        "model.add(tf.keras.layers.Dense(10, activation='softmax'))"
      ],
      "metadata": {
        "id": "lMBgsDA6tYh1"
      },
      "execution_count": null,
      "outputs": []
    },
    {
      "cell_type": "code",
      "source": [
        "optimizer = tf.keras.optimizers.Nadam(learning_rate=5e-4)\n",
        "model.compile(loss='sparse_categorical_crossentropy',\n",
        "              optimizer=optimizer,\n",
        "              metrics=['accuracy'])"
      ],
      "metadata": {
        "id": "bFoTHucci8Pz"
      },
      "execution_count": null,
      "outputs": []
    },
    {
      "cell_type": "code",
      "source": [
        "checkpoint_cb = tf.keras.callbacks.ModelCheckpoint('MyCheckpoints',\n",
        "                                                   save_weights_only=True)\n",
        "early_stopping_cb = tf.keras.callbacks.EarlyStopping(patience=10,\n",
        "                                                     restore_best_weights=True)"
      ],
      "metadata": {
        "id": "hJMPBH4_jaun"
      },
      "execution_count": null,
      "outputs": []
    },
    {
      "cell_type": "code",
      "source": [
        "model.fit(X_train[:5000], y_train[:5000], epochs=1000,\n",
        "          validation_data=(X_test, y_test),\n",
        "          callbacks=[checkpoint_cb, early_stopping_cb])"
      ],
      "metadata": {
        "colab": {
          "base_uri": "https://localhost:8080/"
        },
        "id": "MABqme_ljIbR",
        "outputId": "93202a5c-3b38-4f59-ca31-7845fdc0d0c8"
      },
      "execution_count": null,
      "outputs": [
        {
          "output_type": "stream",
          "name": "stdout",
          "text": [
            "Epoch 1/1000\n",
            "157/157 [==============================] - 27s 175ms/step - loss: 1.9838 - accuracy: 0.2744 - val_loss: 2.0423 - val_accuracy: 0.2215\n",
            "Epoch 2/1000\n",
            "157/157 [==============================] - 25s 159ms/step - loss: 1.9728 - accuracy: 0.2794 - val_loss: 2.0341 - val_accuracy: 0.2213\n",
            "Epoch 3/1000\n",
            "157/157 [==============================] - 27s 171ms/step - loss: 1.9615 - accuracy: 0.2782 - val_loss: 1.9804 - val_accuracy: 0.2683\n",
            "Epoch 4/1000\n",
            "157/157 [==============================] - 27s 171ms/step - loss: 1.9627 - accuracy: 0.2818 - val_loss: 1.9918 - val_accuracy: 0.2675\n",
            "Epoch 5/1000\n",
            "157/157 [==============================] - 25s 162ms/step - loss: 1.9573 - accuracy: 0.2794 - val_loss: 2.2073 - val_accuracy: 0.2002\n",
            "Epoch 6/1000\n",
            "157/157 [==============================] - 33s 213ms/step - loss: 1.9896 - accuracy: 0.2632 - val_loss: 2.0942 - val_accuracy: 0.2071\n",
            "Epoch 7/1000\n",
            "157/157 [==============================] - 27s 172ms/step - loss: 1.9653 - accuracy: 0.2728 - val_loss: 1.9808 - val_accuracy: 0.2812\n",
            "Epoch 8/1000\n",
            "157/157 [==============================] - 27s 172ms/step - loss: 1.9409 - accuracy: 0.2778 - val_loss: 2.0252 - val_accuracy: 0.2345\n",
            "Epoch 9/1000\n",
            "157/157 [==============================] - 27s 174ms/step - loss: 2.0120 - accuracy: 0.2560 - val_loss: 2.1670 - val_accuracy: 0.2051\n",
            "Epoch 10/1000\n",
            "157/157 [==============================] - 27s 175ms/step - loss: 2.0084 - accuracy: 0.2608 - val_loss: 2.0778 - val_accuracy: 0.2357\n",
            "Epoch 11/1000\n",
            "157/157 [==============================] - 26s 169ms/step - loss: 1.9921 - accuracy: 0.2686 - val_loss: 2.0346 - val_accuracy: 0.2351\n",
            "Epoch 12/1000\n",
            "157/157 [==============================] - 27s 173ms/step - loss: 1.9855 - accuracy: 0.2676 - val_loss: 2.0023 - val_accuracy: 0.2586\n",
            "Epoch 13/1000\n",
            "157/157 [==============================] - 27s 174ms/step - loss: 1.9599 - accuracy: 0.2738 - val_loss: 2.1434 - val_accuracy: 0.1918\n"
          ]
        },
        {
          "output_type": "execute_result",
          "data": {
            "text/plain": [
              "<keras.src.callbacks.History at 0x7c565622a530>"
            ]
          },
          "metadata": {},
          "execution_count": 94
        }
      ]
    },
    {
      "cell_type": "markdown",
      "source": [
        "# Alpha Dropout"
      ],
      "metadata": {
        "id": "aXpyybTsgDr2"
      }
    },
    {
      "cell_type": "code",
      "source": [
        "model = tf.keras.Sequential()\n",
        "model.add(tf.keras.layers.Flatten(input_shape=[32, 32, 3]))\n",
        "for _ in range(100):\n",
        "  model.add(tf.keras.layers.BatchNormalization())\n",
        "  model.add(tf.keras.layers.Dense(100, activation='selu',\n",
        "                                 kernel_initializer='lecun_normal'))\n",
        "model.add(tf.keras.layers.AlphaDropout(rate=0.2))\n",
        "model.add(tf.keras.layers.Dense(10, activation='softmax'))"
      ],
      "metadata": {
        "id": "RvIvjRiLkbWe"
      },
      "execution_count": null,
      "outputs": []
    },
    {
      "cell_type": "code",
      "source": [
        "optimizer = tf.keras.optimizers.Nadam(learning_rate=5e-4)\n",
        "model.compile(loss='sparse_categorical_crossentropy',\n",
        "              optimizer=optimizer,\n",
        "              metrics=['accuracy'])\n",
        "\n",
        "checkpoint_cb = tf.keras.callbacks.ModelCheckpoint('MyCheckpoints',\n",
        "                                                   save_weights_only=True)\n",
        "early_stopping_cb = tf.keras.callbacks.EarlyStopping(patience=10,\n",
        "                                                     restore_best_weights=True)"
      ],
      "metadata": {
        "id": "xcNCqYCGj-8Z"
      },
      "execution_count": null,
      "outputs": []
    },
    {
      "cell_type": "code",
      "source": [
        "model.fit(X_train[:5000], y_train[:5000], epochs=1000,\n",
        "          validation_data=(X_test, y_test),\n",
        "          callbacks=[checkpoint_cb, early_stopping_cb])"
      ],
      "metadata": {
        "colab": {
          "base_uri": "https://localhost:8080/"
        },
        "id": "wmSKVaIHoSaX",
        "outputId": "ec14f1d5-cdbb-47ff-c642-22669f9933ec"
      },
      "execution_count": null,
      "outputs": [
        {
          "output_type": "stream",
          "name": "stdout",
          "text": [
            "Epoch 1/1000\n",
            "157/157 [==============================] - 133s 196ms/step - loss: 2.7079 - accuracy: 0.1094 - val_loss: 2.4314 - val_accuracy: 0.1642\n",
            "Epoch 2/1000\n",
            "157/157 [==============================] - 28s 178ms/step - loss: 2.5829 - accuracy: 0.1118 - val_loss: 2.3506 - val_accuracy: 0.1469\n",
            "Epoch 3/1000\n",
            "157/157 [==============================] - 27s 171ms/step - loss: 2.4642 - accuracy: 0.1258 - val_loss: 2.2938 - val_accuracy: 0.1621\n",
            "Epoch 4/1000\n",
            "157/157 [==============================] - 26s 164ms/step - loss: 2.3823 - accuracy: 0.1462 - val_loss: 2.2955 - val_accuracy: 0.1695\n",
            "Epoch 5/1000\n",
            "157/157 [==============================] - 25s 161ms/step - loss: 2.3280 - accuracy: 0.1612 - val_loss: 2.2102 - val_accuracy: 0.1865\n",
            "Epoch 6/1000\n",
            "157/157 [==============================] - 27s 170ms/step - loss: 2.2863 - accuracy: 0.1752 - val_loss: 2.1849 - val_accuracy: 0.1961\n",
            "Epoch 7/1000\n",
            "157/157 [==============================] - 25s 162ms/step - loss: 2.2251 - accuracy: 0.1858 - val_loss: 2.2104 - val_accuracy: 0.1971\n",
            "Epoch 8/1000\n",
            "157/157 [==============================] - 26s 168ms/step - loss: 2.2052 - accuracy: 0.1910 - val_loss: 2.1063 - val_accuracy: 0.2338\n",
            "Epoch 9/1000\n",
            "157/157 [==============================] - 26s 165ms/step - loss: 2.1563 - accuracy: 0.2032 - val_loss: 2.0918 - val_accuracy: 0.2492\n",
            "Epoch 10/1000\n",
            "157/157 [==============================] - 25s 161ms/step - loss: 2.1565 - accuracy: 0.2036 - val_loss: 2.1360 - val_accuracy: 0.2249\n",
            "Epoch 11/1000\n",
            "157/157 [==============================] - 26s 163ms/step - loss: 2.1184 - accuracy: 0.2242 - val_loss: 2.0656 - val_accuracy: 0.2597\n",
            "Epoch 12/1000\n",
            "157/157 [==============================] - 25s 162ms/step - loss: 2.0794 - accuracy: 0.2374 - val_loss: 2.0935 - val_accuracy: 0.2440\n",
            "Epoch 13/1000\n",
            "157/157 [==============================] - 28s 176ms/step - loss: 2.0474 - accuracy: 0.2506 - val_loss: 2.0737 - val_accuracy: 0.2513\n",
            "Epoch 14/1000\n",
            "157/157 [==============================] - 26s 167ms/step - loss: 2.0350 - accuracy: 0.2584 - val_loss: 2.1198 - val_accuracy: 0.2224\n",
            "Epoch 15/1000\n",
            "157/157 [==============================] - 27s 173ms/step - loss: 2.0229 - accuracy: 0.2566 - val_loss: 2.1246 - val_accuracy: 0.2454\n",
            "Epoch 16/1000\n",
            "157/157 [==============================] - 26s 163ms/step - loss: 2.0058 - accuracy: 0.2548 - val_loss: 2.0402 - val_accuracy: 0.2470\n",
            "Epoch 17/1000\n",
            "157/157 [==============================] - 27s 174ms/step - loss: 1.9725 - accuracy: 0.2730 - val_loss: 1.9653 - val_accuracy: 0.2992\n",
            "Epoch 18/1000\n",
            "157/157 [==============================] - 28s 177ms/step - loss: 1.9622 - accuracy: 0.2838 - val_loss: 2.1454 - val_accuracy: 0.2727\n",
            "Epoch 19/1000\n",
            "157/157 [==============================] - 27s 171ms/step - loss: 1.9783 - accuracy: 0.2736 - val_loss: 2.0329 - val_accuracy: 0.2648\n",
            "Epoch 20/1000\n",
            "157/157 [==============================] - 25s 161ms/step - loss: 1.9686 - accuracy: 0.2758 - val_loss: 1.9892 - val_accuracy: 0.2827\n",
            "Epoch 21/1000\n",
            "157/157 [==============================] - 27s 173ms/step - loss: 1.9381 - accuracy: 0.2816 - val_loss: 2.0511 - val_accuracy: 0.2625\n",
            "Epoch 22/1000\n",
            "157/157 [==============================] - 27s 173ms/step - loss: 1.9330 - accuracy: 0.2976 - val_loss: 2.0587 - val_accuracy: 0.2602\n",
            "Epoch 23/1000\n",
            "157/157 [==============================] - 28s 179ms/step - loss: 1.9167 - accuracy: 0.3062 - val_loss: 2.0126 - val_accuracy: 0.2778\n",
            "Epoch 24/1000\n",
            "157/157 [==============================] - 27s 174ms/step - loss: 1.9305 - accuracy: 0.2992 - val_loss: 2.0692 - val_accuracy: 0.2542\n",
            "Epoch 25/1000\n",
            "157/157 [==============================] - 26s 163ms/step - loss: 1.9216 - accuracy: 0.2934 - val_loss: 1.9883 - val_accuracy: 0.2912\n",
            "Epoch 26/1000\n",
            "157/157 [==============================] - 25s 160ms/step - loss: 1.8851 - accuracy: 0.3138 - val_loss: 2.0312 - val_accuracy: 0.3068\n",
            "Epoch 27/1000\n",
            "157/157 [==============================] - 25s 162ms/step - loss: 1.8857 - accuracy: 0.3132 - val_loss: 2.0307 - val_accuracy: 0.2865\n"
          ]
        },
        {
          "output_type": "execute_result",
          "data": {
            "text/plain": [
              "<keras.src.callbacks.History at 0x7c565644bcd0>"
            ]
          },
          "metadata": {},
          "execution_count": 99
        }
      ]
    },
    {
      "cell_type": "code",
      "source": [],
      "metadata": {
        "id": "eG9ygZoxoUkK"
      },
      "execution_count": null,
      "outputs": []
    }
  ]
}