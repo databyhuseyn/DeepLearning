{
  "nbformat": 4,
  "nbformat_minor": 0,
  "metadata": {
    "colab": {
      "provenance": [],
      "gpuType": "T4",
      "authorship_tag": "ABX9TyOub4TogtDVDNK46scm2pMk",
      "include_colab_link": true
    },
    "kernelspec": {
      "name": "python3",
      "display_name": "Python 3"
    },
    "language_info": {
      "name": "python"
    },
    "accelerator": "GPU"
  },
  "cells": [
    {
      "cell_type": "markdown",
      "metadata": {
        "id": "view-in-github",
        "colab_type": "text"
      },
      "source": [
        "<a href=\"https://colab.research.google.com/github/databyhuseyn/DeepLearning/blob/main/Deep_Learning_Tensorflow.ipynb\" target=\"_parent\"><img src=\"https://colab.research.google.com/assets/colab-badge.svg\" alt=\"Open In Colab\"/></a>"
      ]
    },
    {
      "cell_type": "code",
      "execution_count": 1,
      "metadata": {
        "id": "OGutLEA7MA5w"
      },
      "outputs": [],
      "source": [
        "import pandas as pd\n",
        "import numpy as np\n",
        "import matplotlib.pyplot as plt\n",
        "import tensorflow as tf"
      ]
    },
    {
      "cell_type": "code",
      "source": [
        "print(tf.__version__)"
      ],
      "metadata": {
        "colab": {
          "base_uri": "https://localhost:8080/"
        },
        "id": "T1YXQ-OwMHd_",
        "outputId": "d007c4f9-be73-4327-ec71-a926221ad5b7"
      },
      "execution_count": 2,
      "outputs": [
        {
          "output_type": "stream",
          "name": "stdout",
          "text": [
            "2.18.0\n"
          ]
        }
      ]
    },
    {
      "cell_type": "code",
      "source": [
        "scalar = tf.constant(7)\n",
        "scalar"
      ],
      "metadata": {
        "colab": {
          "base_uri": "https://localhost:8080/"
        },
        "id": "L8eTOASGM8SU",
        "outputId": "998322fd-aa68-4a35-d7e2-3f8d3aea7520"
      },
      "execution_count": 3,
      "outputs": [
        {
          "output_type": "execute_result",
          "data": {
            "text/plain": [
              "<tf.Tensor: shape=(), dtype=int32, numpy=7>"
            ]
          },
          "metadata": {},
          "execution_count": 3
        }
      ]
    },
    {
      "cell_type": "code",
      "source": [
        "scalar.ndim"
      ],
      "metadata": {
        "colab": {
          "base_uri": "https://localhost:8080/"
        },
        "id": "Qc_qhxWRP83p",
        "outputId": "ab5f38fa-cdb0-43db-de82-7217c66d844f"
      },
      "execution_count": 4,
      "outputs": [
        {
          "output_type": "execute_result",
          "data": {
            "text/plain": [
              "0"
            ]
          },
          "metadata": {},
          "execution_count": 4
        }
      ]
    },
    {
      "cell_type": "code",
      "source": [
        "vector = tf.constant([10, 10])\n",
        "vector"
      ],
      "metadata": {
        "colab": {
          "base_uri": "https://localhost:8080/"
        },
        "id": "c3wwVa1-P-78",
        "outputId": "0a3cf7da-5d75-48dd-cb3c-cf37231ef459"
      },
      "execution_count": 5,
      "outputs": [
        {
          "output_type": "execute_result",
          "data": {
            "text/plain": [
              "<tf.Tensor: shape=(2,), dtype=int32, numpy=array([10, 10], dtype=int32)>"
            ]
          },
          "metadata": {},
          "execution_count": 5
        }
      ]
    },
    {
      "cell_type": "code",
      "source": [
        "vector.ndim"
      ],
      "metadata": {
        "colab": {
          "base_uri": "https://localhost:8080/"
        },
        "id": "b97Un_GLROTU",
        "outputId": "0b05059d-45c2-42ce-c182-41b55f10aa86"
      },
      "execution_count": 6,
      "outputs": [
        {
          "output_type": "execute_result",
          "data": {
            "text/plain": [
              "1"
            ]
          },
          "metadata": {},
          "execution_count": 6
        }
      ]
    },
    {
      "cell_type": "code",
      "source": [
        "matrix = tf.constant([[10,7],\n",
        "                      [7,10]])\n",
        "matrix"
      ],
      "metadata": {
        "colab": {
          "base_uri": "https://localhost:8080/"
        },
        "id": "t3ZlO4FWRW3h",
        "outputId": "b25ff35b-ce66-4080-f4b9-0d3bd26b2323"
      },
      "execution_count": 7,
      "outputs": [
        {
          "output_type": "execute_result",
          "data": {
            "text/plain": [
              "<tf.Tensor: shape=(2, 2), dtype=int32, numpy=\n",
              "array([[10,  7],\n",
              "       [ 7, 10]], dtype=int32)>"
            ]
          },
          "metadata": {},
          "execution_count": 7
        }
      ]
    },
    {
      "cell_type": "code",
      "source": [
        "matrix.ndim"
      ],
      "metadata": {
        "colab": {
          "base_uri": "https://localhost:8080/"
        },
        "id": "VLFiMB1JRoFs",
        "outputId": "eee0adb4-1c5d-4fb6-82bf-a512bfac9d31"
      },
      "execution_count": 8,
      "outputs": [
        {
          "output_type": "execute_result",
          "data": {
            "text/plain": [
              "2"
            ]
          },
          "metadata": {},
          "execution_count": 8
        }
      ]
    },
    {
      "cell_type": "code",
      "source": [
        "another_matrix = tf.constant([[5., 5.],\n",
        "                              [5., 5.],\n",
        "                              [5., 5.]], dtype = tf.float32)\n",
        "another_matrix"
      ],
      "metadata": {
        "colab": {
          "base_uri": "https://localhost:8080/"
        },
        "id": "VoobduHeRpBF",
        "outputId": "ad7ecd92-b9f6-4e26-8f4a-2b0b0bb44bb1"
      },
      "execution_count": 9,
      "outputs": [
        {
          "output_type": "execute_result",
          "data": {
            "text/plain": [
              "<tf.Tensor: shape=(3, 2), dtype=float32, numpy=\n",
              "array([[5., 5.],\n",
              "       [5., 5.],\n",
              "       [5., 5.]], dtype=float32)>"
            ]
          },
          "metadata": {},
          "execution_count": 9
        }
      ]
    },
    {
      "cell_type": "code",
      "source": [
        "another_matrix.ndim"
      ],
      "metadata": {
        "colab": {
          "base_uri": "https://localhost:8080/"
        },
        "id": "tgPxqNPnR-Qo",
        "outputId": "5bacb9ce-dbfb-42e1-ffb2-ed7334cdfbac"
      },
      "execution_count": 10,
      "outputs": [
        {
          "output_type": "execute_result",
          "data": {
            "text/plain": [
              "2"
            ]
          },
          "metadata": {},
          "execution_count": 10
        }
      ]
    },
    {
      "cell_type": "code",
      "source": [
        "changeable_tensor = tf.Variable([5, 7])\n",
        "unchangeable_tensor = tf.constant([5, 7])\n",
        "changeable_tensor, unchangeable_tensor"
      ],
      "metadata": {
        "colab": {
          "base_uri": "https://localhost:8080/"
        },
        "id": "qKrHfdpvSDBC",
        "outputId": "61bb874d-462d-4bc6-cf9f-10b7d90ee19f"
      },
      "execution_count": 11,
      "outputs": [
        {
          "output_type": "execute_result",
          "data": {
            "text/plain": [
              "(<tf.Variable 'Variable:0' shape=(2,) dtype=int32, numpy=array([5, 7], dtype=int32)>,\n",
              " <tf.Tensor: shape=(2,), dtype=int32, numpy=array([5, 7], dtype=int32)>)"
            ]
          },
          "metadata": {},
          "execution_count": 11
        }
      ]
    },
    {
      "cell_type": "code",
      "source": [
        "changeable_tensor[0].assign(2)\n",
        "changeable_tensor"
      ],
      "metadata": {
        "colab": {
          "base_uri": "https://localhost:8080/"
        },
        "id": "nejQVGqbTGOf",
        "outputId": "c53aa1c4-6123-4148-a92a-50aefe4600e7"
      },
      "execution_count": 12,
      "outputs": [
        {
          "output_type": "execute_result",
          "data": {
            "text/plain": [
              "<tf.Variable 'Variable:0' shape=(2,) dtype=int32, numpy=array([2, 7], dtype=int32)>"
            ]
          },
          "metadata": {},
          "execution_count": 12
        }
      ]
    },
    {
      "cell_type": "code",
      "source": [
        "random_1 = tf.random.Generator.from_seed(42)\n",
        "random_1 = random_1.normal(shape = (3, 3))\n",
        "random_1"
      ],
      "metadata": {
        "colab": {
          "base_uri": "https://localhost:8080/"
        },
        "id": "Q8XYyPd8TUOu",
        "outputId": "f817c309-1d34-4eec-dc46-63102f858e9b"
      },
      "execution_count": 65,
      "outputs": [
        {
          "output_type": "execute_result",
          "data": {
            "text/plain": [
              "<tf.Tensor: shape=(3, 3), dtype=float32, numpy=\n",
              "array([[-0.7565803 , -0.06854702,  0.07595026],\n",
              "       [-1.2573844 , -0.23193765, -1.8107855 ],\n",
              "       [ 0.09988727, -0.50998646, -0.7535806 ]], dtype=float32)>"
            ]
          },
          "metadata": {},
          "execution_count": 65
        }
      ]
    },
    {
      "cell_type": "code",
      "source": [
        "not_shuffled = tf.constant([[1, 5],\n",
        "                            [7, 9],\n",
        "                            [3, 8]])\n",
        "\n",
        "not_shuffled"
      ],
      "metadata": {
        "colab": {
          "base_uri": "https://localhost:8080/"
        },
        "id": "acn8ugLGT2dP",
        "outputId": "0b835e30-b7a9-4e00-efff-6d5150543877"
      },
      "execution_count": 14,
      "outputs": [
        {
          "output_type": "execute_result",
          "data": {
            "text/plain": [
              "<tf.Tensor: shape=(3, 2), dtype=int32, numpy=\n",
              "array([[1, 5],\n",
              "       [7, 9],\n",
              "       [3, 8]], dtype=int32)>"
            ]
          },
          "metadata": {},
          "execution_count": 14
        }
      ]
    },
    {
      "cell_type": "code",
      "source": [
        "shuffled = tf.random.shuffle(not_shuffled)\n",
        "shuffled"
      ],
      "metadata": {
        "colab": {
          "base_uri": "https://localhost:8080/"
        },
        "id": "uTyv1dqHXGKa",
        "outputId": "82d6ef91-95cc-4ffc-913d-030390eaad1d"
      },
      "execution_count": 15,
      "outputs": [
        {
          "output_type": "execute_result",
          "data": {
            "text/plain": [
              "<tf.Tensor: shape=(3, 2), dtype=int32, numpy=\n",
              "array([[1, 5],\n",
              "       [3, 8],\n",
              "       [7, 9]], dtype=int32)>"
            ]
          },
          "metadata": {},
          "execution_count": 15
        }
      ]
    },
    {
      "cell_type": "code",
      "source": [
        "tf.random.set_seed(42)\n",
        "tf.random.shuffle(not_shuffled, seed=42)"
      ],
      "metadata": {
        "colab": {
          "base_uri": "https://localhost:8080/"
        },
        "id": "iIi3S1pBXJoJ",
        "outputId": "d217dcfc-8cc1-4d4b-ac04-3b8130660622"
      },
      "execution_count": 74,
      "outputs": [
        {
          "output_type": "execute_result",
          "data": {
            "text/plain": [
              "<tf.Tensor: shape=(3, 2), dtype=int32, numpy=\n",
              "array([[1, 5],\n",
              "       [7, 9],\n",
              "       [3, 8]], dtype=int32)>"
            ]
          },
          "metadata": {},
          "execution_count": 74
        }
      ]
    },
    {
      "cell_type": "code",
      "source": [
        "tf.ones([3, 4])"
      ],
      "metadata": {
        "colab": {
          "base_uri": "https://localhost:8080/"
        },
        "id": "lD2VGQS4XgsG",
        "outputId": "fba0b103-192c-4101-9905-1ff9fd43f759"
      },
      "execution_count": 17,
      "outputs": [
        {
          "output_type": "execute_result",
          "data": {
            "text/plain": [
              "<tf.Tensor: shape=(3, 4), dtype=float32, numpy=\n",
              "array([[1., 1., 1., 1.],\n",
              "       [1., 1., 1., 1.],\n",
              "       [1., 1., 1., 1.]], dtype=float32)>"
            ]
          },
          "metadata": {},
          "execution_count": 17
        }
      ]
    },
    {
      "cell_type": "code",
      "source": [
        "tf.zeros([3, 4])"
      ],
      "metadata": {
        "colab": {
          "base_uri": "https://localhost:8080/"
        },
        "id": "0bq0pkZbYDlc",
        "outputId": "347f7048-6774-4a49-8f2d-ade3b3502bf6"
      },
      "execution_count": 18,
      "outputs": [
        {
          "output_type": "execute_result",
          "data": {
            "text/plain": [
              "<tf.Tensor: shape=(3, 4), dtype=float32, numpy=\n",
              "array([[0., 0., 0., 0.],\n",
              "       [0., 0., 0., 0.],\n",
              "       [0., 0., 0., 0.]], dtype=float32)>"
            ]
          },
          "metadata": {},
          "execution_count": 18
        }
      ]
    },
    {
      "cell_type": "code",
      "source": [
        "import numpy as np\n",
        "\n",
        "numpy_A = np.arange(1, 25, dtype = np.int32)\n",
        "\n",
        "numpy_A"
      ],
      "metadata": {
        "colab": {
          "base_uri": "https://localhost:8080/"
        },
        "id": "BD98mJHXYGMG",
        "outputId": "82163dae-7117-41a0-8b31-86c81aa0e00c"
      },
      "execution_count": 19,
      "outputs": [
        {
          "output_type": "execute_result",
          "data": {
            "text/plain": [
              "array([ 1,  2,  3,  4,  5,  6,  7,  8,  9, 10, 11, 12, 13, 14, 15, 16, 17,\n",
              "       18, 19, 20, 21, 22, 23, 24], dtype=int32)"
            ]
          },
          "metadata": {},
          "execution_count": 19
        }
      ]
    },
    {
      "cell_type": "code",
      "source": [
        "A = tf.constant(numpy_A, shape = (2, 2, 2, 3))\n",
        "A"
      ],
      "metadata": {
        "colab": {
          "base_uri": "https://localhost:8080/"
        },
        "id": "iKgOdrOMYQE5",
        "outputId": "ad39f315-8d43-4fa1-d9a6-70fdcf046b4d"
      },
      "execution_count": 20,
      "outputs": [
        {
          "output_type": "execute_result",
          "data": {
            "text/plain": [
              "<tf.Tensor: shape=(2, 2, 2, 3), dtype=int32, numpy=\n",
              "array([[[[ 1,  2,  3],\n",
              "         [ 4,  5,  6]],\n",
              "\n",
              "        [[ 7,  8,  9],\n",
              "         [10, 11, 12]]],\n",
              "\n",
              "\n",
              "       [[[13, 14, 15],\n",
              "         [16, 17, 18]],\n",
              "\n",
              "        [[19, 20, 21],\n",
              "         [22, 23, 24]]]], dtype=int32)>"
            ]
          },
          "metadata": {},
          "execution_count": 20
        }
      ]
    },
    {
      "cell_type": "code",
      "source": [
        "zeros = tf.zeros([1, 2, 3, 4, 5, 4])\n",
        "zeros"
      ],
      "metadata": {
        "colab": {
          "base_uri": "https://localhost:8080/"
        },
        "id": "TKo-s0haYyqp",
        "outputId": "96a2ab59-a969-4605-a4e7-61e837793427"
      },
      "execution_count": 21,
      "outputs": [
        {
          "output_type": "execute_result",
          "data": {
            "text/plain": [
              "<tf.Tensor: shape=(1, 2, 3, 4, 5, 4), dtype=float32, numpy=\n",
              "array([[[[[[0., 0., 0., 0.],\n",
              "           [0., 0., 0., 0.],\n",
              "           [0., 0., 0., 0.],\n",
              "           [0., 0., 0., 0.],\n",
              "           [0., 0., 0., 0.]],\n",
              "\n",
              "          [[0., 0., 0., 0.],\n",
              "           [0., 0., 0., 0.],\n",
              "           [0., 0., 0., 0.],\n",
              "           [0., 0., 0., 0.],\n",
              "           [0., 0., 0., 0.]],\n",
              "\n",
              "          [[0., 0., 0., 0.],\n",
              "           [0., 0., 0., 0.],\n",
              "           [0., 0., 0., 0.],\n",
              "           [0., 0., 0., 0.],\n",
              "           [0., 0., 0., 0.]],\n",
              "\n",
              "          [[0., 0., 0., 0.],\n",
              "           [0., 0., 0., 0.],\n",
              "           [0., 0., 0., 0.],\n",
              "           [0., 0., 0., 0.],\n",
              "           [0., 0., 0., 0.]]],\n",
              "\n",
              "\n",
              "         [[[0., 0., 0., 0.],\n",
              "           [0., 0., 0., 0.],\n",
              "           [0., 0., 0., 0.],\n",
              "           [0., 0., 0., 0.],\n",
              "           [0., 0., 0., 0.]],\n",
              "\n",
              "          [[0., 0., 0., 0.],\n",
              "           [0., 0., 0., 0.],\n",
              "           [0., 0., 0., 0.],\n",
              "           [0., 0., 0., 0.],\n",
              "           [0., 0., 0., 0.]],\n",
              "\n",
              "          [[0., 0., 0., 0.],\n",
              "           [0., 0., 0., 0.],\n",
              "           [0., 0., 0., 0.],\n",
              "           [0., 0., 0., 0.],\n",
              "           [0., 0., 0., 0.]],\n",
              "\n",
              "          [[0., 0., 0., 0.],\n",
              "           [0., 0., 0., 0.],\n",
              "           [0., 0., 0., 0.],\n",
              "           [0., 0., 0., 0.],\n",
              "           [0., 0., 0., 0.]]],\n",
              "\n",
              "\n",
              "         [[[0., 0., 0., 0.],\n",
              "           [0., 0., 0., 0.],\n",
              "           [0., 0., 0., 0.],\n",
              "           [0., 0., 0., 0.],\n",
              "           [0., 0., 0., 0.]],\n",
              "\n",
              "          [[0., 0., 0., 0.],\n",
              "           [0., 0., 0., 0.],\n",
              "           [0., 0., 0., 0.],\n",
              "           [0., 0., 0., 0.],\n",
              "           [0., 0., 0., 0.]],\n",
              "\n",
              "          [[0., 0., 0., 0.],\n",
              "           [0., 0., 0., 0.],\n",
              "           [0., 0., 0., 0.],\n",
              "           [0., 0., 0., 0.],\n",
              "           [0., 0., 0., 0.]],\n",
              "\n",
              "          [[0., 0., 0., 0.],\n",
              "           [0., 0., 0., 0.],\n",
              "           [0., 0., 0., 0.],\n",
              "           [0., 0., 0., 0.],\n",
              "           [0., 0., 0., 0.]]]],\n",
              "\n",
              "\n",
              "\n",
              "        [[[[0., 0., 0., 0.],\n",
              "           [0., 0., 0., 0.],\n",
              "           [0., 0., 0., 0.],\n",
              "           [0., 0., 0., 0.],\n",
              "           [0., 0., 0., 0.]],\n",
              "\n",
              "          [[0., 0., 0., 0.],\n",
              "           [0., 0., 0., 0.],\n",
              "           [0., 0., 0., 0.],\n",
              "           [0., 0., 0., 0.],\n",
              "           [0., 0., 0., 0.]],\n",
              "\n",
              "          [[0., 0., 0., 0.],\n",
              "           [0., 0., 0., 0.],\n",
              "           [0., 0., 0., 0.],\n",
              "           [0., 0., 0., 0.],\n",
              "           [0., 0., 0., 0.]],\n",
              "\n",
              "          [[0., 0., 0., 0.],\n",
              "           [0., 0., 0., 0.],\n",
              "           [0., 0., 0., 0.],\n",
              "           [0., 0., 0., 0.],\n",
              "           [0., 0., 0., 0.]]],\n",
              "\n",
              "\n",
              "         [[[0., 0., 0., 0.],\n",
              "           [0., 0., 0., 0.],\n",
              "           [0., 0., 0., 0.],\n",
              "           [0., 0., 0., 0.],\n",
              "           [0., 0., 0., 0.]],\n",
              "\n",
              "          [[0., 0., 0., 0.],\n",
              "           [0., 0., 0., 0.],\n",
              "           [0., 0., 0., 0.],\n",
              "           [0., 0., 0., 0.],\n",
              "           [0., 0., 0., 0.]],\n",
              "\n",
              "          [[0., 0., 0., 0.],\n",
              "           [0., 0., 0., 0.],\n",
              "           [0., 0., 0., 0.],\n",
              "           [0., 0., 0., 0.],\n",
              "           [0., 0., 0., 0.]],\n",
              "\n",
              "          [[0., 0., 0., 0.],\n",
              "           [0., 0., 0., 0.],\n",
              "           [0., 0., 0., 0.],\n",
              "           [0., 0., 0., 0.],\n",
              "           [0., 0., 0., 0.]]],\n",
              "\n",
              "\n",
              "         [[[0., 0., 0., 0.],\n",
              "           [0., 0., 0., 0.],\n",
              "           [0., 0., 0., 0.],\n",
              "           [0., 0., 0., 0.],\n",
              "           [0., 0., 0., 0.]],\n",
              "\n",
              "          [[0., 0., 0., 0.],\n",
              "           [0., 0., 0., 0.],\n",
              "           [0., 0., 0., 0.],\n",
              "           [0., 0., 0., 0.],\n",
              "           [0., 0., 0., 0.]],\n",
              "\n",
              "          [[0., 0., 0., 0.],\n",
              "           [0., 0., 0., 0.],\n",
              "           [0., 0., 0., 0.],\n",
              "           [0., 0., 0., 0.],\n",
              "           [0., 0., 0., 0.]],\n",
              "\n",
              "          [[0., 0., 0., 0.],\n",
              "           [0., 0., 0., 0.],\n",
              "           [0., 0., 0., 0.],\n",
              "           [0., 0., 0., 0.],\n",
              "           [0., 0., 0., 0.]]]]]], dtype=float32)>"
            ]
          },
          "metadata": {},
          "execution_count": 21
        }
      ]
    },
    {
      "cell_type": "code",
      "source": [
        "tf.rank(zeros)"
      ],
      "metadata": {
        "colab": {
          "base_uri": "https://localhost:8080/"
        },
        "id": "ym2k88OzZcNd",
        "outputId": "54b0c238-afe1-4016-bccb-0013fecbaee6"
      },
      "execution_count": 22,
      "outputs": [
        {
          "output_type": "execute_result",
          "data": {
            "text/plain": [
              "<tf.Tensor: shape=(), dtype=int32, numpy=6>"
            ]
          },
          "metadata": {},
          "execution_count": 22
        }
      ]
    },
    {
      "cell_type": "code",
      "source": [
        "A.shape, A.ndim, tf.size(A), tf.rank(A)"
      ],
      "metadata": {
        "colab": {
          "base_uri": "https://localhost:8080/"
        },
        "id": "F-D8ZELIZzpD",
        "outputId": "7a85589b-44ac-4d2a-8fef-8c1d8b7fea11"
      },
      "execution_count": 23,
      "outputs": [
        {
          "output_type": "execute_result",
          "data": {
            "text/plain": [
              "(TensorShape([2, 2, 2, 3]),\n",
              " 4,\n",
              " <tf.Tensor: shape=(), dtype=int32, numpy=24>,\n",
              " <tf.Tensor: shape=(), dtype=int32, numpy=4>)"
            ]
          },
          "metadata": {},
          "execution_count": 23
        }
      ]
    },
    {
      "cell_type": "code",
      "source": [
        "def info_about_tensor(tensor):\n",
        "  print(\"Data type of every element: \", tensor.dtype)\n",
        "  print(\"Number of dimensions (Rank): \", tf.rank(tensor))\n",
        "  print(\"Shape of tensor: \", tensor.shape)\n",
        "  print(\"Elements along the 0 axis: \", tensor.shape[0])\n",
        "  print(\"Elements along the last axis: \", tensor.shape[-1])\n",
        "  print(\"Total number of elements in our tensor: \", tf.size(tensor).numpy())\n"
      ],
      "metadata": {
        "id": "5qYpT-h2Z5aF"
      },
      "execution_count": 24,
      "outputs": []
    },
    {
      "cell_type": "code",
      "source": [
        "info_about_tensor(A)"
      ],
      "metadata": {
        "colab": {
          "base_uri": "https://localhost:8080/"
        },
        "id": "n2b_BjPBa1jf",
        "outputId": "e75e95d8-c929-4a47-f128-5525e6958498"
      },
      "execution_count": 25,
      "outputs": [
        {
          "output_type": "stream",
          "name": "stdout",
          "text": [
            "Data type of every element:  <dtype: 'int32'>\n",
            "Number of dimensions (Rank):  tf.Tensor(4, shape=(), dtype=int32)\n",
            "Shape of tensor:  (2, 2, 2, 3)\n",
            "Elements along the 0 axis:  2\n",
            "Elements along the last axis:  3\n",
            "Total number of elements in our tensor:  24\n"
          ]
        }
      ]
    },
    {
      "cell_type": "code",
      "source": [
        "rank_2_tensor = tf.ones(shape = (2, 3))\n",
        "rank_2_tensor"
      ],
      "metadata": {
        "colab": {
          "base_uri": "https://localhost:8080/"
        },
        "id": "lRDV8YYxa26B",
        "outputId": "fc425866-31f7-43da-e4ac-a8e4b234cba5"
      },
      "execution_count": 26,
      "outputs": [
        {
          "output_type": "execute_result",
          "data": {
            "text/plain": [
              "<tf.Tensor: shape=(2, 3), dtype=float32, numpy=\n",
              "array([[1., 1., 1.],\n",
              "       [1., 1., 1.]], dtype=float32)>"
            ]
          },
          "metadata": {},
          "execution_count": 26
        }
      ]
    },
    {
      "cell_type": "code",
      "source": [
        "tf.rank(rank_2_tensor)"
      ],
      "metadata": {
        "colab": {
          "base_uri": "https://localhost:8080/"
        },
        "id": "UxWck0i2bcPc",
        "outputId": "41c68f1a-87c9-4663-da7f-3003b79041c1"
      },
      "execution_count": 27,
      "outputs": [
        {
          "output_type": "execute_result",
          "data": {
            "text/plain": [
              "<tf.Tensor: shape=(), dtype=int32, numpy=2>"
            ]
          },
          "metadata": {},
          "execution_count": 27
        }
      ]
    },
    {
      "cell_type": "code",
      "source": [
        "rank_3_tensor = rank_2_tensor[..., tf.newaxis]\n",
        "rank_3_tensor"
      ],
      "metadata": {
        "colab": {
          "base_uri": "https://localhost:8080/"
        },
        "id": "c6KUzULXbf9b",
        "outputId": "540a19f4-7739-4a0d-8b7b-e66fbe9c34b9"
      },
      "execution_count": 28,
      "outputs": [
        {
          "output_type": "execute_result",
          "data": {
            "text/plain": [
              "<tf.Tensor: shape=(2, 3, 1), dtype=float32, numpy=\n",
              "array([[[1.],\n",
              "        [1.],\n",
              "        [1.]],\n",
              "\n",
              "       [[1.],\n",
              "        [1.],\n",
              "        [1.]]], dtype=float32)>"
            ]
          },
          "metadata": {},
          "execution_count": 28
        }
      ]
    },
    {
      "cell_type": "code",
      "source": [
        "tf.expand_dims(rank_2_tensor, axis=2)       # axis hara elave etdiyini gosterir"
      ],
      "metadata": {
        "colab": {
          "base_uri": "https://localhost:8080/"
        },
        "id": "i9WX02RibnAQ",
        "outputId": "43d42f55-b82e-4909-8aaf-75df49eb3918"
      },
      "execution_count": 29,
      "outputs": [
        {
          "output_type": "execute_result",
          "data": {
            "text/plain": [
              "<tf.Tensor: shape=(2, 3, 1), dtype=float32, numpy=\n",
              "array([[[1.],\n",
              "        [1.],\n",
              "        [1.]],\n",
              "\n",
              "       [[1.],\n",
              "        [1.],\n",
              "        [1.]]], dtype=float32)>"
            ]
          },
          "metadata": {},
          "execution_count": 29
        }
      ]
    },
    {
      "cell_type": "code",
      "source": [
        "tensor = tf.constant([[10, 6],\n",
        "                      [6, 9]])\n",
        "tensor + 10"
      ],
      "metadata": {
        "colab": {
          "base_uri": "https://localhost:8080/"
        },
        "id": "kYKCmO7DcLmB",
        "outputId": "468dae57-aae6-4000-b1ef-7d920e207a37"
      },
      "execution_count": 30,
      "outputs": [
        {
          "output_type": "execute_result",
          "data": {
            "text/plain": [
              "<tf.Tensor: shape=(2, 2), dtype=int32, numpy=\n",
              "array([[20, 16],\n",
              "       [16, 19]], dtype=int32)>"
            ]
          },
          "metadata": {},
          "execution_count": 30
        }
      ]
    },
    {
      "cell_type": "code",
      "source": [
        "tensor * 10\n",
        "\n",
        "# or\n",
        "\n",
        "tf.multiply(tensor, 10)"
      ],
      "metadata": {
        "colab": {
          "base_uri": "https://localhost:8080/"
        },
        "id": "1XG2CbGGcmT7",
        "outputId": "ffc9d503-0190-4992-ea6b-c67a8dcf4bbd"
      },
      "execution_count": 31,
      "outputs": [
        {
          "output_type": "execute_result",
          "data": {
            "text/plain": [
              "<tf.Tensor: shape=(2, 2), dtype=int32, numpy=\n",
              "array([[100,  60],\n",
              "       [ 60,  90]], dtype=int32)>"
            ]
          },
          "metadata": {},
          "execution_count": 31
        }
      ]
    },
    {
      "cell_type": "code",
      "source": [
        "tf.matmul(tensor, tensor)   # matrix multipication --> dot product\n",
        "\n",
        "# OR\n",
        "\n",
        "tensor @ tensor"
      ],
      "metadata": {
        "colab": {
          "base_uri": "https://localhost:8080/"
        },
        "id": "y_iwG1e0cpA0",
        "outputId": "b4843ee8-b5ce-41a2-c63d-e7a4a35b8858"
      },
      "execution_count": 32,
      "outputs": [
        {
          "output_type": "execute_result",
          "data": {
            "text/plain": [
              "<tf.Tensor: shape=(2, 2), dtype=int32, numpy=\n",
              "array([[136, 114],\n",
              "       [114, 117]], dtype=int32)>"
            ]
          },
          "metadata": {},
          "execution_count": 32
        }
      ]
    },
    {
      "cell_type": "code",
      "source": [
        "X = tf.constant([[1, 2, 3],\n",
        "                  [4, 5, 6]])\n",
        "Y = tf.constant([[7, 8, 9],\n",
        "                 [10, 11, 12]])\n",
        "\n",
        "X, Y"
      ],
      "metadata": {
        "colab": {
          "base_uri": "https://localhost:8080/"
        },
        "id": "M86GssArcvh0",
        "outputId": "2b70b762-ef6f-492b-d27c-47182aa68b78"
      },
      "execution_count": 33,
      "outputs": [
        {
          "output_type": "execute_result",
          "data": {
            "text/plain": [
              "(<tf.Tensor: shape=(2, 3), dtype=int32, numpy=\n",
              " array([[1, 2, 3],\n",
              "        [4, 5, 6]], dtype=int32)>,\n",
              " <tf.Tensor: shape=(2, 3), dtype=int32, numpy=\n",
              " array([[ 7,  8,  9],\n",
              "        [10, 11, 12]], dtype=int32)>)"
            ]
          },
          "metadata": {},
          "execution_count": 33
        }
      ]
    },
    {
      "cell_type": "code",
      "source": [
        "Y = tf.transpose(Y)\n",
        "Y"
      ],
      "metadata": {
        "colab": {
          "base_uri": "https://localhost:8080/"
        },
        "id": "3JdQjfhwdmzW",
        "outputId": "79cafcdf-2fb9-42ec-dc56-b86dbf9eacad"
      },
      "execution_count": 34,
      "outputs": [
        {
          "output_type": "execute_result",
          "data": {
            "text/plain": [
              "<tf.Tensor: shape=(3, 2), dtype=int32, numpy=\n",
              "array([[ 7, 10],\n",
              "       [ 8, 11],\n",
              "       [ 9, 12]], dtype=int32)>"
            ]
          },
          "metadata": {},
          "execution_count": 34
        }
      ]
    },
    {
      "cell_type": "code",
      "source": [
        "X @ Y"
      ],
      "metadata": {
        "colab": {
          "base_uri": "https://localhost:8080/"
        },
        "id": "na5FVQ1XdtJx",
        "outputId": "85f7403e-46fd-4d8b-c097-dc0bfc4d10ca"
      },
      "execution_count": 35,
      "outputs": [
        {
          "output_type": "execute_result",
          "data": {
            "text/plain": [
              "<tf.Tensor: shape=(2, 2), dtype=int32, numpy=\n",
              "array([[ 50,  68],\n",
              "       [122, 167]], dtype=int32)>"
            ]
          },
          "metadata": {},
          "execution_count": 35
        }
      ]
    },
    {
      "cell_type": "code",
      "source": [
        "tf.matmul(X, Y)"
      ],
      "metadata": {
        "colab": {
          "base_uri": "https://localhost:8080/"
        },
        "id": "J4FWkSNOeAjm",
        "outputId": "df3e0239-369c-458a-a04a-76a25c4b86fd"
      },
      "execution_count": 36,
      "outputs": [
        {
          "output_type": "execute_result",
          "data": {
            "text/plain": [
              "<tf.Tensor: shape=(2, 2), dtype=int32, numpy=\n",
              "array([[ 50,  68],\n",
              "       [122, 167]], dtype=int32)>"
            ]
          },
          "metadata": {},
          "execution_count": 36
        }
      ]
    },
    {
      "cell_type": "code",
      "source": [
        "tf.reshape(Y, shape= (2, 3))"
      ],
      "metadata": {
        "colab": {
          "base_uri": "https://localhost:8080/"
        },
        "id": "lv5QXCxOeDkb",
        "outputId": "2a154c29-23f2-4d6f-d9ab-136b2d07d2c7"
      },
      "execution_count": 37,
      "outputs": [
        {
          "output_type": "execute_result",
          "data": {
            "text/plain": [
              "<tf.Tensor: shape=(2, 3), dtype=int32, numpy=\n",
              "array([[ 7, 10,  8],\n",
              "       [11,  9, 12]], dtype=int32)>"
            ]
          },
          "metadata": {},
          "execution_count": 37
        }
      ]
    },
    {
      "cell_type": "code",
      "source": [
        "X, Y"
      ],
      "metadata": {
        "colab": {
          "base_uri": "https://localhost:8080/"
        },
        "id": "rteLNgdveJgT",
        "outputId": "e4cd4ede-54cf-437d-836a-2738236b0109"
      },
      "execution_count": 38,
      "outputs": [
        {
          "output_type": "execute_result",
          "data": {
            "text/plain": [
              "(<tf.Tensor: shape=(2, 3), dtype=int32, numpy=\n",
              " array([[1, 2, 3],\n",
              "        [4, 5, 6]], dtype=int32)>,\n",
              " <tf.Tensor: shape=(3, 2), dtype=int32, numpy=\n",
              " array([[ 7, 10],\n",
              "        [ 8, 11],\n",
              "        [ 9, 12]], dtype=int32)>)"
            ]
          },
          "metadata": {},
          "execution_count": 38
        }
      ]
    },
    {
      "cell_type": "code",
      "source": [
        "tf.tensordot(X, Y, axes = 1)"
      ],
      "metadata": {
        "colab": {
          "base_uri": "https://localhost:8080/"
        },
        "id": "CUz3Yn3JeKX0",
        "outputId": "8a27e7bc-265d-4731-b0d7-c46c499b2460"
      },
      "execution_count": 39,
      "outputs": [
        {
          "output_type": "execute_result",
          "data": {
            "text/plain": [
              "<tf.Tensor: shape=(2, 2), dtype=int32, numpy=\n",
              "array([[ 50,  68],\n",
              "       [122, 167]], dtype=int32)>"
            ]
          },
          "metadata": {},
          "execution_count": 39
        }
      ]
    },
    {
      "cell_type": "code",
      "source": [
        "A = tf.constant([4, 5])\n",
        "A.dtype"
      ],
      "metadata": {
        "colab": {
          "base_uri": "https://localhost:8080/"
        },
        "id": "L4NPQpmLeQED",
        "outputId": "2e17122c-45ab-424f-a56d-8db94263e7d2"
      },
      "execution_count": 40,
      "outputs": [
        {
          "output_type": "execute_result",
          "data": {
            "text/plain": [
              "tf.int32"
            ]
          },
          "metadata": {},
          "execution_count": 40
        }
      ]
    },
    {
      "cell_type": "code",
      "source": [
        "A = tf.cast(A, dtype = tf.int16)"
      ],
      "metadata": {
        "id": "h2N7MLdwe8Tk"
      },
      "execution_count": 41,
      "outputs": []
    },
    {
      "cell_type": "code",
      "source": [
        "A.dtype"
      ],
      "metadata": {
        "colab": {
          "base_uri": "https://localhost:8080/"
        },
        "id": "TQyYfsEofAC9",
        "outputId": "4993ee39-6157-42e6-c7cb-28b6dda87ecf"
      },
      "execution_count": 42,
      "outputs": [
        {
          "output_type": "execute_result",
          "data": {
            "text/plain": [
              "tf.int16"
            ]
          },
          "metadata": {},
          "execution_count": 42
        }
      ]
    },
    {
      "cell_type": "code",
      "source": [
        "E = tf.constant(np.random.randint(0, 100, size=50))\n",
        "E"
      ],
      "metadata": {
        "colab": {
          "base_uri": "https://localhost:8080/"
        },
        "id": "pLDR4e27fBvB",
        "outputId": "53e28dda-4748-4288-97e5-271abfc349d2"
      },
      "execution_count": 43,
      "outputs": [
        {
          "output_type": "execute_result",
          "data": {
            "text/plain": [
              "<tf.Tensor: shape=(50,), dtype=int64, numpy=\n",
              "array([46, 53, 76, 50, 44, 87, 88, 99, 94, 76, 47,  8, 16, 15, 78,  8, 81,\n",
              "       32, 49, 23, 65, 34, 80, 69, 24, 36, 46, 90, 11, 59, 66, 49,  3, 42,\n",
              "       94, 55, 43,  5, 96, 71, 19, 21, 70, 89, 17, 49, 96, 99, 21, 93])>"
            ]
          },
          "metadata": {},
          "execution_count": 43
        }
      ]
    },
    {
      "cell_type": "code",
      "source": [
        "E.dtype"
      ],
      "metadata": {
        "colab": {
          "base_uri": "https://localhost:8080/"
        },
        "id": "Y-SGpCbVfKT6",
        "outputId": "6d7cfb87-2cb6-432d-96de-6aab8f025405"
      },
      "execution_count": 44,
      "outputs": [
        {
          "output_type": "execute_result",
          "data": {
            "text/plain": [
              "tf.int64"
            ]
          },
          "metadata": {},
          "execution_count": 44
        }
      ]
    },
    {
      "cell_type": "code",
      "source": [
        "tf.random.set_seed(42)\n",
        "G = tf.constant(tf.random.uniform(shape = [50]), shape = [1, 1, 1, 1, 50])\n",
        "G"
      ],
      "metadata": {
        "colab": {
          "base_uri": "https://localhost:8080/"
        },
        "id": "yWPiWR1afmWe",
        "outputId": "2bc47d32-0cfb-43da-c341-ca917ad59917"
      },
      "execution_count": 79,
      "outputs": [
        {
          "output_type": "execute_result",
          "data": {
            "text/plain": [
              "<tf.Tensor: shape=(1, 1, 1, 1, 50), dtype=float32, numpy=\n",
              "array([[[[[0.6645621 , 0.44100678, 0.3528825 , 0.46448255, 0.03366041,\n",
              "           0.68467236, 0.74011743, 0.8724445 , 0.22632635, 0.22319686,\n",
              "           0.3103881 , 0.7223358 , 0.13318717, 0.5480639 , 0.5746088 ,\n",
              "           0.8996835 , 0.00946367, 0.5212307 , 0.6345445 , 0.1993283 ,\n",
              "           0.72942245, 0.54583454, 0.10756552, 0.6767061 , 0.6602763 ,\n",
              "           0.33695042, 0.60141766, 0.21062577, 0.8527372 , 0.44062173,\n",
              "           0.9485276 , 0.23752594, 0.81179297, 0.5263394 , 0.494308  ,\n",
              "           0.21612847, 0.8457197 , 0.8718841 , 0.3083862 , 0.6868038 ,\n",
              "           0.23764038, 0.7817228 , 0.9671384 , 0.06870162, 0.79873943,\n",
              "           0.66028714, 0.5871513 , 0.16461694, 0.7381023 , 0.32054043]]]]],\n",
              "      dtype=float32)>"
            ]
          },
          "metadata": {},
          "execution_count": 79
        }
      ]
    },
    {
      "cell_type": "code",
      "source": [
        "G.shape"
      ],
      "metadata": {
        "colab": {
          "base_uri": "https://localhost:8080/"
        },
        "id": "5XGnRuxefyZb",
        "outputId": "7c8af3e1-5782-447a-ce06-a8051e3942a7"
      },
      "execution_count": 46,
      "outputs": [
        {
          "output_type": "execute_result",
          "data": {
            "text/plain": [
              "TensorShape([1, 1, 1, 1, 50])"
            ]
          },
          "metadata": {},
          "execution_count": 46
        }
      ]
    },
    {
      "cell_type": "code",
      "source": [
        "G_squeezed = tf.squeeze(G)\n",
        "G_squeezed, G_squeezed.shape"
      ],
      "metadata": {
        "colab": {
          "base_uri": "https://localhost:8080/"
        },
        "id": "VsRpLszvf5hp",
        "outputId": "d58e0f2f-d8d1-4589-de18-8693b286561a"
      },
      "execution_count": 47,
      "outputs": [
        {
          "output_type": "execute_result",
          "data": {
            "text/plain": [
              "(<tf.Tensor: shape=(50,), dtype=float32, numpy=\n",
              " array([0.6645621 , 0.44100678, 0.3528825 , 0.46448255, 0.03366041,\n",
              "        0.68467236, 0.74011743, 0.8724445 , 0.22632635, 0.22319686,\n",
              "        0.3103881 , 0.7223358 , 0.13318717, 0.5480639 , 0.5746088 ,\n",
              "        0.8996835 , 0.00946367, 0.5212307 , 0.6345445 , 0.1993283 ,\n",
              "        0.72942245, 0.54583454, 0.10756552, 0.6767061 , 0.6602763 ,\n",
              "        0.33695042, 0.60141766, 0.21062577, 0.8527372 , 0.44062173,\n",
              "        0.9485276 , 0.23752594, 0.81179297, 0.5263394 , 0.494308  ,\n",
              "        0.21612847, 0.8457197 , 0.8718841 , 0.3083862 , 0.6868038 ,\n",
              "        0.23764038, 0.7817228 , 0.9671384 , 0.06870162, 0.79873943,\n",
              "        0.66028714, 0.5871513 , 0.16461694, 0.7381023 , 0.32054043],\n",
              "       dtype=float32)>,\n",
              " TensorShape([50]))"
            ]
          },
          "metadata": {},
          "execution_count": 47
        }
      ]
    },
    {
      "cell_type": "code",
      "source": [
        "tf.config.list_physical_devices()"
      ],
      "metadata": {
        "colab": {
          "base_uri": "https://localhost:8080/"
        },
        "id": "JyINn0JfgY6c",
        "outputId": "6b1d493e-ca35-4f64-c662-24a582d41f83"
      },
      "execution_count": 48,
      "outputs": [
        {
          "output_type": "execute_result",
          "data": {
            "text/plain": [
              "[PhysicalDevice(name='/physical_device:CPU:0', device_type='CPU'),\n",
              " PhysicalDevice(name='/physical_device:GPU:0', device_type='GPU')]"
            ]
          },
          "metadata": {},
          "execution_count": 48
        }
      ]
    },
    {
      "cell_type": "code",
      "source": [
        "!nvidia-smi"
      ],
      "metadata": {
        "colab": {
          "base_uri": "https://localhost:8080/"
        },
        "id": "U21dStJ-gb7u",
        "outputId": "bed44722-433b-4ce9-9e77-66c5e46f93fb"
      },
      "execution_count": 49,
      "outputs": [
        {
          "output_type": "stream",
          "name": "stdout",
          "text": [
            "Thu Mar  6 15:19:12 2025       \n",
            "+-----------------------------------------------------------------------------------------+\n",
            "| NVIDIA-SMI 550.54.15              Driver Version: 550.54.15      CUDA Version: 12.4     |\n",
            "|-----------------------------------------+------------------------+----------------------+\n",
            "| GPU  Name                 Persistence-M | Bus-Id          Disp.A | Volatile Uncorr. ECC |\n",
            "| Fan  Temp   Perf          Pwr:Usage/Cap |           Memory-Usage | GPU-Util  Compute M. |\n",
            "|                                         |                        |               MIG M. |\n",
            "|=========================================+========================+======================|\n",
            "|   0  Tesla T4                       Off |   00000000:00:04.0 Off |                    0 |\n",
            "| N/A   55C    P0             29W /   70W |     106MiB /  15360MiB |      0%      Default |\n",
            "|                                         |                        |                  N/A |\n",
            "+-----------------------------------------+------------------------+----------------------+\n",
            "                                                                                         \n",
            "+-----------------------------------------------------------------------------------------+\n",
            "| Processes:                                                                              |\n",
            "|  GPU   GI   CI        PID   Type   Process name                              GPU Memory |\n",
            "|        ID   ID                                                               Usage      |\n",
            "|=========================================================================================|\n",
            "+-----------------------------------------------------------------------------------------+\n"
          ]
        }
      ]
    },
    {
      "cell_type": "markdown",
      "source": [
        "# Hands-On Q/A"
      ],
      "metadata": {
        "id": "VVvrU45gfLfJ"
      }
    },
    {
      "cell_type": "code",
      "source": [
        "scalar = tf.constant(7)"
      ],
      "metadata": {
        "id": "GpNBH4gefSMU"
      },
      "execution_count": 50,
      "outputs": []
    },
    {
      "cell_type": "code",
      "source": [
        "vector = tf.constant([5, 6])"
      ],
      "metadata": {
        "id": "w498MrAIh2RS"
      },
      "execution_count": 51,
      "outputs": []
    },
    {
      "cell_type": "code",
      "source": [
        "matrix = tf.constant([[5, 6],\n",
        "                      [7, 8]])"
      ],
      "metadata": {
        "id": "1WYp8oBOh6kA"
      },
      "execution_count": 52,
      "outputs": []
    },
    {
      "cell_type": "code",
      "source": [
        "scalar, vector, matrix"
      ],
      "metadata": {
        "colab": {
          "base_uri": "https://localhost:8080/"
        },
        "id": "MUzHNNr0iAMb",
        "outputId": "5ee98fa2-918e-4b68-b56a-6472ae52de97"
      },
      "execution_count": 53,
      "outputs": [
        {
          "output_type": "execute_result",
          "data": {
            "text/plain": [
              "(<tf.Tensor: shape=(), dtype=int32, numpy=7>,\n",
              " <tf.Tensor: shape=(2,), dtype=int32, numpy=array([5, 6], dtype=int32)>,\n",
              " <tf.Tensor: shape=(2, 2), dtype=int32, numpy=\n",
              " array([[5, 6],\n",
              "        [7, 8]], dtype=int32)>)"
            ]
          },
          "metadata": {},
          "execution_count": 53
        }
      ]
    },
    {
      "cell_type": "code",
      "source": [
        "matrix.shape, tf.rank(matrix), tf.size(matrix)"
      ],
      "metadata": {
        "colab": {
          "base_uri": "https://localhost:8080/"
        },
        "id": "1TlpdvcbiL53",
        "outputId": "f853f0de-8b87-4dad-affb-aa4afe15709d"
      },
      "execution_count": 54,
      "outputs": [
        {
          "output_type": "execute_result",
          "data": {
            "text/plain": [
              "(TensorShape([2, 2]),\n",
              " <tf.Tensor: shape=(), dtype=int32, numpy=2>,\n",
              " <tf.Tensor: shape=(), dtype=int32, numpy=4>)"
            ]
          },
          "metadata": {},
          "execution_count": 54
        }
      ]
    },
    {
      "cell_type": "code",
      "source": [
        "A = tf.random.normal(shape=[5, 300])\n",
        "B = tf.random.normal(shape=[5, 300])"
      ],
      "metadata": {
        "id": "Lok0gOEXiTCP"
      },
      "execution_count": 55,
      "outputs": []
    },
    {
      "cell_type": "code",
      "source": [
        "A @ tf.transpose(B)"
      ],
      "metadata": {
        "colab": {
          "base_uri": "https://localhost:8080/"
        },
        "id": "oSMPEMfNiy9e",
        "outputId": "f169644b-ba3d-4d97-82be-191965f1d002"
      },
      "execution_count": 56,
      "outputs": [
        {
          "output_type": "execute_result",
          "data": {
            "text/plain": [
              "<tf.Tensor: shape=(5, 5), dtype=float32, numpy=\n",
              "array([[-19.700886 ,   1.9933586,  -7.9026885,  19.950588 , -19.122309 ],\n",
              "       [ -6.0533395,  12.41919  ,  22.246258 ,  20.91207  ,   6.415559 ],\n",
              "       [  9.499851 ,  -2.309708 ,   7.6603174, -12.769201 ,   2.474299 ],\n",
              "       [ 17.098804 ,  11.836249 , -15.267179 ,   0.7997595, -10.531876 ],\n",
              "       [  9.99485  ,  45.66733  ,  13.350242 , -28.353817 ,   8.682101 ]],\n",
              "      dtype=float32)>"
            ]
          },
          "metadata": {},
          "execution_count": 56
        }
      ]
    },
    {
      "cell_type": "code",
      "source": [
        "tf.matmul(A, tf.transpose(B))"
      ],
      "metadata": {
        "colab": {
          "base_uri": "https://localhost:8080/"
        },
        "id": "GqpKvzCpjW0h",
        "outputId": "4ceb843d-c2aa-4c1b-a6b5-56d29301e5da"
      },
      "execution_count": 57,
      "outputs": [
        {
          "output_type": "execute_result",
          "data": {
            "text/plain": [
              "<tf.Tensor: shape=(5, 5), dtype=float32, numpy=\n",
              "array([[-19.700886 ,   1.9933586,  -7.9026885,  19.950588 , -19.122309 ],\n",
              "       [ -6.0533395,  12.41919  ,  22.246258 ,  20.91207  ,   6.415559 ],\n",
              "       [  9.499851 ,  -2.309708 ,   7.6603174, -12.769201 ,   2.474299 ],\n",
              "       [ 17.098804 ,  11.836249 , -15.267179 ,   0.7997595, -10.531876 ],\n",
              "       [  9.99485  ,  45.66733  ,  13.350242 , -28.353817 ,   8.682101 ]],\n",
              "      dtype=float32)>"
            ]
          },
          "metadata": {},
          "execution_count": 57
        }
      ]
    },
    {
      "cell_type": "code",
      "source": [
        "tf.tensordot(A, tf.transpose(B), axes=1)"
      ],
      "metadata": {
        "colab": {
          "base_uri": "https://localhost:8080/"
        },
        "id": "qPMlP7BjjmHE",
        "outputId": "84d78607-b327-442e-a386-4e0dc9a4608b"
      },
      "execution_count": 58,
      "outputs": [
        {
          "output_type": "execute_result",
          "data": {
            "text/plain": [
              "<tf.Tensor: shape=(5, 5), dtype=float32, numpy=\n",
              "array([[-19.700886 ,   1.9933586,  -7.9026885,  19.950588 , -19.122309 ],\n",
              "       [ -6.0533395,  12.41919  ,  22.246258 ,  20.91207  ,   6.415559 ],\n",
              "       [  9.499851 ,  -2.309708 ,   7.6603174, -12.769201 ,   2.474299 ],\n",
              "       [ 17.098804 ,  11.836249 , -15.267179 ,   0.7997595, -10.531876 ],\n",
              "       [  9.99485  ,  45.66733  ,  13.350242 , -28.353817 ,   8.682101 ]],\n",
              "      dtype=float32)>"
            ]
          },
          "metadata": {},
          "execution_count": 58
        }
      ]
    },
    {
      "cell_type": "code",
      "source": [
        "C = tf.random.normal(shape=[224, 224, 3])"
      ],
      "metadata": {
        "id": "6oXZ18YJjsMW"
      },
      "execution_count": 59,
      "outputs": []
    },
    {
      "cell_type": "code",
      "source": [
        "tf.reduce_min(C[0]), tf.reduce_max(C[0])"
      ],
      "metadata": {
        "colab": {
          "base_uri": "https://localhost:8080/"
        },
        "id": "3PxuNQ0oj8tL",
        "outputId": "dbafe45f-b266-4e75-a612-8db19ccdb36b"
      },
      "execution_count": 60,
      "outputs": [
        {
          "output_type": "execute_result",
          "data": {
            "text/plain": [
              "(<tf.Tensor: shape=(), dtype=float32, numpy=-3.101553440093994>,\n",
              " <tf.Tensor: shape=(), dtype=float32, numpy=3.19816517829895>)"
            ]
          },
          "metadata": {},
          "execution_count": 60
        }
      ]
    },
    {
      "cell_type": "code",
      "source": [
        "D = tf.random.normal(shape=[1, 224, 224, 3])"
      ],
      "metadata": {
        "id": "-eD8xsTAj9R-"
      },
      "execution_count": 61,
      "outputs": []
    },
    {
      "cell_type": "code",
      "source": [
        "D_squeezed = tf.squeeze(D)\n",
        "D_squeezed"
      ],
      "metadata": {
        "colab": {
          "base_uri": "https://localhost:8080/"
        },
        "id": "k14l6tfWkUFG",
        "outputId": "c47e7ad9-8555-4e28-b76f-d4829d017757"
      },
      "execution_count": 62,
      "outputs": [
        {
          "output_type": "execute_result",
          "data": {
            "text/plain": [
              "<tf.Tensor: shape=(224, 224, 3), dtype=float32, numpy=\n",
              "array([[[ 0.00924649, -0.66206276, -0.7410269 ],\n",
              "        [ 1.1985261 ,  0.86362076,  0.39257562],\n",
              "        [ 0.93457496, -0.16017465, -2.1050534 ],\n",
              "        ...,\n",
              "        [ 1.4473416 ,  1.2453166 , -0.05608365],\n",
              "        [ 0.48070228,  0.21038947,  0.5693352 ],\n",
              "        [ 1.1329907 , -0.10074199, -0.4262918 ]],\n",
              "\n",
              "       [[-1.0017619 , -0.4130074 ,  1.9709021 ],\n",
              "        [ 1.1261594 ,  0.8030445 , -0.13455918],\n",
              "        [ 1.4553814 , -0.7077329 , -0.14673623],\n",
              "        ...,\n",
              "        [-1.5051513 , -0.86866486,  0.7910269 ],\n",
              "        [ 0.95673156,  0.9247523 ,  1.0401778 ],\n",
              "        [-0.03240187, -0.126545  ,  1.3657708 ]],\n",
              "\n",
              "       [[ 0.61522555,  0.21104665,  0.92734694],\n",
              "        [ 1.0903655 ,  2.8252933 , -2.4538727 ],\n",
              "        [ 0.7269391 , -0.90018594, -0.48686114],\n",
              "        ...,\n",
              "        [ 0.2720648 ,  0.39592102,  0.13167113],\n",
              "        [ 0.41388002, -0.5150849 , -0.96912825],\n",
              "        [ 1.2204841 ,  1.5515296 , -0.14588062]],\n",
              "\n",
              "       ...,\n",
              "\n",
              "       [[-0.4290723 , -0.6538365 ,  0.58016545],\n",
              "        [-0.29035246, -0.28791606,  0.18988454],\n",
              "        [ 0.6018051 ,  0.9616048 , -1.4749604 ],\n",
              "        ...,\n",
              "        [-0.73777646,  0.9825388 ,  1.4698321 ],\n",
              "        [-1.1486428 , -0.04673823,  0.02104783],\n",
              "        [ 0.7664762 ,  1.8968271 ,  0.9243426 ]],\n",
              "\n",
              "       [[-0.69132656,  0.2636505 ,  0.7607236 ],\n",
              "        [-1.1311047 , -1.4558216 ,  1.6005858 ],\n",
              "        [-0.8634099 ,  0.18617947,  0.24921873],\n",
              "        ...,\n",
              "        [-0.5516267 , -0.11641531, -1.772355  ],\n",
              "        [ 2.1050353 , -0.9878949 , -0.73448765],\n",
              "        [-0.21098423, -0.59364474, -0.17084439]],\n",
              "\n",
              "       [[-0.4656672 , -0.8196167 , -1.6881299 ],\n",
              "        [-1.7522374 , -0.5915231 ,  0.8754945 ],\n",
              "        [ 0.26976788, -0.01801428, -0.75384665],\n",
              "        ...,\n",
              "        [-0.54221493, -1.9533495 , -0.56438804],\n",
              "        [-0.26159394, -0.15479909,  0.32084355],\n",
              "        [-0.88675994, -0.11270373,  0.1987049 ]]], dtype=float32)>"
            ]
          },
          "metadata": {},
          "execution_count": 62
        }
      ]
    },
    {
      "cell_type": "code",
      "source": [
        "E = tf.constant([1, 2, 3, 4, 5, 6, 7, 8, 9, 10])\n",
        "E.reduce_argmax()"
      ],
      "metadata": {
        "colab": {
          "base_uri": "https://localhost:8080/",
          "height": 280
        },
        "id": "KuzcCds3kaIT",
        "outputId": "5ca41be7-199f-4aa2-d127-cec85b4baffa"
      },
      "execution_count": 63,
      "outputs": [
        {
          "output_type": "error",
          "ename": "AttributeError",
          "evalue": "'tensorflow.python.framework.ops.EagerTensor' object has no attribute 'reduce_argmax'",
          "traceback": [
            "\u001b[0;31m---------------------------------------------------------------------------\u001b[0m",
            "\u001b[0;31mAttributeError\u001b[0m                            Traceback (most recent call last)",
            "\u001b[0;32m<ipython-input-63-1580f07e2903>\u001b[0m in \u001b[0;36m<cell line: 0>\u001b[0;34m()\u001b[0m\n\u001b[1;32m      1\u001b[0m \u001b[0mE\u001b[0m \u001b[0;34m=\u001b[0m \u001b[0mtf\u001b[0m\u001b[0;34m.\u001b[0m\u001b[0mconstant\u001b[0m\u001b[0;34m(\u001b[0m\u001b[0;34m[\u001b[0m\u001b[0;36m1\u001b[0m\u001b[0;34m,\u001b[0m \u001b[0;36m2\u001b[0m\u001b[0;34m,\u001b[0m \u001b[0;36m3\u001b[0m\u001b[0;34m,\u001b[0m \u001b[0;36m4\u001b[0m\u001b[0;34m,\u001b[0m \u001b[0;36m5\u001b[0m\u001b[0;34m,\u001b[0m \u001b[0;36m6\u001b[0m\u001b[0;34m,\u001b[0m \u001b[0;36m7\u001b[0m\u001b[0;34m,\u001b[0m \u001b[0;36m8\u001b[0m\u001b[0;34m,\u001b[0m \u001b[0;36m9\u001b[0m\u001b[0;34m,\u001b[0m \u001b[0;36m10\u001b[0m\u001b[0;34m]\u001b[0m\u001b[0;34m)\u001b[0m\u001b[0;34m\u001b[0m\u001b[0;34m\u001b[0m\u001b[0m\n\u001b[0;32m----> 2\u001b[0;31m \u001b[0mE\u001b[0m\u001b[0;34m.\u001b[0m\u001b[0mreduce_argmax\u001b[0m\u001b[0;34m(\u001b[0m\u001b[0;34m)\u001b[0m\u001b[0;34m\u001b[0m\u001b[0;34m\u001b[0m\u001b[0m\n\u001b[0m",
            "\u001b[0;32m/usr/local/lib/python3.11/dist-packages/tensorflow/python/framework/tensor.py\u001b[0m in \u001b[0;36m__getattr__\u001b[0;34m(self, name)\u001b[0m\n\u001b[1;32m    258\u001b[0m         \u001b[0mtf\u001b[0m\u001b[0;34m.\u001b[0m\u001b[0mexperimental\u001b[0m\u001b[0;34m.\u001b[0m\u001b[0mnumpy\u001b[0m\u001b[0;34m.\u001b[0m\u001b[0mexperimental_enable_numpy_behavior\u001b[0m\u001b[0;34m(\u001b[0m\u001b[0;34m)\u001b[0m\u001b[0;34m\u001b[0m\u001b[0;34m\u001b[0m\u001b[0m\n\u001b[1;32m    259\u001b[0m       \"\"\")\n\u001b[0;32m--> 260\u001b[0;31m     \u001b[0mself\u001b[0m\u001b[0;34m.\u001b[0m\u001b[0m__getattribute__\u001b[0m\u001b[0;34m(\u001b[0m\u001b[0mname\u001b[0m\u001b[0;34m)\u001b[0m\u001b[0;34m\u001b[0m\u001b[0;34m\u001b[0m\u001b[0m\n\u001b[0m\u001b[1;32m    261\u001b[0m \u001b[0;34m\u001b[0m\u001b[0m\n\u001b[1;32m    262\u001b[0m   \u001b[0;34m@\u001b[0m\u001b[0mproperty\u001b[0m\u001b[0;34m\u001b[0m\u001b[0;34m\u001b[0m\u001b[0m\n",
            "\u001b[0;31mAttributeError\u001b[0m: 'tensorflow.python.framework.ops.EagerTensor' object has no attribute 'reduce_argmax'"
          ]
        }
      ]
    },
    {
      "cell_type": "code",
      "source": [],
      "metadata": {
        "id": "hKys8M3mkyiM"
      },
      "execution_count": null,
      "outputs": []
    }
  ]
}