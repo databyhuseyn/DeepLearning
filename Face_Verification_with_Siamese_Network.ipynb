{
  "nbformat": 4,
  "nbformat_minor": 0,
  "metadata": {
    "colab": {
      "provenance": [],
      "gpuType": "T4",
      "authorship_tag": "ABX9TyO6MgwTKOO17NSHlQMiCHWI",
      "include_colab_link": true
    },
    "kernelspec": {
      "name": "python3",
      "display_name": "Python 3"
    },
    "language_info": {
      "name": "python"
    },
    "accelerator": "GPU"
  },
  "cells": [
    {
      "cell_type": "markdown",
      "metadata": {
        "id": "view-in-github",
        "colab_type": "text"
      },
      "source": [
        "<a href=\"https://colab.research.google.com/github/databyhuseyn/DeepLearning/blob/main/Face_Verification_with_Siamese_Network.ipynb\" target=\"_parent\"><img src=\"https://colab.research.google.com/assets/colab-badge.svg\" alt=\"Open In Colab\"/></a>"
      ]
    },
    {
      "cell_type": "markdown",
      "source": [
        "# 1.Setup"
      ],
      "metadata": {
        "id": "FgO04XibW0nV"
      }
    },
    {
      "cell_type": "markdown",
      "source": [
        "# 1.1 Install Dependencies"
      ],
      "metadata": {
        "id": "U-fqLH3PW6Lm"
      }
    },
    {
      "cell_type": "code",
      "source": [
        "!pip install tensorflow==2.8.1 tensorflow-gpu==2.8.1 opencv-python matplotlib"
      ],
      "metadata": {
        "colab": {
          "base_uri": "https://localhost:8080/"
        },
        "id": "d87EX1DBXJHS",
        "outputId": "eb438f72-0c6b-4886-9b1b-908852aa2363"
      },
      "execution_count": null,
      "outputs": [
        {
          "output_type": "stream",
          "name": "stdout",
          "text": [
            "Collecting tensorflow==2.8.1\n",
            "  Downloading tensorflow-2.8.1-cp310-cp310-manylinux2010_x86_64.whl.metadata (2.9 kB)\n",
            "Collecting tensorflow-gpu==2.8.1\n",
            "  Downloading tensorflow_gpu-2.8.1-cp310-cp310-manylinux2010_x86_64.whl.metadata (2.9 kB)\n",
            "Requirement already satisfied: opencv-python in /usr/local/lib/python3.10/dist-packages (4.10.0.84)\n",
            "Requirement already satisfied: matplotlib in /usr/local/lib/python3.10/dist-packages (3.7.1)\n",
            "Requirement already satisfied: absl-py>=0.4.0 in /usr/local/lib/python3.10/dist-packages (from tensorflow==2.8.1) (1.4.0)\n",
            "Requirement already satisfied: astunparse>=1.6.0 in /usr/local/lib/python3.10/dist-packages (from tensorflow==2.8.1) (1.6.3)\n",
            "Requirement already satisfied: flatbuffers>=1.12 in /usr/local/lib/python3.10/dist-packages (from tensorflow==2.8.1) (24.3.25)\n",
            "Requirement already satisfied: gast>=0.2.1 in /usr/local/lib/python3.10/dist-packages (from tensorflow==2.8.1) (0.6.0)\n",
            "Requirement already satisfied: google-pasta>=0.1.1 in /usr/local/lib/python3.10/dist-packages (from tensorflow==2.8.1) (0.2.0)\n",
            "Requirement already satisfied: h5py>=2.9.0 in /usr/local/lib/python3.10/dist-packages (from tensorflow==2.8.1) (3.11.0)\n",
            "Collecting keras-preprocessing>=1.1.1 (from tensorflow==2.8.1)\n",
            "  Downloading Keras_Preprocessing-1.1.2-py2.py3-none-any.whl.metadata (1.9 kB)\n",
            "Requirement already satisfied: libclang>=9.0.1 in /usr/local/lib/python3.10/dist-packages (from tensorflow==2.8.1) (18.1.1)\n",
            "Requirement already satisfied: numpy>=1.20 in /usr/local/lib/python3.10/dist-packages (from tensorflow==2.8.1) (1.26.4)\n",
            "Requirement already satisfied: opt-einsum>=2.3.2 in /usr/local/lib/python3.10/dist-packages (from tensorflow==2.8.1) (3.3.0)\n",
            "Requirement already satisfied: protobuf>=3.9.2 in /usr/local/lib/python3.10/dist-packages (from tensorflow==2.8.1) (3.20.3)\n",
            "Requirement already satisfied: setuptools in /usr/local/lib/python3.10/dist-packages (from tensorflow==2.8.1) (71.0.4)\n",
            "Requirement already satisfied: six>=1.12.0 in /usr/local/lib/python3.10/dist-packages (from tensorflow==2.8.1) (1.16.0)\n",
            "Requirement already satisfied: termcolor>=1.1.0 in /usr/local/lib/python3.10/dist-packages (from tensorflow==2.8.1) (2.4.0)\n",
            "Requirement already satisfied: typing-extensions>=3.6.6 in /usr/local/lib/python3.10/dist-packages (from tensorflow==2.8.1) (4.12.2)\n",
            "Requirement already satisfied: wrapt>=1.11.0 in /usr/local/lib/python3.10/dist-packages (from tensorflow==2.8.1) (1.16.0)\n",
            "Collecting tensorboard<2.9,>=2.8 (from tensorflow==2.8.1)\n",
            "  Downloading tensorboard-2.8.0-py3-none-any.whl.metadata (1.9 kB)\n",
            "Collecting tensorflow-estimator<2.9,>=2.8 (from tensorflow==2.8.1)\n",
            "  Downloading tensorflow_estimator-2.8.0-py2.py3-none-any.whl.metadata (1.3 kB)\n",
            "Collecting keras<2.9,>=2.8.0rc0 (from tensorflow==2.8.1)\n",
            "  Downloading keras-2.8.0-py2.py3-none-any.whl.metadata (1.3 kB)\n",
            "Requirement already satisfied: tensorflow-io-gcs-filesystem>=0.23.1 in /usr/local/lib/python3.10/dist-packages (from tensorflow==2.8.1) (0.37.1)\n",
            "Requirement already satisfied: grpcio<2.0,>=1.24.3 in /usr/local/lib/python3.10/dist-packages (from tensorflow==2.8.1) (1.64.1)\n",
            "Requirement already satisfied: contourpy>=1.0.1 in /usr/local/lib/python3.10/dist-packages (from matplotlib) (1.2.1)\n",
            "Requirement already satisfied: cycler>=0.10 in /usr/local/lib/python3.10/dist-packages (from matplotlib) (0.12.1)\n",
            "Requirement already satisfied: fonttools>=4.22.0 in /usr/local/lib/python3.10/dist-packages (from matplotlib) (4.53.1)\n",
            "Requirement already satisfied: kiwisolver>=1.0.1 in /usr/local/lib/python3.10/dist-packages (from matplotlib) (1.4.5)\n",
            "Requirement already satisfied: packaging>=20.0 in /usr/local/lib/python3.10/dist-packages (from matplotlib) (24.1)\n",
            "Requirement already satisfied: pillow>=6.2.0 in /usr/local/lib/python3.10/dist-packages (from matplotlib) (9.4.0)\n",
            "Requirement already satisfied: pyparsing>=2.3.1 in /usr/local/lib/python3.10/dist-packages (from matplotlib) (3.1.2)\n",
            "Requirement already satisfied: python-dateutil>=2.7 in /usr/local/lib/python3.10/dist-packages (from matplotlib) (2.8.2)\n",
            "Requirement already satisfied: wheel<1.0,>=0.23.0 in /usr/local/lib/python3.10/dist-packages (from astunparse>=1.6.0->tensorflow==2.8.1) (0.44.0)\n",
            "Requirement already satisfied: google-auth<3,>=1.6.3 in /usr/local/lib/python3.10/dist-packages (from tensorboard<2.9,>=2.8->tensorflow==2.8.1) (2.27.0)\n",
            "Collecting google-auth-oauthlib<0.5,>=0.4.1 (from tensorboard<2.9,>=2.8->tensorflow==2.8.1)\n",
            "  Downloading google_auth_oauthlib-0.4.6-py2.py3-none-any.whl.metadata (2.7 kB)\n",
            "Requirement already satisfied: markdown>=2.6.8 in /usr/local/lib/python3.10/dist-packages (from tensorboard<2.9,>=2.8->tensorflow==2.8.1) (3.6)\n",
            "Requirement already satisfied: requests<3,>=2.21.0 in /usr/local/lib/python3.10/dist-packages (from tensorboard<2.9,>=2.8->tensorflow==2.8.1) (2.32.3)\n",
            "Collecting tensorboard-data-server<0.7.0,>=0.6.0 (from tensorboard<2.9,>=2.8->tensorflow==2.8.1)\n",
            "  Downloading tensorboard_data_server-0.6.1-py3-none-manylinux2010_x86_64.whl.metadata (1.1 kB)\n",
            "Collecting tensorboard-plugin-wit>=1.6.0 (from tensorboard<2.9,>=2.8->tensorflow==2.8.1)\n",
            "  Downloading tensorboard_plugin_wit-1.8.1-py3-none-any.whl.metadata (873 bytes)\n",
            "Requirement already satisfied: werkzeug>=0.11.15 in /usr/local/lib/python3.10/dist-packages (from tensorboard<2.9,>=2.8->tensorflow==2.8.1) (3.0.3)\n",
            "Requirement already satisfied: cachetools<6.0,>=2.0.0 in /usr/local/lib/python3.10/dist-packages (from google-auth<3,>=1.6.3->tensorboard<2.9,>=2.8->tensorflow==2.8.1) (5.4.0)\n",
            "Requirement already satisfied: pyasn1-modules>=0.2.1 in /usr/local/lib/python3.10/dist-packages (from google-auth<3,>=1.6.3->tensorboard<2.9,>=2.8->tensorflow==2.8.1) (0.4.0)\n",
            "Requirement already satisfied: rsa<5,>=3.1.4 in /usr/local/lib/python3.10/dist-packages (from google-auth<3,>=1.6.3->tensorboard<2.9,>=2.8->tensorflow==2.8.1) (4.9)\n",
            "Requirement already satisfied: requests-oauthlib>=0.7.0 in /usr/local/lib/python3.10/dist-packages (from google-auth-oauthlib<0.5,>=0.4.1->tensorboard<2.9,>=2.8->tensorflow==2.8.1) (1.3.1)\n",
            "Requirement already satisfied: charset-normalizer<4,>=2 in /usr/local/lib/python3.10/dist-packages (from requests<3,>=2.21.0->tensorboard<2.9,>=2.8->tensorflow==2.8.1) (3.3.2)\n",
            "Requirement already satisfied: idna<4,>=2.5 in /usr/local/lib/python3.10/dist-packages (from requests<3,>=2.21.0->tensorboard<2.9,>=2.8->tensorflow==2.8.1) (3.7)\n",
            "Requirement already satisfied: urllib3<3,>=1.21.1 in /usr/local/lib/python3.10/dist-packages (from requests<3,>=2.21.0->tensorboard<2.9,>=2.8->tensorflow==2.8.1) (2.0.7)\n",
            "Requirement already satisfied: certifi>=2017.4.17 in /usr/local/lib/python3.10/dist-packages (from requests<3,>=2.21.0->tensorboard<2.9,>=2.8->tensorflow==2.8.1) (2024.7.4)\n",
            "Requirement already satisfied: MarkupSafe>=2.1.1 in /usr/local/lib/python3.10/dist-packages (from werkzeug>=0.11.15->tensorboard<2.9,>=2.8->tensorflow==2.8.1) (2.1.5)\n",
            "Requirement already satisfied: pyasn1<0.7.0,>=0.4.6 in /usr/local/lib/python3.10/dist-packages (from pyasn1-modules>=0.2.1->google-auth<3,>=1.6.3->tensorboard<2.9,>=2.8->tensorflow==2.8.1) (0.6.0)\n",
            "Requirement already satisfied: oauthlib>=3.0.0 in /usr/local/lib/python3.10/dist-packages (from requests-oauthlib>=0.7.0->google-auth-oauthlib<0.5,>=0.4.1->tensorboard<2.9,>=2.8->tensorflow==2.8.1) (3.2.2)\n",
            "Downloading tensorflow-2.8.1-cp310-cp310-manylinux2010_x86_64.whl (498.0 MB)\n",
            "\u001b[2K   \u001b[90m━━━━━━━━━━━━━━━━━━━━━━━━━━━━━━━━━━━━━━━━\u001b[0m \u001b[32m498.0/498.0 MB\u001b[0m \u001b[31m3.3 MB/s\u001b[0m eta \u001b[36m0:00:00\u001b[0m\n",
            "\u001b[?25hDownloading tensorflow_gpu-2.8.1-cp310-cp310-manylinux2010_x86_64.whl (498.0 MB)\n",
            "\u001b[2K   \u001b[90m━━━━━━━━━━━━━━━━━━━━━━━━━━━━━━━━━━━━━━━━\u001b[0m \u001b[32m498.0/498.0 MB\u001b[0m \u001b[31m3.1 MB/s\u001b[0m eta \u001b[36m0:00:00\u001b[0m\n",
            "\u001b[?25hDownloading keras-2.8.0-py2.py3-none-any.whl (1.4 MB)\n",
            "\u001b[2K   \u001b[90m━━━━━━━━━━━━━━━━━━━━━━━━━━━━━━━━━━━━━━━━\u001b[0m \u001b[32m1.4/1.4 MB\u001b[0m \u001b[31m9.6 MB/s\u001b[0m eta \u001b[36m0:00:00\u001b[0m\n",
            "\u001b[?25hDownloading Keras_Preprocessing-1.1.2-py2.py3-none-any.whl (42 kB)\n",
            "\u001b[2K   \u001b[90m━━━━━━━━━━━━━━━━━━━━━━━━━━━━━━━━━━━━━━━━\u001b[0m \u001b[32m42.6/42.6 kB\u001b[0m \u001b[31m2.9 MB/s\u001b[0m eta \u001b[36m0:00:00\u001b[0m\n",
            "\u001b[?25hDownloading tensorboard-2.8.0-py3-none-any.whl (5.8 MB)\n",
            "\u001b[2K   \u001b[90m━━━━━━━━━━━━━━━━━━━━━━━━━━━━━━━━━━━━━━━━\u001b[0m \u001b[32m5.8/5.8 MB\u001b[0m \u001b[31m50.6 MB/s\u001b[0m eta \u001b[36m0:00:00\u001b[0m\n",
            "\u001b[?25hDownloading tensorflow_estimator-2.8.0-py2.py3-none-any.whl (462 kB)\n",
            "\u001b[2K   \u001b[90m━━━━━━━━━━━━━━━━━━━━━━━━━━━━━━━━━━━━━━━━\u001b[0m \u001b[32m462.3/462.3 kB\u001b[0m \u001b[31m16.0 MB/s\u001b[0m eta \u001b[36m0:00:00\u001b[0m\n",
            "\u001b[?25hDownloading google_auth_oauthlib-0.4.6-py2.py3-none-any.whl (18 kB)\n",
            "Downloading tensorboard_data_server-0.6.1-py3-none-manylinux2010_x86_64.whl (4.9 MB)\n",
            "\u001b[2K   \u001b[90m━━━━━━━━━━━━━━━━━━━━━━━━━━━━━━━━━━━━━━━━\u001b[0m \u001b[32m4.9/4.9 MB\u001b[0m \u001b[31m46.1 MB/s\u001b[0m eta \u001b[36m0:00:00\u001b[0m\n",
            "\u001b[?25hDownloading tensorboard_plugin_wit-1.8.1-py3-none-any.whl (781 kB)\n",
            "\u001b[2K   \u001b[90m━━━━━━━━━━━━━━━━━━━━━━━━━━━━━━━━━━━━━━━━\u001b[0m \u001b[32m781.3/781.3 kB\u001b[0m \u001b[31m20.9 MB/s\u001b[0m eta \u001b[36m0:00:00\u001b[0m\n",
            "\u001b[?25hInstalling collected packages: tensorflow-estimator, tensorboard-plugin-wit, keras, tensorboard-data-server, keras-preprocessing, google-auth-oauthlib, tensorboard, tensorflow-gpu, tensorflow\n",
            "  Attempting uninstall: keras\n",
            "    Found existing installation: keras 3.4.1\n",
            "    Uninstalling keras-3.4.1:\n",
            "      Successfully uninstalled keras-3.4.1\n",
            "  Attempting uninstall: tensorboard-data-server\n",
            "    Found existing installation: tensorboard-data-server 0.7.2\n",
            "    Uninstalling tensorboard-data-server-0.7.2:\n",
            "      Successfully uninstalled tensorboard-data-server-0.7.2\n",
            "  Attempting uninstall: google-auth-oauthlib\n",
            "    Found existing installation: google-auth-oauthlib 1.2.1\n",
            "    Uninstalling google-auth-oauthlib-1.2.1:\n",
            "      Successfully uninstalled google-auth-oauthlib-1.2.1\n",
            "  Attempting uninstall: tensorboard\n",
            "    Found existing installation: tensorboard 2.17.0\n",
            "    Uninstalling tensorboard-2.17.0:\n",
            "      Successfully uninstalled tensorboard-2.17.0\n",
            "  Attempting uninstall: tensorflow\n",
            "    Found existing installation: tensorflow 2.17.0\n",
            "    Uninstalling tensorflow-2.17.0:\n",
            "      Successfully uninstalled tensorflow-2.17.0\n",
            "\u001b[31mERROR: pip's dependency resolver does not currently take into account all the packages that are installed. This behaviour is the source of the following dependency conflicts.\n",
            "pandas-gbq 0.23.1 requires google-auth-oauthlib>=0.7.0, but you have google-auth-oauthlib 0.4.6 which is incompatible.\n",
            "tf-keras 2.17.0 requires tensorflow<2.18,>=2.17, but you have tensorflow 2.8.1 which is incompatible.\u001b[0m\u001b[31m\n",
            "\u001b[0mSuccessfully installed google-auth-oauthlib-0.4.6 keras-2.8.0 keras-preprocessing-1.1.2 tensorboard-2.8.0 tensorboard-data-server-0.6.1 tensorboard-plugin-wit-1.8.1 tensorflow-2.8.1 tensorflow-estimator-2.8.0 tensorflow-gpu-2.8.1\n"
          ]
        }
      ]
    },
    {
      "cell_type": "markdown",
      "source": [
        "# 1.2 Import Dependencies"
      ],
      "metadata": {
        "id": "ax243lPUXARc"
      }
    },
    {
      "cell_type": "code",
      "source": [
        "# Import standard dependencies\n",
        "import cv2\n",
        "import os\n",
        "import random\n",
        "import numpy as np\n",
        "import matplotlib.pyplot as plt"
      ],
      "metadata": {
        "id": "EgmiGxCnXtxI"
      },
      "execution_count": null,
      "outputs": []
    },
    {
      "cell_type": "code",
      "source": [
        "#plt.imshow??"
      ],
      "metadata": {
        "id": "BYAwy9MsYN_C"
      },
      "execution_count": null,
      "outputs": []
    },
    {
      "cell_type": "code",
      "source": [
        "# Import tensorflow dependencies\n",
        "from tensorflow.keras.models import Model\n",
        "from tensorflow.keras.layers import Layer, Conv2D, Dense, MaxPooling2D, Input, Flatten\n",
        "import tensorflow as tf"
      ],
      "metadata": {
        "id": "eBeYIJS5YU7E"
      },
      "execution_count": null,
      "outputs": []
    },
    {
      "cell_type": "markdown",
      "source": [
        "# 1.3 Set GPU Growth"
      ],
      "metadata": {
        "id": "MtsqrnzVXDZg"
      }
    },
    {
      "cell_type": "code",
      "source": [
        "# Avid OOM errors by setting GPU Memory Consumption Growth\n",
        "gpus = tf.config.experimental.list_physical_devices('GPU')\n",
        "for gpu in gpus:\n",
        "  tf.config.experimental.set_memory_growth(gpu, True)"
      ],
      "metadata": {
        "id": "2UdaRV-UZy-4"
      },
      "execution_count": null,
      "outputs": []
    },
    {
      "cell_type": "code",
      "source": [
        "gpus"
      ],
      "metadata": {
        "colab": {
          "base_uri": "https://localhost:8080/"
        },
        "id": "ZjhHDDNUaQEU",
        "outputId": "21af8e2d-c004-436b-c1d7-4ef5fa9d19a5"
      },
      "execution_count": null,
      "outputs": [
        {
          "output_type": "execute_result",
          "data": {
            "text/plain": [
              "[]"
            ]
          },
          "metadata": {},
          "execution_count": 6
        }
      ]
    },
    {
      "cell_type": "markdown",
      "source": [
        "# 1.4 Create Folder Structures"
      ],
      "metadata": {
        "id": "x7JABw0TZtWS"
      }
    },
    {
      "cell_type": "code",
      "source": [
        "# Setup paths\n",
        "POS_PATH = os.path.join('data', 'positive')\n",
        "NEG_PATH = os.path.join('data', 'negative')\n",
        "ANC_PATH = os.path.join('data', 'anchor')"
      ],
      "metadata": {
        "id": "z8GH5o0YadYi"
      },
      "execution_count": null,
      "outputs": []
    },
    {
      "cell_type": "code",
      "source": [
        "# Make the directories\n",
        "os.makedirs(POS_PATH)\n",
        "os.makedirs(NEG_PATH)\n",
        "os.makedirs(ANC_PATH)"
      ],
      "metadata": {
        "id": "I7LPpetKbQ5M"
      },
      "execution_count": null,
      "outputs": []
    },
    {
      "cell_type": "markdown",
      "source": [
        "# 2. Collect Positives and Anchors"
      ],
      "metadata": {
        "id": "brEvg5YubiN4"
      }
    },
    {
      "cell_type": "markdown",
      "source": [
        "# 2.1 Untar Labelled Faces in the Wild Dataset"
      ],
      "metadata": {
        "id": "YX5TmRJldFav"
      }
    },
    {
      "cell_type": "code",
      "source": [
        "# Uncompress Tar GZ Labelled Faces in the Wild Dataset\n",
        "!tar -xf lfw.tgz"
      ],
      "metadata": {
        "id": "6lwG_uSnfzZ7"
      },
      "execution_count": null,
      "outputs": []
    },
    {
      "cell_type": "code",
      "source": [
        "# Move LFW Images to the following repository data/negative\n",
        "for directory in os.listdir('lfw'):\n",
        "  for filename in os.listdir(os.path.join('lfw', directory)):\n",
        "    EX_PATH = os.path.join('lfw', directory, filename)\n",
        "    NEW_PATH = os.path.join(NEG_PATH, filename)\n",
        "    os.replace(EX_PATH, NEW_PATH)"
      ],
      "metadata": {
        "id": "kLI4ZT8Pf_ZV"
      },
      "execution_count": null,
      "outputs": []
    },
    {
      "cell_type": "code",
      "source": [
        "!wget https://raw.githubusercontent.com/databyhuseyn/DeepLearning/main/helper_functions.py"
      ],
      "metadata": {
        "colab": {
          "base_uri": "https://localhost:8080/"
        },
        "id": "j_Exq3iMhjEX",
        "outputId": "e95d499c-b0d1-4e04-d520-69bff21db886"
      },
      "execution_count": null,
      "outputs": [
        {
          "output_type": "stream",
          "name": "stdout",
          "text": [
            "--2024-08-21 11:03:03--  https://raw.githubusercontent.com/databyhuseyn/DeepLearning/main/helper_functions.py\n",
            "Resolving raw.githubusercontent.com (raw.githubusercontent.com)... 185.199.109.133, 185.199.108.133, 185.199.110.133, ...\n",
            "Connecting to raw.githubusercontent.com (raw.githubusercontent.com)|185.199.109.133|:443... connected.\n",
            "HTTP request sent, awaiting response... 200 OK\n",
            "Length: 10246 (10K) [text/plain]\n",
            "Saving to: ‘helper_functions.py’\n",
            "\n",
            "helper_functions.py 100%[===================>]  10.01K  --.-KB/s    in 0.001s  \n",
            "\n",
            "2024-08-21 11:03:03 (18.8 MB/s) - ‘helper_functions.py’ saved [10246/10246]\n",
            "\n"
          ]
        }
      ]
    },
    {
      "cell_type": "code",
      "source": [
        "from helper_functions import walk_through_dir, unzip_data"
      ],
      "metadata": {
        "id": "I7KU5x_whkRd"
      },
      "execution_count": null,
      "outputs": []
    },
    {
      "cell_type": "code",
      "source": [
        "walk_through_dir('/content/data/negative')"
      ],
      "metadata": {
        "colab": {
          "base_uri": "https://localhost:8080/"
        },
        "id": "S-hdHDubhp63",
        "outputId": "c8ff2c6d-d0b5-4f23-9eb8-90ebe7be48df"
      },
      "execution_count": null,
      "outputs": [
        {
          "output_type": "stream",
          "name": "stdout",
          "text": [
            "There are 0 directories and 13233 images in '/content/data/negative'.\n"
          ]
        }
      ]
    },
    {
      "cell_type": "markdown",
      "source": [
        "# 2.2 Collect Positive and Anchor Classes"
      ],
      "metadata": {
        "id": "cJMgnewWdKnK"
      }
    },
    {
      "cell_type": "code",
      "source": [
        "# Import uuid library to generate unique image names\n",
        "import uuid"
      ],
      "metadata": {
        "id": "4oV8E-trlj0P"
      },
      "execution_count": null,
      "outputs": []
    },
    {
      "cell_type": "code",
      "source": [
        "### Use this on your local machine, because Google Colab doesn't have the access to your webcam\n",
        "\n",
        "# Establish a connection to the webcam\n",
        "cap = cv2.VideoCapture(5)\n",
        "while cap.isOpened():\n",
        "  ret, frame = cap.read()\n",
        "\n",
        "  # Cut down frame to 250x250px\n",
        "  frame = frame[120:120+250, 200:200+250, :]\n",
        "\n",
        "  # Collect anchors\n",
        "  if cv2.waitKey(1) & 0XFF == ord('a'):\n",
        "    # Create the unique file path\n",
        "    imgname = os.path.join(ANC_PATH, '{}.jpg'.format(uuid.uuid1()))\n",
        "    # Write out anchor name\n",
        "    cv2.imwrite(imgname, frame)\n",
        "\n",
        "  # Collect positives\n",
        "  if cv2.waitKey(1) & 0XFF == ord('p'):\n",
        "    # Create the unique file path\n",
        "    imgname = os.path.join(POS_PATH, '{}.jpg'.format(uuid.uuid1()))\n",
        "    # Write out anchor name\n",
        "    cv2.imwrite(imgname, frame)\n",
        "\n",
        "  # Show image back to screen\n",
        "  cv2.imshow('Image Collection', frame)\n",
        "\n",
        "  # Breaking gracefully\n",
        "  if cv2.waitKey(1) & 0XFF == ord('q'):\n",
        "    break\n",
        "\n",
        "# Release the webcam\n",
        "cap.release()\n",
        "# Close the image show frame\n",
        "cv2.destroyAllWindows()"
      ],
      "metadata": {
        "id": "Nipa_Y8XirOo"
      },
      "execution_count": null,
      "outputs": []
    },
    {
      "cell_type": "code",
      "source": [
        "!unzip /content/facerecognition.zip"
      ],
      "metadata": {
        "colab": {
          "base_uri": "https://localhost:8080/"
        },
        "id": "986KPeOPuPXB",
        "outputId": "219d8d55-065c-4aac-cf3e-57c2fa3c0275"
      },
      "execution_count": null,
      "outputs": [
        {
          "output_type": "stream",
          "name": "stdout",
          "text": [
            "Archive:  /content/facerecognition.zip\n",
            "   creating: positive/\n",
            "  inflating: positive/3985d6df-5f14-11ef-8158-9828a6461770.jpg  \n",
            "  inflating: positive/399fc571-5f14-11ef-bfaa-9828a6461770.jpg  \n",
            "  inflating: positive/39ae16f6-5f14-11ef-8e27-9828a6461770.jpg  \n",
            "  inflating: positive/39bc5e44-5f14-11ef-ae1a-9828a6461770.jpg  \n",
            "  inflating: positive/39c35fd8-5f14-11ef-8705-9828a6461770.jpg  \n",
            "  inflating: positive/39db13ff-5f14-11ef-9a3f-9828a6461770.jpg  \n",
            "  inflating: positive/39ee0020-5f14-11ef-90de-9828a6461770.jpg  \n",
            "  inflating: positive/3a0d060c-5f14-11ef-b0a5-9828a6461770.jpg  \n",
            "  inflating: positive/3a1ac8f1-5f14-11ef-9080-9828a6461770.jpg  \n",
            "  inflating: positive/3a290ffe-5f14-11ef-9857-9828a6461770.jpg  \n",
            "  inflating: positive/3a4d2666-5f14-11ef-8dc5-9828a6461770.jpg  \n",
            "  inflating: positive/3a5b7485-5f14-11ef-8002-9828a6461770.jpg  \n",
            "  inflating: positive/3a699ce4-5f14-11ef-90df-9828a6461770.jpg  \n",
            "  inflating: positive/3a7810a3-5f14-11ef-908f-9828a6461770.jpg  \n",
            "  inflating: positive/3a976a05-5f14-11ef-b4fe-9828a6461770.jpg  \n",
            "  inflating: positive/3aa5f039-5f14-11ef-8ba3-9828a6461770.jpg  \n",
            "  inflating: positive/3ab466c5-5f14-11ef-9aa0-9828a6461770.jpg  \n",
            "  inflating: positive/3ac30254-5f14-11ef-a3af-9828a6461770.jpg  \n",
            "  inflating: positive/3ad12579-5f14-11ef-8771-9828a6461770.jpg  \n",
            "  inflating: positive/3aeb8177-5f14-11ef-be92-9828a6461770.jpg  \n",
            "  inflating: positive/3af9a2bc-5f14-11ef-8e0d-9828a6461770.jpg  \n",
            "  inflating: positive/3b08115d-5f14-11ef-aa17-9828a6461770.jpg  \n",
            "  inflating: positive/3b16d236-5f14-11ef-91de-9828a6461770.jpg  \n",
            "  inflating: positive/3b2be491-5f14-11ef-b589-9828a6461770.jpg  \n",
            "  inflating: positive/3b3a2597-5f14-11ef-9735-9828a6461770.jpg  \n",
            "  inflating: positive/3b488cc2-5f14-11ef-b389-9828a6461770.jpg  \n",
            "  inflating: positive/3b56f7e2-5f14-11ef-b801-9828a6461770.jpg  \n",
            "  inflating: positive/3b70f04a-5f14-11ef-8c9a-9828a6461770.jpg  \n",
            "  inflating: positive/3b7f50cd-5f14-11ef-905c-9828a6461770.jpg  \n",
            "  inflating: positive/3b8d7659-5f14-11ef-895f-9828a6461770.jpg  \n",
            "  inflating: positive/3bb176b4-5f14-11ef-80f6-9828a6461770.jpg  \n",
            "  inflating: positive/3bc42e90-5f14-11ef-85b3-9828a6461770.jpg  \n",
            "  inflating: positive/3bd2a399-5f14-11ef-8b3f-9828a6461770.jpg  \n",
            "  inflating: positive/3be7f1c1-5f14-11ef-a8ed-9828a6461770.jpg  \n",
            "  inflating: positive/3bf666cf-5f14-11ef-9097-9828a6461770.jpg  \n",
            "  inflating: positive/3c04e377-5f14-11ef-80f1-9828a6461770.jpg  \n",
            "  inflating: positive/3c12f5bc-5f14-11ef-a66e-9828a6461770.jpg  \n",
            "  inflating: positive/3c216ad0-5f14-11ef-807e-9828a6461770.jpg  \n",
            "  inflating: positive/3c4a8072-5f14-11ef-bc17-9828a6461770.jpg  \n",
            "  inflating: positive/3c58a781-5f14-11ef-a95e-9828a6461770.jpg  \n",
            "  inflating: positive/3c671c97-5f14-11ef-b325-9828a6461770.jpg  \n",
            "  inflating: positive/3c75b9ad-5f14-11ef-bfe6-9828a6461770.jpg  \n",
            "  inflating: positive/3c8b08f3-5f14-11ef-9331-9828a6461770.jpg  \n",
            "  inflating: positive/3c9e59f6-5f14-11ef-bd68-9828a6461770.jpg  \n",
            "  inflating: positive/3cac0bf6-5f14-11ef-affd-9828a6461770.jpg  \n",
            "  inflating: positive/3cc14ffe-5f14-11ef-be85-9828a6461770.jpg  \n",
            "  inflating: positive/3ccf770b-5f14-11ef-84f5-9828a6461770.jpg  \n",
            "  inflating: positive/3cdd9234-5f14-11ef-af95-9828a6461770.jpg  \n",
            "  inflating: positive/3cec0d90-5f14-11ef-bd95-9828a6461770.jpg  \n",
            "  inflating: positive/3d0172fd-5f14-11ef-9cc0-9828a6461770.jpg  \n",
            "  inflating: positive/3d0faefd-5f14-11ef-927a-9828a6461770.jpg  \n",
            "  inflating: positive/3d1e155d-5f14-11ef-9614-9828a6461770.jpg  \n",
            "  inflating: positive/3d2c3b3e-5f14-11ef-b4bb-9828a6461770.jpg  \n",
            "  inflating: positive/3d338990-5f14-11ef-9cd6-9828a6461770.jpg  \n",
            "  inflating: positive/3d41afa5-5f14-11ef-876d-9828a6461770.jpg  \n",
            "  inflating: positive/3d4ff444-5f14-11ef-9606-9828a6461770.jpg  \n",
            "  inflating: positive/3d5e2417-5f14-11ef-bf25-9828a6461770.jpg  \n",
            "  inflating: positive/3d6cc1c6-5f14-11ef-a6c2-9828a6461770.jpg  \n",
            "  inflating: positive/3d738a4c-5f14-11ef-bbec-9828a6461770.jpg  \n",
            "  inflating: positive/3d81fdd7-5f14-11ef-bd47-9828a6461770.jpg  \n",
            "  inflating: positive/3d9099dd-5f14-11ef-ad31-9828a6461770.jpg  \n",
            "  inflating: positive/3d9ee7ee-5f14-11ef-aa9a-9828a6461770.jpg  \n",
            "  inflating: positive/3dad35f2-5f14-11ef-a94d-9828a6461770.jpg  \n",
            "  inflating: positive/3dc25d3f-5f14-11ef-b7bd-9828a6461770.jpg  \n",
            "  inflating: positive/3dd0d233-5f14-11ef-806a-9828a6461770.jpg  \n",
            "  inflating: positive/3ddf6e4b-5f14-11ef-ad5f-9828a6461770.jpg  \n",
            "  inflating: positive/3dee0a37-5f14-11ef-b77f-9828a6461770.jpg  \n",
            "  inflating: positive/3dfc489c-5f14-11ef-ad70-9828a6461770.jpg  \n",
            "  inflating: positive/3e0ae3e0-5f14-11ef-9d1f-9828a6461770.jpg  \n",
            "  inflating: positive/3e2ecd9b-5f14-11ef-93ad-9828a6461770.jpg  \n",
            "  inflating: positive/3e3d42aa-5f14-11ef-b901-9828a6461770.jpg  \n",
            "  inflating: positive/3e4b42d0-5f14-11ef-a69d-9828a6461770.jpg  \n",
            "  inflating: positive/3e59b7e0-5f14-11ef-88a9-9828a6461770.jpg  \n",
            "  inflating: positive/3e60e011-5f14-11ef-b624-9828a6461770.jpg  \n",
            "  inflating: positive/3e6f54a1-5f14-11ef-a892-9828a6461770.jpg  \n",
            "  inflating: positive/3e7d86e7-5f14-11ef-8a75-9828a6461770.jpg  \n",
            "  inflating: positive/3e8bfac6-5f14-11ef-8a9c-9828a6461770.jpg  \n",
            "  inflating: positive/3e9a4c83-5f14-11ef-8203-9828a6461770.jpg  \n",
            "  inflating: positive/3eb9b393-5f14-11ef-afca-9828a6461770.jpg  \n",
            "  inflating: positive/3eccd63d-5f14-11ef-b998-9828a6461770.jpg  \n",
            "  inflating: positive/3edb4b64-5f14-11ef-9758-9828a6461770.jpg  \n",
            "  inflating: positive/3ee97c6e-5f14-11ef-a964-9828a6461770.jpg  \n",
            "  inflating: positive/3efeeffb-5f14-11ef-aa8d-9828a6461770.jpg  \n",
            "  inflating: positive/3f0d2bdc-5f14-11ef-8d63-9828a6461770.jpg  \n",
            "  inflating: positive/3f1b8b59-5f14-11ef-a431-9828a6461770.jpg  \n",
            "  inflating: positive/3f29da45-5f14-11ef-953b-9828a6461770.jpg  \n",
            "  inflating: positive/3f384b09-5f14-11ef-9e73-9828a6461770.jpg  \n",
            "  inflating: positive/3f3f7e52-5f14-11ef-bd4c-9828a6461770.jpg  \n",
            "  inflating: positive/3f4d1e26-5f14-11ef-bbe6-9828a6461770.jpg  \n",
            "  inflating: positive/3f5b3db6-5f14-11ef-98ef-9828a6461770.jpg  \n",
            "  inflating: positive/3f625b6c-5f14-11ef-b6e7-9828a6461770.jpg  \n",
            "  inflating: positive/3f88a14e-5f14-11ef-9ea4-9828a6461770.jpg  \n",
            "  inflating: positive/3f96c85b-5f14-11ef-a6e7-9828a6461770.jpg  \n",
            "  inflating: positive/3fb5acf8-5f14-11ef-9c5d-9828a6461770.jpg  \n",
            "  inflating: positive/3fc3fb0a-5f14-11ef-9467-9828a6461770.jpg  \n",
            "  inflating: positive/3fd2bdf3-5f14-11ef-97ed-9828a6461770.jpg  \n",
            "  inflating: positive/3fe13427-5f14-11ef-8227-9828a6461770.jpg  \n",
            "  inflating: positive/3fefa930-5f14-11ef-8721-9828a6461770.jpg  \n",
            "  inflating: positive/3ffe4425-5f14-11ef-bb89-9828a6461770.jpg  \n",
            "  inflating: positive/4022552e-5f14-11ef-89e2-9828a6461770.jpg  \n",
            "  inflating: positive/40302e4c-5f14-11ef-b219-9828a6461770.jpg  \n",
            "  inflating: positive/403eca5e-5f14-11ef-b3ac-9828a6461770.jpg  \n",
            "  inflating: positive/404d3f99-5f14-11ef-8679-9828a6461770.jpg  \n",
            "  inflating: positive/40629202-5f14-11ef-85d1-9828a6461770.jpg  \n",
            "  inflating: positive/4070923e-5f14-11ef-bbf1-9828a6461770.jpg  \n",
            "  inflating: positive/407f2f6c-5f14-11ef-b7c6-9828a6461770.jpg  \n",
            "  inflating: positive/408d9502-5f14-11ef-940a-9828a6461770.jpg  \n",
            "  inflating: positive/4094d772-5f14-11ef-a1bf-9828a6461770.jpg  \n",
            "  inflating: positive/40a787c1-5f14-11ef-b8d3-9828a6461770.jpg  \n",
            "  inflating: positive/40b5f4e9-5f14-11ef-a434-9828a6461770.jpg  \n",
            "  inflating: positive/40c4b1f3-5f14-11ef-a31f-9828a6461770.jpg  \n",
            "  inflating: positive/40d2edd6-5f14-11ef-9181-9828a6461770.jpg  \n",
            "  inflating: positive/40f1cbfc-5f14-11ef-9225-9828a6461770.jpg  \n",
            "  inflating: positive/41005374-5f14-11ef-97ac-9828a6461770.jpg  \n",
            "  inflating: positive/410f1123-5f14-11ef-bc6a-9828a6461770.jpg  \n",
            "  inflating: positive/411ce057-5f14-11ef-9dc1-9828a6461770.jpg  \n",
            "  inflating: positive/4137358c-5f14-11ef-a95a-9828a6461770.jpg  \n",
            "  inflating: positive/41453fff-5f14-11ef-b995-9828a6461770.jpg  \n",
            "  inflating: positive/41538d22-5f14-11ef-800e-9828a6461770.jpg  \n",
            "  inflating: positive/41622934-5f14-11ef-a5dd-9828a6461770.jpg  \n",
            "  inflating: positive/41692938-5f14-11ef-9122-9828a6461770.jpg  \n",
            "  inflating: positive/417c2f01-5f14-11ef-b815-9828a6461770.jpg  \n",
            "  inflating: positive/418a7d21-5f14-11ef-9bd9-9828a6461770.jpg  \n",
            "  inflating: positive/41991923-5f14-11ef-9b26-9828a6461770.jpg  \n",
            "  inflating: positive/41a76733-5f14-11ef-bbb0-9828a6461770.jpg  \n",
            "  inflating: positive/41bc9f52-5f14-11ef-8129-9828a6461770.jpg  \n",
            "  inflating: positive/41caec8f-5f14-11ef-b9ac-9828a6461770.jpg  \n",
            "  inflating: positive/41d93955-5f14-11ef-81bf-9828a6461770.jpg  \n",
            "  inflating: positive/41e787c1-5f14-11ef-8d22-9828a6461770.jpg  \n",
            "  inflating: positive/41eed5a7-5f14-11ef-a119-9828a6461770.jpg  \n",
            "  inflating: positive/4201b438-5f14-11ef-8456-9828a6461770.jpg  \n",
            "  inflating: positive/42105038-5f14-11ef-ae9e-9828a6461770.jpg  \n",
            "  inflating: positive/421ec551-5f14-11ef-a452-9828a6461770.jpg  \n",
            "  inflating: positive/422d3b80-5f14-11ef-b4d8-9828a6461770.jpg  \n",
            "  inflating: positive/45bd1969-5f14-11ef-bf7e-9828a6461770.jpg  \n",
            "  inflating: positive/45cb7901-5f14-11ef-84d6-9828a6461770.jpg  \n",
            "  inflating: positive/45ea0e32-5f14-11ef-8222-9828a6461770.jpg  \n",
            "  inflating: positive/45f87197-5f14-11ef-ada9-9828a6461770.jpg  \n",
            "  inflating: positive/460678c2-5f14-11ef-a7f4-9828a6461770.jpg  \n",
            "  inflating: positive/460dbc09-5f14-11ef-aba8-9828a6461770.jpg  \n",
            "  inflating: positive/461bdbae-5f14-11ef-b712-9828a6461770.jpg  \n",
            "  inflating: positive/462a09c1-5f14-11ef-8f1b-9828a6461770.jpg  \n",
            "  inflating: positive/46384cd9-5f14-11ef-b73e-9828a6461770.jpg  \n",
            "  inflating: positive/464b4b52-5f14-11ef-a843-9828a6461770.jpg  \n",
            "  inflating: positive/46527aa4-5f14-11ef-bd2a-9828a6461770.jpg  \n",
            "  inflating: positive/4660f0de-5f14-11ef-8257-9828a6461770.jpg  \n",
            "  inflating: positive/466f1c7d-5f14-11ef-aef9-9828a6461770.jpg  \n",
            "  inflating: positive/467d9062-5f14-11ef-9081-9828a6461770.jpg  \n",
            "  inflating: positive/468c2c5e-5f14-11ef-9493-9828a6461770.jpg  \n",
            "  inflating: positive/46a5bd6d-5f14-11ef-a15c-9828a6461770.jpg  \n",
            "  inflating: positive/46b4327b-5f14-11ef-b1d4-9828a6461770.jpg  \n",
            "  inflating: positive/46c23320-5f14-11ef-83b5-9828a6461770.jpg  \n",
            "  inflating: positive/46c959e6-5f14-11ef-b3cf-9828a6461770.jpg  \n",
            "  inflating: positive/46dcad50-5f14-11ef-a3dc-9828a6461770.jpg  \n",
            "  inflating: positive/46eb2383-5f14-11ef-8ae8-9828a6461770.jpg  \n",
            "  inflating: positive/46fdf192-5f14-11ef-95b3-9828a6461770.jpg  \n",
            "  inflating: positive/4717b485-5f14-11ef-9b3a-9828a6461770.jpg  \n",
            "  inflating: positive/4725bf8a-5f14-11ef-a1cc-9828a6461770.jpg  \n",
            "  inflating: positive/47344f71-5f14-11ef-8a22-9828a6461770.jpg  \n",
            "  inflating: positive/4749288b-5f14-11ef-836f-9828a6461770.jpg  \n",
            "  inflating: positive/47578357-5f14-11ef-b618-9828a6461770.jpg  \n",
            "  inflating: positive/4765f71e-5f14-11ef-9847-9828a6461770.jpg  \n",
            "  inflating: positive/4773f983-5f14-11ef-91be-9828a6461770.jpg  \n",
            "  inflating: positive/477b46fb-5f14-11ef-8c2d-9828a6461770.jpg  \n",
            "  inflating: positive/4789437a-5f14-11ef-919c-9828a6461770.jpg  \n",
            "  inflating: positive/47975e52-5f14-11ef-970f-9828a6461770.jpg  \n",
            "  inflating: positive/47a5a95b-5f14-11ef-839f-9828a6461770.jpg  \n",
            "  inflating: positive/47aca3e2-5f14-11ef-9870-9828a6461770.jpg  \n",
            "  inflating: positive/47bfbe21-5f14-11ef-a7a2-9828a6461770.jpg  \n",
            "  inflating: positive/47ce232b-5f14-11ef-9d6c-9828a6461770.jpg  \n",
            "  inflating: positive/47dc5511-5f14-11ef-b502-9828a6461770.jpg  \n",
            "  inflating: positive/47fb0cc9-5f14-11ef-aac7-9828a6461770.jpg  \n",
            "  inflating: positive/48094b6c-5f14-11ef-8dff-9828a6461770.jpg  \n",
            "  inflating: positive/48179dcb-5f14-11ef-b3dc-9828a6461770.jpg  \n",
            "  inflating: positive/48265a7a-5f14-11ef-b8c3-9828a6461770.jpg  \n",
            "  inflating: positive/482d81fd-5f14-11ef-9c85-9828a6461770.jpg  \n",
            "  inflating: positive/484efcb6-5f14-11ef-b8cf-9828a6461770.jpg  \n",
            "  inflating: positive/485d23d8-5f14-11ef-894d-9828a6461770.jpg  \n",
            "  inflating: positive/48722413-5f14-11ef-adaf-9828a6461770.jpg  \n",
            "  inflating: positive/4880c013-5f14-11ef-aad4-9828a6461770.jpg  \n",
            "  inflating: positive/488ee17d-5f14-11ef-8c5b-9828a6461770.jpg  \n",
            "  inflating: positive/489d1cbc-5f14-11ef-9a5e-9828a6461770.jpg  \n",
            "  inflating: positive/48bc4dda-5f14-11ef-8ecb-9828a6461770.jpg  \n",
            "  inflating: positive/48ca9bf3-5f14-11ef-bd9d-9828a6461770.jpg  \n",
            "  inflating: positive/48d937f1-5f14-11ef-b5d3-9828a6461770.jpg  \n",
            "  inflating: positive/48e75fbf-5f14-11ef-8042-9828a6461770.jpg  \n",
            "  inflating: positive/48fcad39-5f14-11ef-bdb7-9828a6461770.jpg  \n",
            "  inflating: positive/4919b652-5f14-11ef-94c6-9828a6461770.jpg  \n",
            "  inflating: positive/49283d3c-5f14-11ef-a149-9828a6461770.jpg  \n",
            "  inflating: positive/4936997e-5f14-11ef-8c7f-9828a6461770.jpg  \n",
            "  inflating: positive/494598cf-5f14-11ef-9a9b-9828a6461770.jpg  \n",
            "  inflating: positive/4953abc5-5f14-11ef-b08b-9828a6461770.jpg  \n",
            "  inflating: positive/49695a78-5f14-11ef-8e38-9828a6461770.jpg  \n",
            "  inflating: positive/4977f64e-5f14-11ef-a165-9828a6461770.jpg  \n",
            "  inflating: positive/498619f1-5f14-11ef-8747-9828a6461770.jpg  \n",
            "  inflating: positive/49948474-5f14-11ef-bd5d-9828a6461770.jpg  \n",
            "  inflating: positive/49a9d474-5f14-11ef-99f3-9828a6461770.jpg  \n",
            "  inflating: positive/49b7f87d-5f14-11ef-b36b-9828a6461770.jpg  \n",
            "  inflating: positive/49c66f9b-5f14-11ef-b759-9828a6461770.jpg  \n",
            "  inflating: positive/49d4bc79-5f14-11ef-96e5-9828a6461770.jpg  \n",
            "  inflating: positive/49f41503-5f14-11ef-91a7-9828a6461770.jpg  \n",
            "  inflating: positive/4a023c20-5f14-11ef-a528-9828a6461770.jpg  \n",
            "  inflating: positive/4a106337-5f14-11ef-b1d3-9828a6461770.jpg  \n",
            "  inflating: positive/4a151af9-5f14-11ef-9d33-9828a6461770.jpg  \n",
            "  inflating: positive/4a384249-5f14-11ef-8001-9828a6461770.jpg  \n",
            "  inflating: positive/4a466968-5f14-11ef-8838-9828a6461770.jpg  \n",
            "  inflating: positive/4a550569-5f14-11ef-9990-9828a6461770.jpg  \n",
            "  inflating: positive/4a63c85a-5f14-11ef-9996-9828a6461770.jpg  \n",
            "  inflating: positive/4a6aa2cc-5f14-11ef-a0ca-9828a6461770.jpg  \n",
            "  inflating: positive/4a789f75-5f14-11ef-9b6b-9828a6461770.jpg  \n",
            "  inflating: positive/4a8735bd-5f14-11ef-8ecb-9828a6461770.jpg  \n",
            "  inflating: positive/4a95d1b4-5f14-11ef-8e36-9828a6461770.jpg  \n",
            "  inflating: positive/4aa41e84-5f14-11ef-b57f-9828a6461770.jpg  \n",
            "  inflating: positive/4ab2938b-5f14-11ef-815c-9828a6461770.jpg  \n",
            "  inflating: positive/4ad6cb9f-5f14-11ef-8dad-9828a6461770.jpg  \n",
            "  inflating: positive/4ae541dd-5f14-11ef-9097-9828a6461770.jpg  \n",
            "  inflating: positive/4af3b5cb-5f14-11ef-b424-9828a6461770.jpg  \n",
            "  inflating: positive/4b024e0d-5f14-11ef-a0cd-9828a6461770.jpg  \n",
            "  inflating: positive/4b10a92d-5f14-11ef-a1c3-9828a6461770.jpg  \n",
            "  inflating: positive/4b17a861-5f14-11ef-bf3d-9828a6461770.jpg  \n",
            "  inflating: positive/4b2ad9f8-5f14-11ef-a340-9828a6461770.jpg  \n",
            "  inflating: positive/4b3919c2-5f14-11ef-b568-9828a6461770.jpg  \n",
            "  inflating: positive/4b4794dd-5f14-11ef-966f-9828a6461770.jpg  \n",
            "  inflating: positive/4b61b332-5f14-11ef-b60e-9828a6461770.jpg  \n",
            "  inflating: positive/4b6fff76-5f14-11ef-9147-9828a6461770.jpg  \n",
            "  inflating: positive/4b7e3bb1-5f14-11ef-9fac-9828a6461770.jpg  \n",
            "  inflating: positive/4b8c9f44-5f14-11ef-a04f-9828a6461770.jpg  \n",
            "  inflating: positive/4ba00f53-5f14-11ef-bd46-9828a6461770.jpg  \n",
            "  inflating: positive/4bc3d931-5f14-11ef-8bdb-9828a6461770.jpg  \n",
            "  inflating: positive/4bd1f28b-5f14-11ef-89e4-9828a6461770.jpg  \n",
            "  inflating: positive/4be72bb3-5f14-11ef-9cad-9828a6461770.jpg  \n",
            "  inflating: positive/4bf59c9a-5f14-11ef-bc40-9828a6461770.jpg  \n",
            "  inflating: positive/4c0411a7-5f14-11ef-bf85-9828a6461770.jpg  \n",
            "  inflating: positive/4c128700-5f14-11ef-a85d-9828a6461770.jpg  \n",
            "  inflating: positive/4c20d4c7-5f14-11ef-baec-9828a6461770.jpg  \n",
            "  inflating: positive/4c27ade1-5f14-11ef-bbaf-9828a6461770.jpg  \n",
            "  inflating: positive/4c44e5df-5f14-11ef-9933-9828a6461770.jpg  \n",
            "  inflating: positive/4c58540f-5f14-11ef-bc0e-9828a6461770.jpg  \n",
            "  inflating: positive/4c66ef3c-5f14-11ef-a784-9828a6461770.jpg  \n",
            "  inflating: positive/4c758d2d-5f14-11ef-be52-9828a6461770.jpg  \n",
            "  inflating: positive/4c840388-5f14-11ef-9935-9828a6461770.jpg  \n",
            "  inflating: positive/4c92788f-5f14-11ef-be20-9828a6461770.jpg  \n",
            "  inflating: positive/4c9951ac-5f14-11ef-828b-9828a6461770.jpg  \n",
            "  inflating: positive/4ca7eeeb-5f14-11ef-89a2-9828a6461770.jpg  \n",
            "  inflating: positive/4cb662ce-5f14-11ef-9b15-9828a6461770.jpg  \n",
            "  inflating: positive/4cc4fec4-5f14-11ef-b305-9828a6461770.jpg  \n",
            "  inflating: positive/4cd39abf-5f14-11ef-859c-9828a6461770.jpg  \n",
            "  inflating: positive/4ce18251-5f14-11ef-99dd-9828a6461770.jpg  \n",
            "  inflating: positive/4ce89189-5f14-11ef-b01d-9828a6461770.jpg  \n",
            "  inflating: positive/4d0a781b-5f14-11ef-bb0a-9828a6461770.jpg  \n",
            "  inflating: positive/4d189474-5f14-11ef-933d-9828a6461770.jpg  \n",
            "  inflating: positive/4d26beda-5f14-11ef-a515-9828a6461770.jpg  \n",
            "  inflating: positive/4d2dd7f6-5f14-11ef-b3a7-9828a6461770.jpg  \n",
            "  inflating: positive/4d40e4f1-5f14-11ef-8699-9828a6461770.jpg  \n",
            "  inflating: positive/4d4f294d-5f14-11ef-af23-9828a6461770.jpg  \n",
            "  inflating: positive/4d5d3187-5f14-11ef-a796-9828a6461770.jpg  \n",
            "  inflating: positive/4d85f60b-5f14-11ef-950f-9828a6461770.jpg  \n",
            "  inflating: positive/4d9490e0-5f14-11ef-b400-9828a6461770.jpg  \n",
            "  inflating: positive/4da28688-5f14-11ef-8feb-9828a6461770.jpg  \n",
            "  inflating: positive/4db0e913-5f14-11ef-83fe-9828a6461770.jpg  \n",
            "  inflating: positive/4db82e9e-5f14-11ef-9c5d-9828a6461770.jpg  \n",
            "  inflating: positive/4dcb0973-5f14-11ef-b059-9828a6461770.jpg  \n",
            "  inflating: positive/4dd9139d-5f14-11ef-acf3-9828a6461770.jpg  \n",
            "  inflating: positive/4de761c1-5f14-11ef-9aa1-9828a6461770.jpg  \n",
            "  inflating: positive/4dfcafec-5f14-11ef-9a43-9828a6461770.jpg  \n",
            "  inflating: positive/4e0afe06-5f14-11ef-8545-9828a6461770.jpg  \n",
            "  inflating: positive/4e197302-5f14-11ef-94ee-9828a6461770.jpg  \n",
            "  inflating: positive/4e280ef8-5f14-11ef-b6ae-9828a6461770.jpg  \n",
            "  inflating: positive/4e3dbbd5-5f14-11ef-884a-9828a6461770.jpg  \n",
            "  inflating: positive/4e4bf15a-5f14-11ef-ac7e-9828a6461770.jpg  \n",
            "  inflating: positive/4e5a6519-5f14-11ef-899f-9828a6461770.jpg  \n",
            "  inflating: positive/4e68b32f-5f14-11ef-8ac1-9828a6461770.jpg  \n",
            "  inflating: positive/4e774f47-5f14-11ef-8eef-9828a6461770.jpg  \n",
            "  inflating: positive/4e91550e-5f14-11ef-8c70-9828a6461770.jpg  \n",
            "  inflating: positive/4e9fca14-5f14-11ef-8dde-9828a6461770.jpg  \n",
            "  inflating: positive/4eae3f11-5f14-11ef-a055-9828a6461770.jpg  \n",
            "  inflating: positive/4ebc8d29-5f14-11ef-a956-9828a6461770.jpg  \n",
            "  inflating: positive/4ecb2d56-5f14-11ef-8379-9828a6461770.jpg  \n",
            "  inflating: positive/4ed27468-5f14-11ef-9579-9828a6461770.jpg  \n",
            "  inflating: positive/4ee0aee5-5f14-11ef-b83e-9828a6461770.jpg  \n",
            "  inflating: positive/4eeeab3a-5f14-11ef-87f3-9828a6461770.jpg  \n",
            "  inflating: positive/4efd50f1-5f14-11ef-a0fe-9828a6461770.jpg  \n",
            "  inflating: positive/4f0b6336-5f14-11ef-9824-9828a6461770.jpg  \n",
            "  inflating: positive/4f25afe8-5f14-11ef-9203-9828a6461770.jpg  \n",
            "  inflating: positive/4f3471ce-5f14-11ef-a0f6-9828a6461770.jpg  \n",
            "  inflating: positive/4f4284ce-5f14-11ef-9180-9828a6461770.jpg  \n",
            "  inflating: positive/4f50fff5-5f14-11ef-ae5e-9828a6461770.jpg  \n",
            "  inflating: positive/4f6b1072-5f14-11ef-99de-9828a6461770.jpg  \n",
            "  inflating: positive/4f797bf7-5f14-11ef-a91e-9828a6461770.jpg  \n",
            "  inflating: positive/4f87d74c-5f14-11ef-ae31-9828a6461770.jpg  \n",
            "  inflating: positive/4f96146f-5f14-11ef-8ee3-9828a6461770.jpg  \n",
            "  inflating: positive/4fb03044-5f14-11ef-b427-9828a6461770.jpg  \n",
            "  inflating: positive/4fbea6df-5f14-11ef-987a-9828a6461770.jpg  \n",
            "  inflating: positive/4fc38587-5f14-11ef-980d-9828a6461770.jpg  \n",
            "  inflating: positive/4fd1faa8-5f14-11ef-9106-9828a6461770.jpg  \n",
            "  inflating: positive/4fe0968c-5f14-11ef-9e56-9828a6461770.jpg  \n",
            "  inflating: positive/4feebdbc-5f14-11ef-afb4-9828a6461770.jpg  \n",
            "  inflating: positive/50040bea-5f14-11ef-854e-9828a6461770.jpg  \n",
            "  inflating: positive/5012a841-5f14-11ef-90ec-9828a6461770.jpg  \n",
            "  inflating: positive/502143d6-5f14-11ef-8d40-9828a6461770.jpg  \n",
            "  inflating: positive/502fab0e-5f14-11ef-92d4-9828a6461770.jpg  \n",
            "  inflating: positive/503df1af-5f14-11ef-a9b1-9828a6461770.jpg  \n",
            "  inflating: positive/50451a05-5f14-11ef-8d32-9828a6461770.jpg  \n",
            "  inflating: positive/5061dbd8-5f14-11ef-a9b9-9828a6461770.jpg  \n",
            "  inflating: positive/507050e4-5f14-11ef-9760-9828a6461770.jpg  \n",
            "  inflating: positive/50750899-5f14-11ef-a231-9828a6461770.jpg  \n",
            "  inflating: positive/508356c7-5f14-11ef-a8da-9828a6461770.jpg  \n",
            "  inflating: positive/5091f2b2-5f14-11ef-adbc-9828a6461770.jpg  \n",
            "  inflating: positive/50a2fe18-5f14-11ef-94ec-9828a6461770.jpg  \n",
            "  inflating: positive/50ac6d79-5f14-11ef-a8da-9828a6461770.jpg  \n",
            "  inflating: positive/50bae278-5f14-11ef-8934-9828a6461770.jpg  \n",
            "  inflating: positive/50c92140-5f14-11ef-96c9-9828a6461770.jpg  \n",
            "  inflating: positive/50d7bda4-5f14-11ef-af3e-9828a6461770.jpg  \n",
            "  inflating: positive/50e62b59-5f14-11ef-ba5a-9828a6461770.jpg  \n",
            "  inflating: positive/50ed3914-5f14-11ef-8046-9828a6461770.jpg  \n",
            "  inflating: positive/5104cfb2-5f14-11ef-890b-9828a6461770.jpg  \n",
            "  inflating: positive/51132502-5f14-11ef-8144-9828a6461770.jpg  \n",
            "  inflating: positive/5121c11e-5f14-11ef-9441-9828a6461770.jpg  \n",
            "  inflating: positive/5136ead4-5f14-11ef-84ca-9828a6461770.jpg  \n",
            "  inflating: positive/514560e4-5f14-11ef-b164-9828a6461770.jpg  \n",
            "  inflating: positive/5153b419-5f14-11ef-b7d2-9828a6461770.jpg  \n",
            "  inflating: positive/516208d0-5f14-11ef-8ba5-9828a6461770.jpg  \n",
            "  inflating: positive/517055ab-5f14-11ef-8d45-9828a6461770.jpg  \n",
            "  inflating: positive/51777cb4-5f14-11ef-98f5-9828a6461770.jpg  \n",
            "  inflating: positive/518fdbba-5f14-11ef-8eca-9828a6461770.jpg  \n",
            "  inflating: positive/519df399-5f14-11ef-8cc4-9828a6461770.jpg  \n",
            "  inflating: positive/51ac1635-5f14-11ef-9262-9828a6461770.jpg  \n",
            "  inflating: positive/51ba8b1a-5f14-11ef-8658-9828a6461770.jpg  \n",
            "  inflating: positive/51c1b260-5f14-11ef-98fd-9828a6461770.jpg  \n",
            "  inflating: positive/51d4b7f7-5f14-11ef-bddb-9828a6461770.jpg  \n",
            "  inflating: positive/51e2df0e-5f14-11ef-ae06-9828a6461770.jpg  \n",
            "  inflating: positive/51f1541c-5f14-11ef-96b6-9828a6461770.jpg  \n",
            "  inflating: positive/520b59f5-5f14-11ef-b8f5-9828a6461770.jpg  \n",
            "  inflating: positive/52195a20-5f14-11ef-b0be-9828a6461770.jpg  \n",
            "  inflating: positive/5227b640-5f14-11ef-9c70-9828a6461770.jpg  \n",
            "  inflating: positive/52470fb4-5f14-11ef-82be-9828a6461770.jpg  \n",
            "  inflating: positive/525536c7-5f14-11ef-9d4c-9828a6461770.jpg  \n",
            "  inflating: positive/5263abd5-5f14-11ef-81f7-9828a6461770.jpg  \n",
            "  inflating: positive/5271f9e8-5f14-11ef-bd91-9828a6461770.jpg  \n",
            "  inflating: positive/52802108-5f14-11ef-b68a-9828a6461770.jpg  \n",
            "  inflating: positive/52876f04-5f14-11ef-a5dc-9828a6461770.jpg  \n",
            "  inflating: positive/52959757-5f14-11ef-898b-9828a6461770.jpg  \n",
            "  inflating: positive/52a41471-5f14-11ef-8c18-9828a6461770.jpg  \n",
            "  inflating: positive/52b246fb-5f14-11ef-9f97-9828a6461770.jpg  \n",
            "  inflating: positive/52c0a72e-5f14-11ef-8c79-9828a6461770.jpg  \n",
            "  inflating: positive/52d13109-5f14-11ef-a6df-9828a6461770.jpg  \n",
            "  inflating: positive/52df95eb-5f14-11ef-ba6b-9828a6461770.jpg  \n",
            "  inflating: positive/52ede03a-5f14-11ef-98c4-9828a6461770.jpg  \n",
            "  inflating: positive/52fc04cd-5f14-11ef-bbc0-9828a6461770.jpg  \n",
            "  inflating: positive/531b19de-5f14-11ef-9252-9828a6461770.jpg  \n",
            "  inflating: positive/532e4de0-5f14-11ef-b7e2-9828a6461770.jpg  \n",
            "  inflating: positive/533c8c07-5f14-11ef-944d-9828a6461770.jpg  \n",
            "  inflating: positive/534aff1a-5f14-11ef-8bba-9828a6461770.jpg  \n",
            "  inflating: positive/536f3de7-5f14-11ef-89fe-9828a6461770.jpg  \n",
            "  inflating: positive/537d598b-5f14-11ef-a852-9828a6461770.jpg  \n",
            "  inflating: positive/538bb3c8-5f14-11ef-af2d-9828a6461770.jpg  \n",
            "  inflating: positive/539a1e5d-5f14-11ef-abc8-9828a6461770.jpg  \n",
            "  inflating: positive/53b950d1-5f14-11ef-afda-9828a6461770.jpg  \n",
            "  inflating: positive/53c7512d-5f14-11ef-b9fc-9828a6461770.jpg  \n",
            "  inflating: positive/53d57814-5f14-11ef-9f97-9828a6461770.jpg  \n",
            "  inflating: positive/53dc9f23-5f14-11ef-9981-9828a6461770.jpg  \n",
            "  inflating: positive/53eac639-5f14-11ef-87fa-9828a6461770.jpg  \n",
            "  inflating: positive/53f96851-5f14-11ef-9781-9828a6461770.jpg  \n",
            "  inflating: positive/5407a6fe-5f14-11ef-bedb-9828a6461770.jpg  \n",
            "  inflating: positive/54161d5a-5f14-11ef-8591-9828a6461770.jpg  \n",
            "  inflating: positive/54246aa2-5f14-11ef-8142-9828a6461770.jpg  \n",
            "  inflating: positive/542bb824-5f14-11ef-883d-9828a6461770.jpg  \n",
            "  inflating: positive/543e976c-5f14-11ef-970f-9828a6461770.jpg  \n",
            "  inflating: positive/544cbe12-5f14-11ef-8ea4-9828a6461770.jpg  \n",
            "  inflating: positive/546ba29c-5f14-11ef-8633-9828a6461770.jpg  \n",
            "  inflating: positive/5479e79f-5f14-11ef-b337-9828a6461770.jpg  \n",
            "  inflating: positive/5487f017-5f14-11ef-b225-9828a6461770.jpg  \n",
            "  inflating: positive/54a2aba3-5f14-11ef-89ee-9828a6461770.jpg  \n",
            "  inflating: positive/54ab8ab6-5f14-11ef-978a-9828a6461770.jpg  \n",
            "  inflating: positive/54b9a48d-5f14-11ef-b27e-9828a6461770.jpg  \n",
            "  inflating: positive/54c7ebf6-5f14-11ef-89f8-9828a6461770.jpg  \n",
            "  inflating: positive/54cf22ce-5f14-11ef-b9af-9828a6461770.jpg  \n",
            "  inflating: positive/54e237a9-5f14-11ef-aafb-9828a6461770.jpg  \n",
            "  inflating: positive/54f05cf8-5f14-11ef-9633-9828a6461770.jpg  \n",
            "  inflating: positive/54fe8a3f-5f14-11ef-9994-9828a6461770.jpg  \n",
            "  inflating: positive/5518bbf9-5f14-11ef-af5b-9828a6461770.jpg  \n",
            "  inflating: positive/552753fc-5f14-11ef-be22-9828a6461770.jpg  \n",
            "  inflating: positive/55357afe-5f14-11ef-a83a-9828a6461770.jpg  \n",
            "  inflating: positive/5543aaa3-5f14-11ef-b204-9828a6461770.jpg  \n",
            "  inflating: positive/554aa38d-5f14-11ef-bd87-9828a6461770.jpg  \n",
            "  inflating: positive/555db90d-5f14-11ef-aeda-9828a6461770.jpg  \n",
            "  inflating: positive/556bdda4-5f14-11ef-84aa-9828a6461770.jpg  \n",
            "  inflating: positive/557a52a7-5f14-11ef-804f-9828a6461770.jpg  \n",
            "  inflating: positive/5594319b-5f14-11ef-b732-9828a6461770.jpg  \n",
            "  inflating: positive/55a27fe8-5f14-11ef-8d9d-9828a6461770.jpg  \n",
            "  inflating: positive/55b0f4c1-5f14-11ef-800a-9828a6461770.jpg  \n",
            "  inflating: positive/55c42173-5f14-11ef-b6ff-9828a6461770.jpg  \n",
            "  inflating: positive/55cad4d9-5f14-11ef-a296-9828a6461770.jpg  \n",
            "  inflating: positive/55d8de4a-5f14-11ef-80b2-9828a6461770.jpg  \n",
            "  inflating: positive/55e73ec4-5f14-11ef-9c37-9828a6461770.jpg  \n",
            "  inflating: positive/55f564a8-5f14-11ef-adf9-9828a6461770.jpg  \n",
            "  inflating: positive/560f4386-5f14-11ef-b688-9828a6461770.jpg  \n",
            "  inflating: positive/561db899-5f14-11ef-b966-9828a6461770.jpg  \n",
            "  inflating: positive/562c2d9c-5f14-11ef-9678-9828a6461770.jpg  \n",
            "  inflating: positive/563aa2a8-5f14-11ef-9305-9828a6461770.jpg  \n",
            "  inflating: positive/5641f0b2-5f14-11ef-b05b-9828a6461770.jpg  \n",
            "  inflating: positive/5659daff-5f14-11ef-8a81-9828a6461770.jpg  \n",
            "  inflating: positive/566829c1-5f14-11ef-bcc0-9828a6461770.jpg  \n",
            "  inflating: positive/5676a9c6-5f14-11ef-b2dd-9828a6461770.jpg  \n",
            "  inflating: positive/56851e78-5f14-11ef-9dc6-9828a6461770.jpg  \n",
            "  inflating: positive/569a75ce-5f14-11ef-a475-9828a6461770.jpg  \n",
            "  inflating: positive/56a8e317-5f14-11ef-b083-9828a6461770.jpg  \n",
            "  inflating: positive/56b74cbb-5f14-11ef-80de-9828a6461770.jpg  \n",
            "  inflating: positive/56c52b3e-5f14-11ef-bcd6-9828a6461770.jpg  \n",
            "  inflating: positive/56e4435b-5f14-11ef-9dee-9828a6461770.jpg  \n",
            "  inflating: positive/56f2aad4-5f14-11ef-804b-9828a6461770.jpg  \n",
            "  inflating: positive/5700d763-5f14-11ef-9308-9828a6461770.jpg  \n",
            "  inflating: positive/570f117e-5f14-11ef-9ece-9828a6461770.jpg  \n",
            "  inflating: positive/571660b8-5f14-11ef-83a2-9828a6461770.jpg  \n",
            "  inflating: positive/57298d63-5f14-11ef-9014-9828a6461770.jpg  \n",
            "  inflating: positive/5737c307-5f14-11ef-b942-9828a6461770.jpg  \n",
            "  inflating: positive/57460cd0-5f14-11ef-8cb2-9828a6461770.jpg  \n",
            "  inflating: positive/575b4d5c-5f14-11ef-8535-9828a6461770.jpg  \n",
            "  inflating: positive/5769c278-5f14-11ef-b1d1-9828a6461770.jpg  \n",
            "  inflating: positive/57779b99-5f14-11ef-b64e-9828a6461770.jpg  \n",
            "  inflating: positive/578c26ec-5f14-11ef-af9d-9828a6461770.jpg  \n",
            "  inflating: positive/579a74ff-5f14-11ef-9239-9828a6461770.jpg  \n",
            "  inflating: positive/57a8ea09-5f14-11ef-b39f-9828a6461770.jpg  \n",
            "  inflating: positive/57c316d8-5f14-11ef-b571-9828a6461770.jpg  \n",
            "  inflating: positive/57d19008-5f14-11ef-963e-9828a6461770.jpg  \n",
            "  inflating: positive/57e02b40-5f14-11ef-9da1-9828a6461770.jpg  \n",
            "  inflating: positive/57ee9eef-5f14-11ef-a06b-9828a6461770.jpg  \n",
            "  inflating: positive/580219fa-5f14-11ef-9de7-9828a6461770.jpg  \n",
            "  inflating: positive/581bf88b-5f14-11ef-aa8a-9828a6461770.jpg  \n",
            "  inflating: positive/582a6d90-5f14-11ef-a3b5-9828a6461770.jpg  \n",
            "  inflating: positive/58386dba-5f14-11ef-9336-9828a6461770.jpg  \n",
            "  inflating: positive/5846e2d9-5f14-11ef-b2e5-9828a6461770.jpg  \n",
            "  inflating: positive/584e09ce-5f14-11ef-82ab-9828a6461770.jpg  \n",
            "  inflating: positive/5861368f-5f14-11ef-9330-9828a6461770.jpg  \n",
            "  inflating: positive/586f5180-5f14-11ef-82bb-9828a6461770.jpg  \n",
            "   creating: anchor/\n",
            "  inflating: anchor/0937e9da-5f14-11ef-803b-9828a6461770.jpg  \n",
            "  inflating: anchor/098d7691-5f14-11ef-a49d-9828a6461770.jpg  \n",
            "  inflating: anchor/099228ac-5f14-11ef-9d53-9828a6461770.jpg  \n",
            "  inflating: anchor/0996faae-5f14-11ef-8b8e-9828a6461770.jpg  \n",
            "  inflating: anchor/099dd034-5f14-11ef-8554-9828a6461770.jpg  \n",
            "  inflating: anchor/09ac4fd1-5f14-11ef-81d4-9828a6461770.jpg  \n",
            "  inflating: anchor/09bab56b-5f14-11ef-9ed0-9828a6461770.jpg  \n",
            "  inflating: anchor/09c8bbb4-5f14-11ef-822c-9828a6461770.jpg  \n",
            "  inflating: anchor/09d7354b-5f14-11ef-9b08-9828a6461770.jpg  \n",
            "  inflating: anchor/09dc612c-5f14-11ef-b296-9828a6461770.jpg  \n",
            "  inflating: anchor/09e387c2-5f14-11ef-a96a-9828a6461770.jpg  \n",
            "  inflating: anchor/09f1d5d1-5f14-11ef-83c4-9828a6461770.jpg  \n",
            "  inflating: anchor/0a004ae1-5f14-11ef-ab9d-9828a6461770.jpg  \n",
            "  inflating: anchor/0a0e71fe-5f14-11ef-9dcc-9828a6461770.jpg  \n",
            "  inflating: anchor/0a1cc011-5f14-11ef-801e-9828a6461770.jpg  \n",
            "  inflating: anchor/0a3061b1-5f14-11ef-a98f-9828a6461770.jpg  \n",
            "  inflating: anchor/0a354059-5f14-11ef-85f4-9828a6461770.jpg  \n",
            "  inflating: anchor/0a3c1988-5f14-11ef-963a-9828a6461770.jpg  \n",
            "  inflating: anchor/0a4a6789-5f14-11ef-a89d-9828a6461770.jpg  \n",
            "  inflating: anchor/0a58d9d9-5f14-11ef-ba06-9828a6461770.jpg  \n",
            "  inflating: anchor/0a672f22-5f14-11ef-acce-9828a6461770.jpg  \n",
            "  inflating: anchor/0a75ce0b-5f14-11ef-bd71-9828a6461770.jpg  \n",
            "  inflating: anchor/0a7a9a4c-5f14-11ef-8122-9828a6461770.jpg  \n",
            "  inflating: anchor/0a814d9e-5f14-11ef-840f-9828a6461770.jpg  \n",
            "  inflating: anchor/0a8f7bf1-5f14-11ef-9f3e-9828a6461770.jpg  \n",
            "  inflating: anchor/0a9e094c-5f14-11ef-b104-9828a6461770.jpg  \n",
            "  inflating: anchor/0aac51ab-5f14-11ef-9347-9828a6461770.jpg  \n",
            "  inflating: anchor/0ab11e4e-5f14-11ef-9bc3-9828a6461770.jpg  \n",
            "  inflating: anchor/0ac65738-5f14-11ef-91c1-9828a6461770.jpg  \n",
            "  inflating: anchor/0ad4921d-5f14-11ef-9af6-9828a6461770.jpg  \n",
            "  inflating: anchor/0ae2db35-5f14-11ef-b29f-9828a6461770.jpg  \n",
            "  inflating: anchor/0af800ea-5f14-11ef-b7f1-9828a6461770.jpg  \n",
            "  inflating: anchor/0b06593f-5f14-11ef-8b51-9828a6461770.jpg  \n",
            "  inflating: anchor/0b14ccd4-5f14-11ef-bad1-9828a6461770.jpg  \n",
            "  inflating: anchor/0b22eeae-5f14-11ef-a13d-9828a6461770.jpg  \n",
            "  inflating: anchor/0b280043-5f14-11ef-8a98-9828a6461770.jpg  \n",
            "  inflating: anchor/0b2cebc5-5f14-11ef-af91-9828a6461770.jpg  \n",
            "  inflating: anchor/0b31a381-5f14-11ef-b346-9828a6461770.jpg  \n",
            "  inflating: anchor/0b365b99-5f14-11ef-a11b-9828a6461770.jpg  \n",
            "  inflating: anchor/0b3d343e-5f14-11ef-b8ea-9828a6461770.jpg  \n",
            "  inflating: anchor/0b4ba945-5f14-11ef-a44b-9828a6461770.jpg  \n",
            "  inflating: anchor/0b5a4558-5f14-11ef-aac6-9828a6461770.jpg  \n",
            "  inflating: anchor/0b68e14d-5f14-11ef-b986-9828a6461770.jpg  \n",
            "  inflating: anchor/0b772f5c-5f14-11ef-96c0-9828a6461770.jpg  \n",
            "  inflating: anchor/0b8c2ffa-5f14-11ef-85dc-9828a6461770.jpg  \n",
            "  inflating: anchor/0b9a56bf-5f14-11ef-8562-9828a6461770.jpg  \n",
            "  inflating: anchor/0ba85925-5f14-11ef-84dd-9828a6461770.jpg  \n",
            "  inflating: anchor/0bc2a023-5f14-11ef-bac9-9828a6461770.jpg  \n",
            "  inflating: anchor/0bd13c14-5f14-11ef-873d-9828a6461770.jpg  \n",
            "  inflating: anchor/0bdf3af4-5f14-11ef-8243-9828a6461770.jpg  \n",
            "  inflating: anchor/0bed8915-5f14-11ef-b907-9828a6461770.jpg  \n",
            "  inflating: anchor/0bf28ebd-5f14-11ef-a189-9828a6461770.jpg  \n",
            "  inflating: anchor/0bf74674-5f14-11ef-a9c8-9828a6461770.jpg  \n",
            "  inflating: anchor/0bfe1f88-5f14-11ef-abe4-9828a6461770.jpg  \n",
            "  inflating: anchor/0c0c959c-5f14-11ef-a57f-9828a6461770.jpg  \n",
            "  inflating: anchor/0c1b0a9b-5f14-11ef-8a7f-9828a6461770.jpg  \n",
            "  inflating: anchor/0c290a57-5f14-11ef-81c9-9828a6461770.jpg  \n",
            "  inflating: anchor/0c47628e-5f14-11ef-97e3-9828a6461770.jpg  \n",
            "  inflating: anchor/0c4c4130-5f14-11ef-bc36-9828a6461770.jpg  \n",
            "  inflating: anchor/0c5abe51-5f14-11ef-b63c-9828a6461770.jpg  \n",
            "  inflating: anchor/0c691a10-5f14-11ef-9ace-9828a6461770.jpg  \n",
            "  inflating: anchor/0c6e15a0-5f14-11ef-b1e1-9828a6461770.jpg  \n",
            "  inflating: anchor/0c8368a6-5f14-11ef-bac1-9828a6461770.jpg  \n",
            "  inflating: anchor/0c91bd2f-5f14-11ef-b908-9828a6461770.jpg  \n",
            "  inflating: anchor/0ca02e66-5f14-11ef-b75f-9828a6461770.jpg  \n",
            "  inflating: anchor/0cae94cf-5f14-11ef-ba4d-9828a6461770.jpg  \n",
            "  inflating: anchor/0cc3a506-5f14-11ef-9a12-9828a6461770.jpg  \n",
            "  inflating: anchor/0cd1fc55-5f14-11ef-99b1-9828a6461770.jpg  \n",
            "  inflating: anchor/0ce05293-5f14-11ef-a511-9828a6461770.jpg  \n",
            "  inflating: anchor/0ceec7a3-5f14-11ef-9d57-9828a6461770.jpg  \n",
            "  inflating: anchor/0cf3ccf1-5f14-11ef-b244-9828a6461770.jpg  \n",
            "  inflating: anchor/0d08f910-5f14-11ef-816d-9828a6461770.jpg  \n",
            "  inflating: anchor/0d175401-5f14-11ef-b402-9828a6461770.jpg  \n",
            "  inflating: anchor/0d2574dd-5f14-11ef-a2ac-9828a6461770.jpg  \n",
            "  inflating: anchor/0d38cd1c-5f14-11ef-8717-9828a6461770.jpg  \n",
            "  inflating: anchor/0d5347e1-5f14-11ef-8013-9828a6461770.jpg  \n",
            "  inflating: anchor/0d61bce5-5f14-11ef-a4c3-9828a6461770.jpg  \n",
            "  inflating: anchor/0d6f9625-5f14-11ef-8aa8-9828a6461770.jpg  \n",
            "  inflating: anchor/0d82c2e1-5f14-11ef-95fc-9828a6461770.jpg  \n",
            "  inflating: anchor/0d89750c-5f14-11ef-84e0-9828a6461770.jpg  \n",
            "  inflating: anchor/0d97ebb8-5f14-11ef-a1ad-9828a6461770.jpg  \n",
            "  inflating: anchor/0da661a4-5f14-11ef-8de6-9828a6461770.jpg  \n",
            "  inflating: anchor/0db4d58c-5f14-11ef-9012-9828a6461770.jpg  \n",
            "  inflating: anchor/0dc7db66-5f14-11ef-bb4e-9828a6461770.jpg  \n",
            "  inflating: anchor/0dceb472-5f14-11ef-8c42-9828a6461770.jpg  \n",
            "  inflating: anchor/0ddcb5d8-5f14-11ef-930a-9828a6461770.jpg  \n",
            "  inflating: anchor/0deb2ad2-5f14-11ef-b706-9828a6461770.jpg  \n",
            "  inflating: anchor/0df99ec9-5f14-11ef-bc31-9828a6461770.jpg  \n",
            "  inflating: anchor/0e185d81-5f14-11ef-b1dc-9828a6461770.jpg  \n",
            "  inflating: anchor/0e26d354-5f14-11ef-835d-9828a6461770.jpg  \n",
            "  inflating: anchor/0e350fd7-5f14-11ef-a66b-9828a6461770.jpg  \n",
            "  inflating: anchor/0e4d39fb-5f14-11ef-ab0c-9828a6461770.jpg  \n",
            "  inflating: anchor/0e54385a-5f14-11ef-b00b-9828a6461770.jpg  \n",
            "  inflating: anchor/0e625a4e-5f14-11ef-8001-9828a6461770.jpg  \n",
            "  inflating: anchor/0e70d11e-5f14-11ef-aefa-9828a6461770.jpg  \n",
            "  inflating: anchor/0e7f47f5-5f14-11ef-991d-9828a6461770.jpg  \n",
            "  inflating: anchor/0e9470d1-5f14-11ef-b022-9828a6461770.jpg  \n",
            "  inflating: anchor/0ea33207-5f14-11ef-a156-9828a6461770.jpg  \n",
            "  inflating: anchor/0eac2eaa-5f14-11ef-8d6b-9828a6461770.jpg  \n",
            "  inflating: anchor/0eba7e95-5f14-11ef-9224-9828a6461770.jpg  \n",
            "  inflating: anchor/0ebfa91c-5f14-11ef-b002-9828a6461770.jpg  \n",
            "  inflating: anchor/0ed4d3de-5f14-11ef-b575-9828a6461770.jpg  \n",
            "  inflating: anchor/0ee321e6-5f14-11ef-a4fa-9828a6461770.jpg  \n",
            "  inflating: anchor/0ef13739-5f14-11ef-aa0e-9828a6461770.jpg  \n",
            "  inflating: anchor/0eff8a10-5f14-11ef-ad62-9828a6461770.jpg  \n",
            "  inflating: anchor/0f14f0bb-5f14-11ef-9d03-9828a6461770.jpg  \n",
            "  inflating: anchor/0f236395-5f14-11ef-aa09-9828a6461770.jpg  \n",
            "  inflating: anchor/0f31b1a0-5f14-11ef-900c-9828a6461770.jpg  \n",
            "  inflating: anchor/0f3f63dc-5f14-11ef-bfd0-9828a6461770.jpg  \n",
            "  inflating: anchor/0f446999-5f14-11ef-abe1-9828a6461770.jpg  \n",
            "  inflating: anchor/0f49483e-5f14-11ef-b0ee-9828a6461770.jpg  \n",
            "  inflating: anchor/0f4ffa5e-5f14-11ef-8de7-9828a6461770.jpg  \n",
            "  inflating: anchor/0f5e2177-5f14-11ef-a436-9828a6461770.jpg  \n",
            "  inflating: anchor/0f6cbeb1-5f14-11ef-859e-9828a6461770.jpg  \n",
            "  inflating: anchor/0f7b0b88-5f14-11ef-9de5-9828a6461770.jpg  \n",
            "  inflating: anchor/0f801123-5f14-11ef-b8f3-9828a6461770.jpg  \n",
            "  inflating: anchor/0f84e29a-5f14-11ef-b3f3-9828a6461770.jpg  \n",
            "  inflating: anchor/0f89af3a-5f14-11ef-894e-9828a6461770.jpg  \n",
            "  inflating: anchor/0f90b06b-5f14-11ef-8663-9828a6461770.jpg  \n",
            "  inflating: anchor/0f9f4c6e-5f14-11ef-982e-9828a6461770.jpg  \n",
            "  inflating: anchor/0fb22b39-5f14-11ef-9dac-9828a6461770.jpg  \n",
            "  inflating: anchor/0fc0a03f-5f14-11ef-9a30-9828a6461770.jpg  \n",
            "  inflating: anchor/0fcf153e-5f14-11ef-9dc1-9828a6461770.jpg  \n",
            "  inflating: anchor/0fd441db-5f14-11ef-b313-9828a6461770.jpg  \n",
            "  inflating: anchor/0fd92089-5f14-11ef-84b6-9828a6461770.jpg  \n",
            "  inflating: anchor/0fddd835-5f14-11ef-8bcb-9828a6461770.jpg  \n",
            "  inflating: anchor/0fe4b154-5f14-11ef-b0df-9828a6461770.jpg  \n",
            "  inflating: anchor/0ff2ff66-5f14-11ef-8ab9-9828a6461770.jpg  \n",
            "  inflating: anchor/10019b68-5f14-11ef-a877-9828a6461770.jpg  \n",
            "  inflating: anchor/101010cf-5f14-11ef-b566-9828a6461770.jpg  \n",
            "  inflating: anchor/101e5164-5f14-11ef-aec4-9828a6461770.jpg  \n",
            "  inflating: anchor/10339900-5f14-11ef-9a4c-9828a6461770.jpg  \n",
            "  inflating: anchor/10419a61-5f14-11ef-975b-9828a6461770.jpg  \n",
            "  inflating: anchor/105047ef-5f14-11ef-a5bd-9828a6461770.jpg  \n",
            "  inflating: anchor/105e8c90-5f14-11ef-a9a0-9828a6461770.jpg  \n",
            "  inflating: anchor/1073aa8e-5f14-11ef-8e93-9828a6461770.jpg  \n",
            "  inflating: anchor/1082645e-5f14-11ef-9edc-9828a6461770.jpg  \n",
            "  inflating: anchor/10906afa-5f14-11ef-81fa-9828a6461770.jpg  \n",
            "  inflating: anchor/109eb562-5f14-11ef-a60b-9828a6461770.jpg  \n",
            "  inflating: anchor/10b47b15-5f14-11ef-abf3-9828a6461770.jpg  \n",
            "  inflating: anchor/10c26d91-5f14-11ef-be5e-9828a6461770.jpg  \n",
            "  inflating: anchor/10d09045-5f14-11ef-a2e9-9828a6461770.jpg  \n",
            "  inflating: anchor/10eac5d7-5f14-11ef-ac4e-9828a6461770.jpg  \n",
            "  inflating: anchor/10f8a7b2-5f14-11ef-9998-9828a6461770.jpg  \n",
            "  inflating: anchor/1106f220-5f14-11ef-b8d8-9828a6461770.jpg  \n",
            "  inflating: anchor/111a29fd-5f14-11ef-acc9-9828a6461770.jpg  \n",
            "  inflating: anchor/11213999-5f14-11ef-90cc-9828a6461770.jpg  \n",
            "  inflating: anchor/112f7934-5f14-11ef-a511-9828a6461770.jpg  \n",
            "  inflating: anchor/113dbeea-5f14-11ef-97d4-9828a6461770.jpg  \n",
            "  inflating: anchor/11427f2c-5f14-11ef-b4be-9828a6461770.jpg  \n",
            "  inflating: anchor/1150c81f-5f14-11ef-b944-9828a6461770.jpg  \n",
            "  inflating: anchor/1155c858-5f14-11ef-8548-9828a6461770.jpg  \n",
            "  inflating: anchor/115a4d16-5f14-11ef-b00d-9828a6461770.jpg  \n",
            "  inflating: anchor/115f79aa-5f14-11ef-a86d-9828a6461770.jpg  \n",
            "  inflating: anchor/116679b2-5f14-11ef-aad0-9828a6461770.jpg  \n",
            "  inflating: anchor/1174c7ca-5f14-11ef-836c-9828a6461770.jpg  \n",
            "  inflating: anchor/1182eef1-5f14-11ef-9970-9828a6461770.jpg  \n",
            "  inflating: anchor/11913cf9-5f14-11ef-a7cc-9828a6461770.jpg  \n",
            "  inflating: anchor/119f8b12-5f14-11ef-bcd7-9828a6461770.jpg  \n",
            "  inflating: anchor/11a4b843-5f14-11ef-87d8-9828a6461770.jpg  \n",
            "  inflating: anchor/11ab90c3-5f14-11ef-91de-9828a6461770.jpg  \n",
            "  inflating: anchor/11ba05ca-5f14-11ef-803a-9828a6461770.jpg  \n",
            "  inflating: anchor/11c8aa20-5f14-11ef-bd81-9828a6461770.jpg  \n",
            "  inflating: anchor/11d6d269-5f14-11ef-a0d8-9828a6461770.jpg  \n",
            "  inflating: anchor/11e56e75-5f14-11ef-942e-9828a6461770.jpg  \n",
            "  inflating: anchor/11f3e24e-5f14-11ef-88c5-9828a6461770.jpg  \n",
            "  inflating: anchor/120e5d44-5f14-11ef-926b-9828a6461770.jpg  \n",
            "  inflating: anchor/121c8426-5f14-11ef-ac48-9828a6461770.jpg  \n",
            "  inflating: anchor/122aac07-5f14-11ef-9292-9828a6461770.jpg  \n",
            "  inflating: anchor/12392115-5f14-11ef-9ba9-9828a6461770.jpg  \n",
            "  inflating: anchor/124e6e8c-5f14-11ef-a549-9828a6461770.jpg  \n",
            "  inflating: anchor/125cac93-5f14-11ef-ac45-9828a6461770.jpg  \n",
            "  inflating: anchor/126f95c5-5f14-11ef-bb3c-9828a6461770.jpg  \n",
            "  inflating: anchor/1284fb15-5f14-11ef-a556-9828a6461770.jpg  \n",
            "  inflating: anchor/129343a9-5f14-11ef-80a4-9828a6461770.jpg  \n",
            "  inflating: anchor/12a1880a-5f14-11ef-b546-9828a6461770.jpg  \n",
            "  inflating: anchor/12afc236-5f14-11ef-93fc-9828a6461770.jpg  \n",
            "  inflating: anchor/12b4ca6f-5f14-11ef-bdc2-9828a6461770.jpg  \n",
            "  inflating: anchor/12b97b1d-5f14-11ef-b2d0-9828a6461770.jpg  \n",
            "  inflating: anchor/12c062f6-5f14-11ef-981c-9828a6461770.jpg  \n",
            "  inflating: anchor/12ce86a8-5f14-11ef-bde1-9828a6461770.jpg  \n",
            "  inflating: anchor/12dcceea-5f14-11ef-8661-9828a6461770.jpg  \n",
            "  inflating: anchor/12eb3b9d-5f14-11ef-af16-9828a6461770.jpg  \n",
            "  inflating: anchor/1300cc19-5f14-11ef-a215-9828a6461770.jpg  \n",
            "  inflating: anchor/130f3682-5f14-11ef-a99b-9828a6461770.jpg  \n",
            "  inflating: anchor/131d0101-5f14-11ef-bea1-9828a6461770.jpg  \n",
            "  inflating: anchor/132b410b-5f14-11ef-9e15-9828a6461770.jpg  \n",
            "  inflating: anchor/1340e62a-5f14-11ef-99fd-9828a6461770.jpg  \n",
            "  inflating: anchor/134eefa6-5f14-11ef-8599-9828a6461770.jpg  \n",
            "  inflating: anchor/135d3751-5f14-11ef-a7de-9828a6461770.jpg  \n",
            "  inflating: anchor/137c0dd3-5f14-11ef-89cb-9828a6461770.jpg  \n",
            "  inflating: anchor/138ac5f0-5f14-11ef-86d3-9828a6461770.jpg  \n",
            "  inflating: anchor/1398f0bc-5f14-11ef-98fd-9828a6461770.jpg  \n",
            "  inflating: anchor/13a7478a-5f14-11ef-b9e4-9828a6461770.jpg  \n",
            "  inflating: anchor/13bcbcc1-5f14-11ef-8e3c-9828a6461770.jpg  \n",
            "  inflating: anchor/13c95e3a-5f14-11ef-8353-9828a6461770.jpg  \n",
            "  inflating: anchor/13cfe968-5f14-11ef-8493-9828a6461770.jpg  \n",
            "  inflating: anchor/13de37a8-5f14-11ef-9b00-9828a6461770.jpg  \n",
            "  inflating: anchor/13ec859c-5f14-11ef-aacb-9828a6461770.jpg  \n",
            "  inflating: anchor/14068b83-5f14-11ef-85ec-9828a6461770.jpg  \n",
            "  inflating: anchor/1414b28a-5f14-11ef-9a1e-9828a6461770.jpg  \n",
            "  inflating: anchor/142328bc-5f14-11ef-8af0-9828a6461770.jpg  \n",
            "  inflating: anchor/1431c3af-5f14-11ef-a56b-9828a6461770.jpg  \n",
            "  inflating: anchor/14453e44-5f14-11ef-b49b-9828a6461770.jpg  \n",
            "  inflating: anchor/144a1d1d-5f14-11ef-8159-9828a6461770.jpg  \n",
            "  inflating: anchor/1450cf1b-5f14-11ef-ab32-9828a6461770.jpg  \n",
            "  inflating: anchor/145f6b2d-5f14-11ef-9a8c-9828a6461770.jpg  \n",
            "  inflating: anchor/146de01f-5f14-11ef-9e7b-9828a6461770.jpg  \n",
            "  inflating: anchor/17bec967-5f14-11ef-b6bb-9828a6461770.jpg  \n",
            "  inflating: anchor/17d942f0-5f14-11ef-b589-9828a6461770.jpg  \n",
            "  inflating: anchor/17e764d4-5f14-11ef-abbc-9828a6461770.jpg  \n",
            "  inflating: anchor/17f5a782-5f14-11ef-9363-9828a6461770.jpg  \n",
            "  inflating: anchor/180dc98a-5f14-11ef-98b7-9828a6461770.jpg  \n",
            "  inflating: anchor/1814c312-5f14-11ef-8f55-9828a6461770.jpg  \n",
            "  inflating: anchor/1822f843-5f14-11ef-80b0-9828a6461770.jpg  \n",
            "  inflating: anchor/183139ba-5f14-11ef-8eeb-9828a6461770.jpg  \n",
            "  inflating: anchor/183f5528-5f14-11ef-bbae-9828a6461770.jpg  \n",
            "  inflating: anchor/18444ffd-5f14-11ef-9616-9828a6461770.jpg  \n",
            "  inflating: anchor/184b3aeb-5f14-11ef-9c95-9828a6461770.jpg  \n",
            "  inflating: anchor/18597e6c-5f14-11ef-9b61-9828a6461770.jpg  \n",
            "  inflating: anchor/1867efc3-5f14-11ef-a6c2-9828a6461770.jpg  \n",
            "  inflating: anchor/18768c26-5f14-11ef-90d5-9828a6461770.jpg  \n",
            "  inflating: anchor/188500fa-5f14-11ef-9c9a-9828a6461770.jpg  \n",
            "  inflating: anchor/18982dc4-5f14-11ef-ad6e-9828a6461770.jpg  \n",
            "  inflating: anchor/189f2dcd-5f14-11ef-8fd2-9828a6461770.jpg  \n",
            "  inflating: anchor/18ad54ec-5f14-11ef-96d0-9828a6461770.jpg  \n",
            "  inflating: anchor/18bb7c0b-5f14-11ef-8e3d-9828a6461770.jpg  \n",
            "  inflating: anchor/18ca1806-5f14-11ef-8f3a-9828a6461770.jpg  \n",
            "  inflating: anchor/18d8b40a-5f14-11ef-a715-9828a6461770.jpg  \n",
            "  inflating: anchor/18f37740-5f14-11ef-abcb-9828a6461770.jpg  \n",
            "  inflating: anchor/19018b40-5f14-11ef-8e2d-9828a6461770.jpg  \n",
            "  inflating: anchor/190fb71a-5f14-11ef-ab90-9828a6461770.jpg  \n",
            "  inflating: anchor/191e4c9c-5f14-11ef-98d4-9828a6461770.jpg  \n",
            "  inflating: anchor/1933666a-5f14-11ef-b0ed-9828a6461770.jpg  \n",
            "  inflating: anchor/1941b191-5f14-11ef-b7df-9828a6461770.jpg  \n",
            "  inflating: anchor/19506ac9-5f14-11ef-b1bc-9828a6461770.jpg  \n",
            "  inflating: anchor/195e640b-5f14-11ef-bbf9-9828a6461770.jpg  \n",
            "  inflating: anchor/19788b67-5f14-11ef-b5c6-9828a6461770.jpg  \n",
            "  inflating: anchor/19867bca-5f14-11ef-ae4f-9828a6461770.jpg  \n",
            "  inflating: anchor/1994d1a0-5f14-11ef-9726-9828a6461770.jpg  \n",
            "  inflating: anchor/19aed7ff-5f14-11ef-8ed1-9828a6461770.jpg  \n",
            "  inflating: anchor/19bd426c-5f14-11ef-8c7b-9828a6461770.jpg  \n",
            "  inflating: anchor/19cbb9a0-5f14-11ef-85e2-9828a6461770.jpg  \n",
            "  inflating: anchor/19d9d120-5f14-11ef-b9da-9828a6461770.jpg  \n",
            "  inflating: anchor/19ef6104-5f14-11ef-b879-9828a6461770.jpg  \n",
            "  inflating: anchor/1a0228a7-5f14-11ef-aaad-9828a6461770.jpg  \n",
            "  inflating: anchor/1a1089ce-5f14-11ef-8bf2-9828a6461770.jpg  \n",
            "  inflating: anchor/1a154be9-5f14-11ef-a6db-9828a6461770.jpg  \n",
            "  inflating: anchor/1a1a0cf8-5f14-11ef-91d9-9828a6461770.jpg  \n",
            "  inflating: anchor/1a20f500-5f14-11ef-b971-9828a6461770.jpg  \n",
            "  inflating: anchor/1a2f7305-5f14-11ef-9172-9828a6461770.jpg  \n",
            "  inflating: anchor/1a342ab7-5f14-11ef-b453-9828a6461770.jpg  \n",
            "  inflating: anchor/1a4278e3-5f14-11ef-989b-9828a6461770.jpg  \n",
            "  inflating: anchor/1a50edd9-5f14-11ef-96b9-9828a6461770.jpg  \n",
            "  inflating: anchor/1a5f62e2-5f14-11ef-8a44-9828a6461770.jpg  \n",
            "  inflating: anchor/1a7525f5-5f14-11ef-809e-9828a6461770.jpg  \n",
            "  inflating: anchor/1a839b05-5f14-11ef-9429-9828a6461770.jpg  \n",
            "  inflating: anchor/1a9217b7-5f14-11ef-b66d-9828a6461770.jpg  \n",
            "  inflating: anchor/1aa03dd9-5f14-11ef-82c6-9828a6461770.jpg  \n",
            "  inflating: anchor/1aaeb44d-5f14-11ef-b327-9828a6461770.jpg  \n",
            "  inflating: anchor/1abd75d1-5f14-11ef-94c9-9828a6461770.jpg  \n",
            "  inflating: anchor/1ac27b7d-5f14-11ef-ba1c-9828a6461770.jpg  \n",
            "  inflating: anchor/1ad5f620-5f14-11ef-97fc-9828a6461770.jpg  \n",
            "  inflating: anchor/1ae13908-5f14-11ef-b3e0-9828a6461770.jpg  \n",
            "  inflating: anchor/1aefd503-5f14-11ef-add6-9828a6461770.jpg  \n",
            "  inflating: anchor/1afdfc28-5f14-11ef-a8d3-9828a6461770.jpg  \n",
            "  inflating: anchor/1b1353c7-5f14-11ef-8777-9828a6461770.jpg  \n",
            "  inflating: anchor/1b217c6e-5f14-11ef-92f2-9828a6461770.jpg  \n",
            "  inflating: anchor/1b2fcffe-5f14-11ef-883c-9828a6461770.jpg  \n",
            "  inflating: anchor/1b3e3733-5f14-11ef-baf2-9828a6461770.jpg  \n",
            "  inflating: anchor/1b4cfde3-5f14-11ef-8511-9828a6461770.jpg  \n",
            "  inflating: anchor/1b51f065-5f14-11ef-ae97-9828a6461770.jpg  \n",
            "  inflating: anchor/1b569df5-5f14-11ef-a31c-9828a6461770.jpg  \n",
            "  inflating: anchor/1b5d61f5-5f14-11ef-bbe5-9828a6461770.jpg  \n",
            "  inflating: anchor/1b6be016-5f14-11ef-9dec-9828a6461770.jpg  \n",
            "  inflating: anchor/1b7a3823-5f14-11ef-8855-9828a6461770.jpg  \n",
            "  inflating: anchor/1b88fd22-5f14-11ef-b9bd-9828a6461770.jpg  \n",
            "  inflating: anchor/1b970fd5-5f14-11ef-a968-9828a6461770.jpg  \n",
            "  inflating: anchor/1b9c3821-5f14-11ef-b3c2-9828a6461770.jpg  \n",
            "  inflating: anchor/1bb186d4-5f14-11ef-92d7-9828a6461770.jpg  \n",
            "  inflating: anchor/1bbfedee-5f14-11ef-9175-9828a6461770.jpg  \n",
            "  inflating: anchor/1bce8ae2-5f14-11ef-96e0-9828a6461770.jpg  \n",
            "  inflating: anchor/1bdc98ad-5f14-11ef-9804-9828a6461770.jpg  \n",
            "  inflating: anchor/1bf68511-5f14-11ef-a09f-9828a6461770.jpg  \n",
            "  inflating: anchor/1c04bf26-5f14-11ef-bd67-9828a6461770.jpg  \n",
            "  inflating: anchor/1c133fb4-5f14-11ef-8e32-9828a6461770.jpg  \n",
            "  inflating: anchor/1c181e77-5f14-11ef-9cba-9828a6461770.jpg  \n",
            "  inflating: anchor/1c269368-5f14-11ef-ab45-9828a6461770.jpg  \n",
            "  inflating: anchor/1c40c045-5f14-11ef-a8df-9828a6461770.jpg  \n",
            "  inflating: anchor/1c4f0e4d-5f14-11ef-8ea2-9828a6461770.jpg  \n",
            "  inflating: anchor/1c5dab9c-5f14-11ef-a23c-9828a6461770.jpg  \n",
            "  inflating: anchor/1c6bf9d2-5f14-11ef-9746-9828a6461770.jpg  \n",
            "  inflating: anchor/1c7a6ea3-5f14-11ef-8957-9828a6461770.jpg  \n",
            "  inflating: anchor/1c7f7312-5f14-11ef-b50d-9828a6461770.jpg  \n",
            "  inflating: anchor/1c862533-5f14-11ef-8746-9828a6461770.jpg  \n",
            "  inflating: anchor/1c944cef-5f14-11ef-ac83-9828a6461770.jpg  \n",
            "  inflating: anchor/1ca2749b-5f14-11ef-80c0-9828a6461770.jpg  \n",
            "  inflating: anchor/1cb110be-5f14-11ef-963c-9828a6461770.jpg  \n",
            "  inflating: anchor/1ccb3d8f-5f14-11ef-b7ac-9828a6461770.jpg  \n",
            "  inflating: anchor/1cd98bae-5f14-11ef-9301-9828a6461770.jpg  \n",
            "  inflating: anchor/1ce78bcc-5f14-11ef-ad88-9828a6461770.jpg  \n",
            "  inflating: anchor/1cfb0686-5f14-11ef-841d-9828a6461770.jpg  \n",
            "  inflating: anchor/1d01b8a3-5f14-11ef-8fd9-9828a6461770.jpg  \n",
            "  inflating: anchor/1d0fbadb-5f14-11ef-a26d-9828a6461770.jpg  \n",
            "  inflating: anchor/1d1e26e5-5f14-11ef-8adf-9828a6461770.jpg  \n",
            "  inflating: anchor/1d2c74ee-5f14-11ef-874d-9828a6461770.jpg  \n",
            "  inflating: anchor/1d316422-5f14-11ef-8a9f-9828a6461770.jpg  \n",
            "  inflating: anchor/1d36346b-5f14-11ef-8426-9828a6461770.jpg  \n",
            "  inflating: anchor/1d3d11c9-5f14-11ef-a71c-9828a6461770.jpg  \n",
            "  inflating: anchor/1d4b5d85-5f14-11ef-a4bb-9828a6461770.jpg  \n",
            "  inflating: anchor/1d599496-5f14-11ef-9cce-9828a6461770.jpg  \n",
            "  inflating: anchor/1d67e3d2-5f14-11ef-9297-9828a6461770.jpg  \n",
            "  inflating: anchor/1d6cc5ab-5f14-11ef-9e16-9828a6461770.jpg  \n",
            "  inflating: anchor/1d8224f5-5f14-11ef-aaa6-9828a6461770.jpg  \n",
            "  inflating: anchor/1d90becd-5f14-11ef-82b2-9828a6461770.jpg  \n",
            "  inflating: anchor/1d9fdc5e-5f14-11ef-a655-9828a6461770.jpg  \n",
            "  inflating: anchor/1dad8a0f-5f14-11ef-a0f8-9828a6461770.jpg  \n",
            "  inflating: anchor/1dc5b788-5f14-11ef-bd0a-9828a6461770.jpg  \n",
            "  inflating: anchor/1dcc76d9-5f14-11ef-affe-9828a6461770.jpg  \n",
            "  inflating: anchor/1ddab93d-5f14-11ef-889b-9828a6461770.jpg  \n",
            "  inflating: anchor/1de8ff5c-5f14-11ef-a5b7-9828a6461770.jpg  \n",
            "  inflating: anchor/1dfc45a2-5f14-11ef-9612-9828a6461770.jpg  \n",
            "  inflating: anchor/1e0317bb-5f14-11ef-814f-9828a6461770.jpg  \n",
            "  inflating: anchor/1e1165b7-5f14-11ef-a073-9828a6461770.jpg  \n",
            "  inflating: anchor/1e1fdac7-5f14-11ef-ab10-9828a6461770.jpg  \n",
            "  inflating: anchor/1e2d8d04-5f14-11ef-9bea-9828a6461770.jpg  \n",
            "  inflating: anchor/1e47e0d9-5f14-11ef-badc-9828a6461770.jpg  \n",
            "  inflating: anchor/1e5607ea-5f14-11ef-beb1-9828a6461770.jpg  \n",
            "  inflating: anchor/1e64a3ff-5f14-11ef-bcda-9828a6461770.jpg  \n",
            "  inflating: anchor/1e799fc5-5f14-11ef-821c-9828a6461770.jpg  \n",
            "  inflating: anchor/1e8815fb-5f14-11ef-bdc2-9828a6461770.jpg  \n",
            "  inflating: anchor/1e9689f0-5f14-11ef-a617-9828a6461770.jpg  \n",
            "  inflating: anchor/1ea525d5-5f14-11ef-a31b-9828a6461770.jpg  \n",
            "  inflating: anchor/1eb34d00-5f14-11ef-84bb-9828a6461770.jpg  \n",
            "  inflating: anchor/1ec89b23-5f14-11ef-9f02-9828a6461770.jpg  \n",
            "  inflating: anchor/1ed7115d-5f14-11ef-be4b-9828a6461770.jpg  \n",
            "  inflating: anchor/1ee5ac27-5f14-11ef-a75c-9828a6461770.jpg  \n",
            "  inflating: anchor/1ef40a12-5f14-11ef-86f6-9828a6461770.jpg  \n",
            "  inflating: anchor/1f025fc9-5f14-11ef-a248-9828a6461770.jpg  \n",
            "  inflating: anchor/1f076580-5f14-11ef-8e23-9828a6461770.jpg  \n",
            "  inflating: anchor/1f0bf639-5f14-11ef-9038-9828a6461770.jpg  \n",
            "  inflating: anchor/1f17ade1-5f14-11ef-9ad0-9828a6461770.jpg  \n",
            "  inflating: anchor/1f25d32b-5f14-11ef-862d-9828a6461770.jpg  \n",
            "  inflating: anchor/1f34165c-5f14-11ef-b834-9828a6461770.jpg  \n",
            "  inflating: anchor/1f4e4f02-5f14-11ef-962e-9828a6461770.jpg  \n",
            "  inflating: anchor/1f5cc3fe-5f14-11ef-8a05-9828a6461770.jpg  \n",
            "  inflating: anchor/1f6b0d9f-5f14-11ef-b3a7-9828a6461770.jpg  \n",
            "  inflating: anchor/1f795072-5f14-11ef-b1fa-9828a6461770.jpg  \n",
            "  inflating: anchor/1f8cb05d-5f14-11ef-9f5c-9828a6461770.jpg  \n",
            "  inflating: anchor/1f9382e0-5f14-11ef-9558-9828a6461770.jpg  \n",
            "  inflating: anchor/1fa21fd8-5f14-11ef-8cf8-9828a6461770.jpg  \n",
            "  inflating: anchor/1fb5500b-5f14-11ef-8c54-9828a6461770.jpg  \n",
            "  inflating: anchor/1fc383a9-5f14-11ef-af19-9828a6461770.jpg  \n",
            "  inflating: anchor/1fd8e945-5f14-11ef-aae6-9828a6461770.jpg  \n",
            "  inflating: anchor/1fe736c6-5f14-11ef-8dc2-9828a6461770.jpg  \n",
            "  inflating: anchor/1ff536e4-5f14-11ef-be7c-9828a6461770.jpg  \n",
            "  inflating: anchor/2003ac04-5f14-11ef-892e-9828a6461770.jpg  \n",
            "  inflating: anchor/2008b18d-5f14-11ef-80a2-9828a6461770.jpg  \n",
            "  inflating: anchor/200d903f-5f14-11ef-93de-9828a6461770.jpg  \n",
            "  inflating: anchor/20126eec-5f14-11ef-b664-9828a6461770.jpg  \n",
            "  inflating: anchor/201bb75f-5f14-11ef-b2d5-9828a6461770.jpg  \n",
            "  inflating: anchor/2022698d-5f14-11ef-ae64-9828a6461770.jpg  \n",
            "  inflating: anchor/2030df95-5f14-11ef-86a1-9828a6461770.jpg  \n",
            "  inflating: anchor/203f05a7-5f14-11ef-8c7b-9828a6461770.jpg  \n",
            "  inflating: anchor/204d7ab1-5f14-11ef-a83f-9828a6461770.jpg  \n",
            "  inflating: anchor/20544be4-5f14-11ef-9593-9828a6461770.jpg  \n",
            "  inflating: anchor/20628c2b-5f14-11ef-9a86-9828a6461770.jpg  \n",
            "  inflating: anchor/207101e7-5f14-11ef-a764-9828a6461770.jpg  \n",
            "  inflating: anchor/207f4eec-5f14-11ef-87bf-9828a6461770.jpg  \n",
            "  inflating: anchor/208dead9-5f14-11ef-a658-9828a6461770.jpg  \n",
            "  inflating: anchor/20a865a3-5f14-11ef-a7c8-9828a6461770.jpg  \n",
            "  inflating: anchor/20b666a6-5f14-11ef-9a67-9828a6461770.jpg  \n",
            "  inflating: anchor/20c48ceb-5f14-11ef-b2e4-9828a6461770.jpg  \n",
            "  inflating: anchor/20d808c7-5f14-11ef-8f83-9828a6461770.jpg  \n",
            "  inflating: anchor/20deb9bb-5f14-11ef-a825-9828a6461770.jpg  \n",
            "  inflating: anchor/20ed09ec-5f14-11ef-bfde-9828a6461770.jpg  \n",
            "  inflating: anchor/20fba56d-5f14-11ef-a6c4-9828a6461770.jpg  \n",
            "  inflating: anchor/2109e952-5f14-11ef-a48b-9828a6461770.jpg  \n",
            "  inflating: anchor/211d605a-5f14-11ef-8c87-9828a6461770.jpg  \n",
            "  inflating: anchor/21244534-5f14-11ef-9e67-9828a6461770.jpg  \n",
            "  inflating: anchor/21328d8a-5f14-11ef-a521-9828a6461770.jpg  \n",
            "  inflating: anchor/21411c30-5f14-11ef-9b03-9828a6461770.jpg  \n",
            "  inflating: anchor/21693a6a-5f14-11ef-9d67-9828a6461770.jpg  \n",
            "  inflating: anchor/217730b0-5f14-11ef-9328-9828a6461770.jpg  \n",
            "  inflating: anchor/21856a2d-5f14-11ef-8ceb-9828a6461770.jpg  \n",
            "  inflating: anchor/219a3f67-5f14-11ef-8400-9828a6461770.jpg  \n",
            "  inflating: anchor/21a87dd8-5f14-11ef-bdea-9828a6461770.jpg  \n",
            "  inflating: anchor/21b6b5f1-5f14-11ef-b738-9828a6461770.jpg  \n",
            "  inflating: anchor/21cc002a-5f14-11ef-9bc3-9828a6461770.jpg  \n",
            "  inflating: anchor/21da3cf3-5f14-11ef-afa4-9828a6461770.jpg  \n",
            "  inflating: anchor/21e856c3-5f14-11ef-a7b4-9828a6461770.jpg  \n",
            "  inflating: anchor/22026aff-5f14-11ef-8bce-9828a6461770.jpg  \n",
            "  inflating: anchor/2210ad06-5f14-11ef-9926-9828a6461770.jpg  \n",
            "  inflating: anchor/221f0d11-5f14-11ef-b650-9828a6461770.jpg  \n",
            "  inflating: anchor/222d7d48-5f14-11ef-a02a-9828a6461770.jpg  \n",
            "  inflating: anchor/223c194e-5f14-11ef-888f-9828a6461770.jpg  \n",
            "  inflating: anchor/22411ee5-5f14-11ef-8a6f-9828a6461770.jpg  \n",
            "  inflating: anchor/2247f7fe-5f14-11ef-97bb-9828a6461770.jpg  \n",
            "  inflating: anchor/22564616-5f14-11ef-a5a3-9828a6461770.jpg  \n",
            "  inflating: anchor/22646d3f-5f14-11ef-8f6f-9828a6461770.jpg  \n",
            "  inflating: anchor/2272bb44-5f14-11ef-85f2-9828a6461770.jpg  \n",
            "  inflating: anchor/22880b99-5f14-11ef-8870-9828a6461770.jpg  \n",
            "  inflating: anchor/22964a45-5f14-11ef-9efb-9828a6461770.jpg  \n",
            "  inflating: anchor/22a4a86e-5f14-11ef-9635-9828a6461770.jpg  \n",
            "  inflating: anchor/22b31c3a-5f14-11ef-9e78-9828a6461770.jpg  \n",
            "  inflating: anchor/22c66fde-5f14-11ef-ba31-9828a6461770.jpg  \n",
            "  inflating: anchor/22cd2201-5f14-11ef-9f66-9828a6461770.jpg  \n",
            "  inflating: anchor/22db702b-5f14-11ef-88ed-9828a6461770.jpg  \n",
            "  inflating: anchor/22e9986c-5f14-11ef-a024-9828a6461770.jpg  \n",
            "  inflating: anchor/2308a2be-5f14-11ef-ab09-9828a6461770.jpg  \n",
            "  inflating: anchor/231717c0-5f14-11ef-918f-9828a6461770.jpg  \n",
            "  inflating: anchor/2325b3c5-5f14-11ef-8a4b-9828a6461770.jpg  \n",
            "  inflating: anchor/23340309-5f14-11ef-9001-9828a6461770.jpg  \n",
            "  inflating: anchor/2342512b-5f14-11ef-89a2-9828a6461770.jpg  \n",
            "  inflating: anchor/235c9bde-5f14-11ef-8ec5-9828a6461770.jpg  \n",
            "  inflating: anchor/236adc0c-5f14-11ef-b30f-9828a6461770.jpg  \n",
            "  inflating: anchor/27849b3c-5f14-11ef-a1da-9828a6461770.jpg  \n",
            "  inflating: anchor/27d2278d-5f14-11ef-a1e8-9828a6461770.jpg  \n",
            "  inflating: anchor/27e06e0e-5f14-11ef-a1b7-9828a6461770.jpg  \n",
            "  inflating: anchor/27f5cb1f-5f14-11ef-b303-9828a6461770.jpg  \n",
            "  inflating: anchor/2804170e-5f14-11ef-a278-9828a6461770.jpg  \n",
            "  inflating: anchor/28127699-5f14-11ef-b747-9828a6461770.jpg  \n",
            "  inflating: anchor/2820d079-5f14-11ef-b30c-9828a6461770.jpg  \n",
            "  inflating: anchor/2825ae34-5f14-11ef-882e-9828a6461770.jpg  \n",
            "  inflating: anchor/282a65b5-5f14-11ef-ab1f-9828a6461770.jpg  \n",
            "  inflating: anchor/2844929c-5f14-11ef-bfac-9828a6461770.jpg  \n",
            "  inflating: anchor/285292b7-5f14-11ef-9db0-9828a6461770.jpg  \n",
            "  inflating: anchor/2860e0da-5f14-11ef-be68-9828a6461770.jpg  \n",
            "  inflating: anchor/2865e6eb-5f14-11ef-ad5c-9828a6461770.jpg  \n",
            "  inflating: anchor/286a9e17-5f14-11ef-8995-9828a6461770.jpg  \n",
            "  inflating: anchor/286f7cd8-5f14-11ef-b713-9828a6461770.jpg  \n",
            "  inflating: anchor/28762eeb-5f14-11ef-9d58-9828a6461770.jpg  \n",
            "  inflating: anchor/2884a3f2-5f14-11ef-9234-9828a6461770.jpg  \n",
            "  inflating: anchor/28931a39-5f14-11ef-a837-9828a6461770.jpg  \n",
            "  inflating: anchor/28a18890-5f14-11ef-979f-9828a6461770.jpg  \n",
            "  inflating: anchor/28afeb53-5f14-11ef-b943-9828a6461770.jpg  \n",
            "  inflating: anchor/28c9bbc1-5f14-11ef-b39d-9828a6461770.jpg  \n",
            "  inflating: anchor/28d7e8f2-5f14-11ef-adbd-9828a6461770.jpg  \n",
            "  inflating: anchor/28f6e4ff-5f14-11ef-9e77-9828a6461770.jpg  \n",
            "  inflating: anchor/28f9f02a-5f14-11ef-a124-9828a6461770.jpg  \n",
            "  inflating: anchor/2900a25b-5f14-11ef-a9ed-9828a6461770.jpg  \n",
            "  inflating: anchor/290eeed2-5f14-11ef-838e-9828a6461770.jpg  \n",
            "  inflating: anchor/291cdf47-5f14-11ef-805d-9828a6461770.jpg  \n",
            "  inflating: anchor/2921e52a-5f14-11ef-a280-9828a6461770.jpg  \n",
            "  inflating: anchor/29269093-5f14-11ef-8515-9828a6461770.jpg  \n",
            "  inflating: anchor/292d469b-5f14-11ef-9bb8-9828a6461770.jpg  \n",
            "  inflating: anchor/293b8be4-5f14-11ef-a3e5-9828a6461770.jpg  \n",
            "  inflating: anchor/2949ff81-5f14-11ef-86fb-9828a6461770.jpg  \n",
            "  inflating: anchor/29588136-5f14-11ef-8efb-9828a6461770.jpg  \n",
            "  inflating: anchor/296dd90c-5f14-11ef-ba19-9828a6461770.jpg  \n",
            "  inflating: anchor/297c0fa3-5f14-11ef-ad85-9828a6461770.jpg  \n",
            "  inflating: anchor/298aa0a3-5f14-11ef-ac1b-9828a6461770.jpg  \n",
            "  inflating: anchor/299915ad-5f14-11ef-96c8-9828a6461770.jpg  \n",
            "  inflating: anchor/29a763c5-5f14-11ef-95fd-9828a6461770.jpg  \n",
            "  inflating: anchor/29bade75-5f14-11ef-a18b-9828a6461770.jpg  \n",
            "  inflating: anchor/29c1de8c-5f14-11ef-aa48-9828a6461770.jpg  \n",
            "  inflating: anchor/29d07a97-5f14-11ef-b025-9828a6461770.jpg  \n",
            "  inflating: anchor/29def078-5f14-11ef-a07a-9828a6461770.jpg  \n",
            "  inflating: anchor/29ed8cb9-5f14-11ef-8e07-9828a6461770.jpg  \n",
            "  inflating: anchor/29fc278a-5f14-11ef-b262-9828a6461770.jpg  \n",
            "  inflating: anchor/2a0a759b-5f14-11ef-b384-9828a6461770.jpg  \n",
            "  inflating: anchor/2a24c97f-5f14-11ef-8c82-9828a6461770.jpg  \n",
            "  inflating: anchor/2a331792-5f14-11ef-ad53-9828a6461770.jpg  \n",
            "  inflating: anchor/2a41b38d-5f14-11ef-8775-9828a6461770.jpg  \n",
            "  inflating: anchor/2a502893-5f14-11ef-8ad5-9828a6461770.jpg  \n",
            "  inflating: anchor/2a5e76b8-5f14-11ef-92db-9828a6461770.jpg  \n",
            "  inflating: anchor/2a739dd3-5f14-11ef-b766-9828a6461770.jpg  \n",
            "  inflating: anchor/2a81dd2c-5f14-11ef-a9ca-9828a6461770.jpg  \n",
            "  inflating: anchor/2a904528-5f14-11ef-953f-9828a6461770.jpg  \n",
            "  inflating: anchor/2a9ebb74-5f14-11ef-845b-9828a6461770.jpg  \n",
            "  inflating: anchor/2ab40840-5f14-11ef-8e01-9828a6461770.jpg  \n",
            "  inflating: anchor/2ac23fe3-5f14-11ef-9d1d-9828a6461770.jpg  \n",
            "  inflating: anchor/2ad07242-5f14-11ef-897c-9828a6461770.jpg  \n",
            "  inflating: anchor/2adec039-5f14-11ef-90bc-9828a6461770.jpg  \n",
            "  inflating: anchor/2af2664f-5f14-11ef-9982-9828a6461770.jpg  \n",
            "  inflating: anchor/2afe0563-5f14-11ef-af69-9828a6461770.jpg  \n",
            "  inflating: anchor/2b0c3459-5f14-11ef-bd3c-9828a6461770.jpg  \n",
            "  inflating: anchor/2b1aa604-5f14-11ef-bf13-9828a6461770.jpg  \n",
            "  inflating: anchor/2b28b81c-5f14-11ef-9711-9828a6461770.jpg  \n",
            "  inflating: anchor/2b2d87ed-5f14-11ef-8d9f-9828a6461770.jpg  \n",
            "  inflating: anchor/2b43168d-5f14-11ef-b09b-9828a6461770.jpg  \n",
            "  inflating: anchor/2b5145a7-5f14-11ef-ae10-9828a6461770.jpg  \n",
            "  inflating: anchor/2b5fc043-5f14-11ef-bf98-9828a6461770.jpg  \n",
            "  inflating: anchor/2b72c9f1-5f14-11ef-b933-9828a6461770.jpg  \n",
            "  inflating: anchor/2b79d128-5f14-11ef-bdfc-9828a6461770.jpg  \n",
            "  inflating: anchor/2b7e3a89-5f14-11ef-9c2a-9828a6461770.jpg  \n",
            "  inflating: anchor/2b8caf83-5f14-11ef-b09c-9828a6461770.jpg  \n",
            "  inflating: anchor/2b918e30-5f14-11ef-828f-9828a6461770.jpg  \n",
            "  inflating: anchor/2b9645dd-5f14-11ef-8fad-9828a6461770.jpg  \n",
            "  inflating: anchor/2ba46cfb-5f14-11ef-9e19-9828a6461770.jpg  \n",
            "  inflating: anchor/2ba94ccd-5f14-11ef-a651-9828a6461770.jpg  \n",
            "  inflating: anchor/2bae2a65-5f14-11ef-b04d-9828a6461770.jpg  \n",
            "  inflating: anchor/2bb50371-5f14-11ef-bebd-9828a6461770.jpg  \n",
            "  inflating: anchor/2bc3519a-5f14-11ef-a3a7-9828a6461770.jpg  \n",
            "  inflating: anchor/2bd19fae-5f14-11ef-8ba3-9828a6461770.jpg  \n",
            "  inflating: anchor/2be014b4-5f14-11ef-af42-9828a6461770.jpg  \n",
            "  inflating: anchor/2c03fffa-5f14-11ef-8191-9828a6461770.jpg  \n",
            "  inflating: anchor/2c1c0a39-5f14-11ef-8371-9828a6461770.jpg  \n",
            "  inflating: anchor/2c2a584a-5f14-11ef-8324-9828a6461770.jpg  \n",
            "  inflating: anchor/2c38cd62-5f14-11ef-83b5-9828a6461770.jpg  \n",
            "  inflating: anchor/2c53211a-5f14-11ef-ba3c-9828a6461770.jpg  \n",
            "  inflating: anchor/2c616f33-5f14-11ef-96bd-9828a6461770.jpg  \n",
            "  inflating: anchor/2c6fe435-5f14-11ef-980e-9828a6461770.jpg  \n",
            "  inflating: anchor/2c7e4b97-5f14-11ef-accf-9828a6461770.jpg  \n",
            "  inflating: anchor/2c93f686-5f14-11ef-af11-9828a6461770.jpg  \n",
            "  inflating: anchor/2ca2794e-5f14-11ef-a7dd-9828a6461770.jpg  \n",
            "  inflating: anchor/2cb071f5-5f14-11ef-a3da-9828a6461770.jpg  \n",
            "  inflating: anchor/2cbee514-5f14-11ef-b513-9828a6461770.jpg  \n",
            "  inflating: anchor/2ccd6986-5f14-11ef-bfda-9828a6461770.jpg  \n",
            "  inflating: anchor/2ce2f617-5f14-11ef-afbb-9828a6461770.jpg  \n",
            "  inflating: anchor/2cf0fa69-5f14-11ef-9859-9828a6461770.jpg  \n",
            "  inflating: anchor/2cff492a-5f14-11ef-b252-9828a6461770.jpg  \n",
            "  inflating: anchor/2d0dbf1e-5f14-11ef-bc5d-9828a6461770.jpg  \n",
            "  inflating: anchor/2d232e7a-5f14-11ef-ad0e-9828a6461770.jpg  \n",
            "  inflating: anchor/2d3177a1-5f14-11ef-9ff4-9828a6461770.jpg  \n",
            "  inflating: anchor/2d3f72dd-5f14-11ef-857f-9828a6461770.jpg  \n",
            "  inflating: anchor/2d5461e4-5f14-11ef-ae57-9828a6461770.jpg  \n",
            "  inflating: anchor/2d62bf73-5f14-11ef-8e3a-9828a6461770.jpg  \n",
            "  inflating: anchor/2d71154d-5f14-11ef-a443-9828a6461770.jpg  \n",
            "  inflating: anchor/2d7f8a09-5f14-11ef-a0ac-9828a6461770.jpg  \n",
            "  inflating: anchor/2d92e6da-5f14-11ef-9a47-9828a6461770.jpg  \n",
            "  inflating: anchor/2d9e8aa8-5f14-11ef-a373-9828a6461770.jpg  \n",
            "  inflating: anchor/2dacf657-5f14-11ef-a3e1-9828a6461770.jpg  \n",
            "  inflating: anchor/2dbb4222-5f14-11ef-a2bf-9828a6461770.jpg  \n",
            "  inflating: anchor/2dc9ddae-5f14-11ef-abe0-9828a6461770.jpg  \n",
            "  inflating: anchor/2dd879a2-5f14-11ef-8c79-9828a6461770.jpg  \n",
            "  inflating: anchor/2de6ef8e-5f14-11ef-8cb3-9828a6461770.jpg  \n",
            "  inflating: anchor/2debf454-5f14-11ef-9b3c-9828a6461770.jpg  \n",
            "  inflating: anchor/2df0d2f3-5f14-11ef-9c2d-9828a6461770.jpg  \n",
            "  inflating: anchor/2df7851d-5f14-11ef-848b-9828a6461770.jpg  \n",
            "  inflating: anchor/2e05fa28-5f14-11ef-9563-9828a6461770.jpg  \n",
            "  inflating: anchor/2e13fb89-5f14-11ef-ab5f-9828a6461770.jpg  \n",
            "  inflating: anchor/2e273d31-5f14-11ef-bf52-9828a6461770.jpg  \n",
            "  inflating: anchor/2e2c1b40-5f14-11ef-bbb1-9828a6461770.jpg  \n",
            "  inflating: anchor/2e331549-5f14-11ef-b0d1-9828a6461770.jpg  \n",
            "  inflating: anchor/2e417646-5f14-11ef-abae-9828a6461770.jpg  \n",
            "  inflating: anchor/2e4febe0-5f14-11ef-8b48-9828a6461770.jpg  \n",
            "  inflating: anchor/2e5e1319-5f14-11ef-94f8-9828a6461770.jpg  \n",
            "  inflating: anchor/2e738842-5f14-11ef-9fc0-9828a6461770.jpg  \n",
            "  inflating: anchor/2e81d66c-5f14-11ef-9b46-9828a6461770.jpg  \n",
            "  inflating: anchor/2e904b6e-5f14-11ef-a2c6-9828a6461770.jpg  \n",
            "  inflating: anchor/2e9e9a0e-5f14-11ef-a40f-9828a6461770.jpg  \n",
            "  inflating: anchor/2eace79c-5f14-11ef-92d4-9828a6461770.jpg  \n",
            "  inflating: anchor/2eb2142d-5f14-11ef-9610-9828a6461770.jpg  \n",
            "  inflating: anchor/2eb6f2ca-5f14-11ef-9358-9828a6461770.jpg  \n",
            "  inflating: anchor/2ebbb462-5f14-11ef-a9a0-9828a6461770.jpg  \n",
            "  inflating: anchor/2ec07cf2-5f14-11ef-858d-9828a6461770.jpg  \n",
            "  inflating: anchor/2ec77c83-5f14-11ef-be02-9828a6461770.jpg  \n",
            "  inflating: anchor/2ed58708-5f14-11ef-bc4a-9828a6461770.jpg  \n",
            "  inflating: anchor/2ee39d7a-5f14-11ef-8ee6-9828a6461770.jpg  \n",
            "  inflating: anchor/2ef9200a-5f14-11ef-a2b4-9828a6461770.jpg  \n",
            "  inflating: anchor/2f075514-5f14-11ef-860f-9828a6461770.jpg  \n",
            "  inflating: anchor/2f1586c3-5f14-11ef-85af-9828a6461770.jpg  \n",
            "  inflating: anchor/2f23bea8-5f14-11ef-a12a-9828a6461770.jpg  \n",
            "  inflating: anchor/2f3c2063-5f14-11ef-ae98-9828a6461770.jpg  \n",
            "  inflating: anchor/2f4107de-5f14-11ef-9a1a-9828a6461770.jpg  \n",
            "  inflating: anchor/2f47c9d6-5f14-11ef-a832-9828a6461770.jpg  \n",
            "  inflating: anchor/2f562b5d-5f14-11ef-9788-9828a6461770.jpg  \n",
            "  inflating: anchor/2f6475e7-5f14-11ef-9490-9828a6461770.jpg  \n",
            "  inflating: anchor/2f72992a-5f14-11ef-87ce-9828a6461770.jpg  \n",
            "  inflating: anchor/2f77a40b-5f14-11ef-b081-9828a6461770.jpg  \n",
            "  inflating: anchor/2f7c7126-5f14-11ef-adda-9828a6461770.jpg  \n",
            "  inflating: anchor/2f819ac9-5f14-11ef-aace-9828a6461770.jpg  \n",
            "  inflating: anchor/2f862caa-5f14-11ef-b225-9828a6461770.jpg  \n",
            "  inflating: anchor/2f8ccd37-5f14-11ef-9b0f-9828a6461770.jpg  \n",
            "  inflating: anchor/2f9b2b83-5f14-11ef-babc-9828a6461770.jpg  \n",
            "  inflating: anchor/2f9fd0d0-5f14-11ef-8b0a-9828a6461770.jpg  \n",
            "  inflating: anchor/2fc38e9e-5f14-11ef-bff3-9828a6461770.jpg  \n",
            "  inflating: anchor/2fd19767-5f14-11ef-b65a-9828a6461770.jpg  \n",
            "  inflating: anchor/2fdfddd3-5f14-11ef-8df3-9828a6461770.jpg  \n",
            "  inflating: anchor/2ff52835-5f14-11ef-8b8c-9828a6461770.jpg  \n",
            "  inflating: anchor/300635e1-5f14-11ef-8a89-9828a6461770.jpg  \n",
            "  inflating: anchor/300ce80a-5f14-11ef-82e4-9828a6461770.jpg  \n",
            "  inflating: anchor/301b5d1c-5f14-11ef-9053-9828a6461770.jpg  \n",
            "  inflating: anchor/30298433-5f14-11ef-89c3-9828a6461770.jpg  \n",
            "  inflating: anchor/302eb0d6-5f14-11ef-b33f-9828a6461770.jpg  \n",
            "  inflating: anchor/30338f75-5f14-11ef-998e-9828a6461770.jpg  \n",
            "  inflating: anchor/30386e2d-5f14-11ef-a0fe-9828a6461770.jpg  \n",
            "  inflating: anchor/303f9539-5f14-11ef-93ba-9828a6461770.jpg  \n",
            "  inflating: anchor/304841c4-5f14-11ef-859c-9828a6461770.jpg  \n",
            "  inflating: anchor/3056432f-5f14-11ef-abf7-9828a6461770.jpg  \n",
            "  inflating: anchor/306bcdd8-5f14-11ef-afd9-9828a6461770.jpg  \n",
            "  inflating: anchor/3079f3dc-5f14-11ef-a34d-9828a6461770.jpg  \n",
            "  inflating: anchor/30881b3b-5f14-11ef-a331-9828a6461770.jpg  \n",
            "  inflating: anchor/3096b621-5f14-11ef-a29c-9828a6461770.jpg  \n",
            "  inflating: anchor/309b94c3-5f14-11ef-b88c-9828a6461770.jpg  \n",
            "  inflating: anchor/30a246e7-5f14-11ef-86ba-9828a6461770.jpg  \n",
            "  inflating: anchor/30b0bbfa-5f14-11ef-a2e6-9828a6461770.jpg  \n",
            "  inflating: anchor/30bee317-5f14-11ef-a69d-9828a6461770.jpg  \n",
            "  inflating: anchor/30cd7f1a-5f14-11ef-9d35-9828a6461770.jpg  \n",
            "  inflating: anchor/30dc1b11-5f14-11ef-afa2-9828a6461770.jpg  \n",
            "  inflating: anchor/30f1693a-5f14-11ef-9003-9828a6461770.jpg  \n",
            "  inflating: anchor/30fff27d-5f14-11ef-8ce0-9828a6461770.jpg  \n",
            "  inflating: anchor/310e396b-5f14-11ef-bbae-9828a6461770.jpg  \n",
            "  inflating: anchor/311cb284-5f14-11ef-ae2b-9828a6461770.jpg  \n",
            "  inflating: anchor/312aff03-5f14-11ef-8f0a-9828a6461770.jpg  \n"
          ]
        }
      ]
    },
    {
      "cell_type": "code",
      "source": [
        "# Move Poisitve and positive Images to the following repository data/positive and data/positive\n",
        "for filename in os.listdir('anchor'): # Iterate over files directly in 'positive'\n",
        "  EX_PATH = os.path.join('anchor', filename)\n",
        "  NEW_PATH = os.path.join(ANC_PATH, filename)\n",
        "  os.replace(EX_PATH, NEW_PATH)\n",
        "\n",
        "for filename in os.listdir('positive'): # Iterate over files directly in 'positive'\n",
        "  EX_PATH = os.path.join('positive', filename)\n",
        "  NEW_PATH = os.path.join(POS_PATH, filename)\n",
        "  os.replace(EX_PATH, NEW_PATH)"
      ],
      "metadata": {
        "id": "9TLS2SjMtKBb"
      },
      "execution_count": null,
      "outputs": []
    },
    {
      "cell_type": "code",
      "source": [
        "walk_through_dir('/content/data/positive'), walk_through_dir('/content/data/anchor')"
      ],
      "metadata": {
        "colab": {
          "base_uri": "https://localhost:8080/"
        },
        "id": "_4Vh699ctlOE",
        "outputId": "93c24345-a01a-48b6-f9b8-d17b7c952800"
      },
      "execution_count": null,
      "outputs": [
        {
          "output_type": "stream",
          "name": "stdout",
          "text": [
            "There are 0 directories and 435 images in '/content/data/positive'.\n",
            "There are 0 directories and 596 images in '/content/data/anchor'.\n"
          ]
        },
        {
          "output_type": "execute_result",
          "data": {
            "text/plain": [
              "(None, None)"
            ]
          },
          "metadata": {},
          "execution_count": 18
        }
      ]
    },
    {
      "cell_type": "markdown",
      "source": [
        "# 3. Load and Preprocess Images"
      ],
      "metadata": {
        "id": "aBX2Pr1sziVv"
      }
    },
    {
      "cell_type": "markdown",
      "source": [
        "# 3.1 Get Image Directories"
      ],
      "metadata": {
        "id": "I8gfax8TuBe9"
      }
    },
    {
      "cell_type": "code",
      "source": [
        "anchor = tf.data.Dataset.list_files(ANC_PATH+'/*.jpg').take(300)\n",
        "positive = tf.data.Dataset.list_files(POS_PATH+'/*.jpg').take(300)\n",
        "negative = tf.data.Dataset.list_files(NEG_PATH+'/*.jpg').take(300)"
      ],
      "metadata": {
        "id": "W4KJdGW00sHG"
      },
      "execution_count": null,
      "outputs": []
    },
    {
      "cell_type": "code",
      "source": [
        "dir_test = anchor.as_numpy_iterator()\n",
        "dir_test.next()"
      ],
      "metadata": {
        "colab": {
          "base_uri": "https://localhost:8080/"
        },
        "id": "EQ6jhXmb0_bf",
        "outputId": "9ab76584-07e6-4aa3-86a0-6aa60ddabc53"
      },
      "execution_count": null,
      "outputs": [
        {
          "output_type": "execute_result",
          "data": {
            "text/plain": [
              "b'data/anchor/2e273d31-5f14-11ef-bf52-9828a6461770.jpg'"
            ]
          },
          "metadata": {},
          "execution_count": 20
        }
      ]
    },
    {
      "cell_type": "markdown",
      "source": [
        "# 3.2 Preprocessing - Scale and Resize"
      ],
      "metadata": {
        "id": "2-tI6JnGzphv"
      }
    },
    {
      "cell_type": "code",
      "source": [
        "def preprocess(file_path):\n",
        "\n",
        "  # Read in image from file path\n",
        "  byte_img = tf.io.read_file(file_path)\n",
        "  # Load in the image\n",
        "  img = tf.io.decode_jpeg(byte_img)\n",
        "\n",
        "  # Preprocessing steps - resizing the image to be 100x100x3\n",
        "  img = tf.image.resize(img, (100, 100))\n",
        "  # Scale image to be between 0 and 1\n",
        "  img = img / 255.0\n",
        "\n",
        "\n",
        "  return img"
      ],
      "metadata": {
        "id": "uMIPZ23X2IMN"
      },
      "execution_count": null,
      "outputs": []
    },
    {
      "cell_type": "code",
      "source": [
        "img = preprocess('data/anchor/0c1b0a9b-5f14-11ef-8a7f-9828a6461770.jpg')\n",
        "img"
      ],
      "metadata": {
        "colab": {
          "base_uri": "https://localhost:8080/"
        },
        "id": "rieCTli42zU9",
        "outputId": "a3da96e7-4fb9-4542-884a-8859b0f57aad"
      },
      "execution_count": null,
      "outputs": [
        {
          "output_type": "execute_result",
          "data": {
            "text/plain": [
              "<tf.Tensor: shape=(100, 100, 3), dtype=float32, numpy=\n",
              "array([[[0.6044118 , 0.65539217, 0.6161765 ],\n",
              "        [0.595098  , 0.6490196 , 0.60882354],\n",
              "        [0.5872549 , 0.65      , 0.6009804 ],\n",
              "        ...,\n",
              "        [0.747549  , 0.8093137 , 0.7730392 ],\n",
              "        [0.79044116, 0.85514706, 0.8306373 ],\n",
              "        [0.7948529 , 0.86151963, 0.8379902 ]],\n",
              "\n",
              "       [[0.6       , 0.65392154, 0.6137255 ],\n",
              "        [0.59093136, 0.6463235 , 0.60563725],\n",
              "        [0.59117645, 0.6517157 , 0.60294116],\n",
              "        ...,\n",
              "        [0.7468137 , 0.8063725 , 0.7708333 ],\n",
              "        [0.75465685, 0.81789213, 0.79264706],\n",
              "        [0.80220586, 0.8688725 , 0.8453431 ]],\n",
              "\n",
              "       [[0.5926471 , 0.65539217, 0.6122549 ],\n",
              "        [0.5872549 , 0.64705884, 0.60490197],\n",
              "        [0.5992647 , 0.65318626, 0.60514706],\n",
              "        ...,\n",
              "        [0.7522059 , 0.80514705, 0.77181375],\n",
              "        [0.74509805, 0.8039216 , 0.7764706 ],\n",
              "        [0.7772059 , 0.84387255, 0.82034314]],\n",
              "\n",
              "       ...,\n",
              "\n",
              "       [[0.6098039 , 0.64117646, 0.5980392 ],\n",
              "        [0.5894608 , 0.62083334, 0.5757353 ],\n",
              "        [0.5767157 , 0.60808825, 0.55710787],\n",
              "        ...,\n",
              "        [0.6580882 , 0.70465684, 0.6519608 ],\n",
              "        [0.6617647 , 0.70686275, 0.6666667 ],\n",
              "        [0.6607843 , 0.7029412 , 0.67156863]],\n",
              "\n",
              "       [[0.59681374, 0.6281863 , 0.57916665],\n",
              "        [0.59583336, 0.6272059 , 0.57916665],\n",
              "        [0.59117645, 0.622549  , 0.577451  ],\n",
              "        ...,\n",
              "        [0.65367645, 0.6987745 , 0.64681375],\n",
              "        [0.6647059 , 0.70392156, 0.6666667 ],\n",
              "        [0.6578431 , 0.6970588 , 0.66568625]],\n",
              "\n",
              "       [[0.6039216 , 0.627451  , 0.5803922 ],\n",
              "        [0.5872549 , 0.6107843 , 0.5656863 ],\n",
              "        [0.59117645, 0.61470586, 0.5754902 ],\n",
              "        ...,\n",
              "        [0.6625    , 0.70759803, 0.65563726],\n",
              "        [0.66764706, 0.70686275, 0.6696078 ],\n",
              "        [0.6617647 , 0.70098037, 0.6696078 ]]], dtype=float32)>"
            ]
          },
          "metadata": {},
          "execution_count": 22
        }
      ]
    },
    {
      "cell_type": "code",
      "source": [
        "# Values should be between 0 and 1 after scaling\n",
        "img.numpy().min(), img.numpy().max()"
      ],
      "metadata": {
        "colab": {
          "base_uri": "https://localhost:8080/"
        },
        "id": "avFhMuxt3K-P",
        "outputId": "22363be1-81f4-4c62-88b8-a5e4267a030c"
      },
      "execution_count": null,
      "outputs": [
        {
          "output_type": "execute_result",
          "data": {
            "text/plain": [
              "(0.0754902, 0.8688725)"
            ]
          },
          "metadata": {},
          "execution_count": 23
        }
      ]
    },
    {
      "cell_type": "code",
      "source": [
        "plt.imshow(img)"
      ],
      "metadata": {
        "colab": {
          "base_uri": "https://localhost:8080/",
          "height": 450
        },
        "id": "YmJQod_53Cc4",
        "outputId": "be55b1d4-5827-4964-e766-e569a353fc37"
      },
      "execution_count": null,
      "outputs": [
        {
          "output_type": "execute_result",
          "data": {
            "text/plain": [
              "<matplotlib.image.AxesImage at 0x7d95a1e92050>"
            ]
          },
          "metadata": {},
          "execution_count": 24
        },
        {
          "output_type": "display_data",
          "data": {
            "text/plain": [
              "<Figure size 640x480 with 1 Axes>"
            ],
            "image/png": "[encoded data removed]"
          },
          "metadata": {}
        }
      ]
    },
    {
      "cell_type": "markdown",
      "source": [
        "# 3.3 Create Labelled Dataset"
      ],
      "metadata": {
        "id": "htxZ5IMwztCT"
      }
    },
    {
      "cell_type": "code",
      "source": [
        "# (anchor, positive)  =>  1,1,1,1,1\n",
        "# (anchor, negative)  =>  0,0,0,0,0"
      ],
      "metadata": {
        "id": "uT_ROPKy4DNQ"
      },
      "execution_count": null,
      "outputs": []
    },
    {
      "cell_type": "code",
      "source": [
        "positives = tf.data.Dataset.zip((anchor, positive, tf.data.Dataset.from_tensor_slices(tf.ones(len(anchor)))))\n",
        "negatives = tf.data.Dataset.zip((anchor, negative, tf.data.Dataset.from_tensor_slices(tf.zeros(len(anchor)))))\n",
        "data = positives.concatenate(negatives)"
      ],
      "metadata": {
        "id": "GX0B4HoI4ifK"
      },
      "execution_count": null,
      "outputs": []
    },
    {
      "cell_type": "code",
      "source": [
        "samples = data.as_numpy_iterator()\n",
        "samples.next()"
      ],
      "metadata": {
        "colab": {
          "base_uri": "https://localhost:8080/"
        },
        "id": "iGTm-sqH44zO",
        "outputId": "9a6f2662-41ae-4897-e052-1871d3a15b38"
      },
      "execution_count": null,
      "outputs": [
        {
          "output_type": "execute_result",
          "data": {
            "text/plain": [
              "(b'data/anchor/27d2278d-5f14-11ef-a1e8-9828a6461770.jpg',\n",
              " b'data/positive/3cec0d90-5f14-11ef-bd95-9828a6461770.jpg',\n",
              " 1.0)"
            ]
          },
          "metadata": {},
          "execution_count": 27
        }
      ]
    },
    {
      "cell_type": "code",
      "source": [
        "example = samples.next()"
      ],
      "metadata": {
        "id": "BcywhQGz7VqX"
      },
      "execution_count": null,
      "outputs": []
    },
    {
      "cell_type": "markdown",
      "source": [
        "# 3.4 Build Train and Test Partition"
      ],
      "metadata": {
        "id": "zYQxWgkSzwKI"
      }
    },
    {
      "cell_type": "code",
      "source": [
        "def preprocess_twin(input_img, validation_img, label):\n",
        "  return(preprocess(input_img), preprocess(validation_img), label)"
      ],
      "metadata": {
        "id": "zZ_XtEzs6ED9"
      },
      "execution_count": null,
      "outputs": []
    },
    {
      "cell_type": "code",
      "source": [
        "res = preprocess_twin(*example)"
      ],
      "metadata": {
        "id": "G2WC4n-F8GqM"
      },
      "execution_count": null,
      "outputs": []
    },
    {
      "cell_type": "code",
      "source": [
        "res[0]"
      ],
      "metadata": {
        "colab": {
          "base_uri": "https://localhost:8080/"
        },
        "id": "Khi3viOF9Gqj",
        "outputId": "5a5db2df-47b3-4e96-be70-b75d4c6235cd"
      },
      "execution_count": null,
      "outputs": [
        {
          "output_type": "execute_result",
          "data": {
            "text/plain": [
              "<tf.Tensor: shape=(100, 100, 3), dtype=float32, numpy=\n",
              "array([[[0.58455884, 0.6512255 , 0.5884804 ],\n",
              "        [0.57867646, 0.64240193, 0.5806373 ],\n",
              "        [0.58431375, 0.6392157 , 0.5803922 ],\n",
              "        ...,\n",
              "        [0.73651963, 0.7992647 , 0.7561275 ],\n",
              "        [0.7732843 , 0.8419118 , 0.79583335],\n",
              "        [0.7764706 , 0.85490197, 0.8117647 ]],\n",
              "\n",
              "       [[0.5879902 , 0.65367645, 0.59387255],\n",
              "        [0.58210784, 0.64509803, 0.5860294 ],\n",
              "        [0.58431375, 0.6392157 , 0.58235294],\n",
              "        ...,\n",
              "        [0.7379902 , 0.8007353 , 0.7585784 ],\n",
              "        [0.75539213, 0.8240196 , 0.77818626],\n",
              "        [0.7776961 , 0.8541667 , 0.810049  ]],\n",
              "\n",
              "       [[0.589951  , 0.64681375, 0.59583336],\n",
              "        [0.5875    , 0.64387256, 0.59289217],\n",
              "        [0.59044117, 0.6453431 , 0.59436274],\n",
              "        ...,\n",
              "        [0.73137254, 0.7941176 , 0.75490195],\n",
              "        [0.7379902 , 0.80220586, 0.7593137 ],\n",
              "        [0.7639706 , 0.82867646, 0.78455883]],\n",
              "\n",
              "       ...,\n",
              "\n",
              "       [[0.59117645, 0.6166667 , 0.5686275 ],\n",
              "        [0.5830882 , 0.60857844, 0.5625    ],\n",
              "        [0.5745098 , 0.6       , 0.5539216 ],\n",
              "        ...,\n",
              "        [0.6627451 , 0.7019608 , 0.6666667 ],\n",
              "        [0.6617647 , 0.70098037, 0.6664216 ],\n",
              "        [0.65294117, 0.69803923, 0.6607843 ]],\n",
              "\n",
              "       [[0.57843137, 0.6186274 , 0.5647059 ],\n",
              "        [0.56666666, 0.60612744, 0.55490196],\n",
              "        [0.5590686 , 0.59632355, 0.5517157 ],\n",
              "        ...,\n",
              "        [0.652451  , 0.6960784 , 0.65857846],\n",
              "        [0.65588236, 0.69509804, 0.6627451 ],\n",
              "        [0.6490196 , 0.6882353 , 0.65686274]],\n",
              "\n",
              "       [[0.5686275 , 0.6156863 , 0.56078434],\n",
              "        [0.55588233, 0.60294116, 0.55      ],\n",
              "        [0.5539216 , 0.6009804 , 0.5539216 ],\n",
              "        ...,\n",
              "        [0.6526961 , 0.69779414, 0.65955883],\n",
              "        [0.6615196 , 0.7007353 , 0.66838235],\n",
              "        [0.6617647 , 0.68921566, 0.6617647 ]]], dtype=float32)>"
            ]
          },
          "metadata": {},
          "execution_count": 31
        }
      ]
    },
    {
      "cell_type": "code",
      "source": [
        "plt.subplot(121)\n",
        "plt.imshow(res[0])\n",
        "plt.title(\"Anchor Image\")\n",
        "plt.subplot(122)\n",
        "plt.imshow(res[1])\n",
        "plt.title('Positive Image' if res[2] == 1 else 'Negative Image')\n"
      ],
      "metadata": {
        "colab": {
          "base_uri": "https://localhost:8080/",
          "height": 325
        },
        "id": "c80LNx767YMy",
        "outputId": "a0b3fe2c-ba20-4dea-d56e-a6262a7f75d5"
      },
      "execution_count": null,
      "outputs": [
        {
          "output_type": "execute_result",
          "data": {
            "text/plain": [
              "Text(0.5, 1.0, 'Positive Image')"
            ]
          },
          "metadata": {},
          "execution_count": 32
        },
        {
          "output_type": "display_data",
          "data": {
            "text/plain": [
              "<Figure size 640x480 with 2 Axes>"
            ],
            "image/png": "[encoded data removed]"
          },
          "metadata": {}
        }
      ]
    },
    {
      "cell_type": "code",
      "source": [
        "# Build dataloader pipeline\n",
        "data = data.map(preprocess_twin)\n",
        "data = data.cache()\n",
        "data = data.shuffle(buffer_size=1024)"
      ],
      "metadata": {
        "id": "sXcmeMnc6XYK"
      },
      "execution_count": null,
      "outputs": []
    },
    {
      "cell_type": "code",
      "source": [
        "samples = data.as_numpy_iterator()\n",
        "samples.next()"
      ],
      "metadata": {
        "colab": {
          "base_uri": "https://localhost:8080/"
        },
        "id": "R8qoepjS8x-j",
        "outputId": "f3611b40-d60a-4bd7-d617-9577b5152495"
      },
      "execution_count": null,
      "outputs": [
        {
          "output_type": "execute_result",
          "data": {
            "text/plain": [
              "(array([[[0.54019606, 0.5990196 , 0.5715686 ],\n",
              "         [0.5272059 , 0.5870098 , 0.5566176 ],\n",
              "         [0.53161764, 0.59436274, 0.55514705],\n",
              "         ...,\n",
              "         [0.6848039 , 0.74558824, 0.71911764],\n",
              "         [0.70465684, 0.7772059 , 0.7536765 ],\n",
              "         [0.7110294 , 0.79338235, 0.76593137]],\n",
              " \n",
              "        [[0.54607844, 0.60588235, 0.5754902 ],\n",
              "         [0.532598  , 0.5953431 , 0.5561274 ],\n",
              "         [0.52254903, 0.5852941 , 0.54313725],\n",
              "         ...,\n",
              "         [0.6791667 , 0.74289215, 0.7056373 ],\n",
              "         [0.6877451 , 0.7588235 , 0.73333335],\n",
              "         [0.70686275, 0.78137255, 0.75784314]],\n",
              " \n",
              "        [[0.5468137 , 0.6095588 , 0.57034314],\n",
              "         [0.54019606, 0.60294116, 0.5629902 ],\n",
              "         [0.5257353 , 0.5884804 , 0.54558825],\n",
              "         ...,\n",
              "         [0.66887254, 0.73259807, 0.6938726 ],\n",
              "         [0.6767157 , 0.74338233, 0.7120098 ],\n",
              "         [0.7026961 , 0.7713235 , 0.7477941 ]],\n",
              " \n",
              "        ...,\n",
              " \n",
              "        [[0.5644608 , 0.589951  , 0.5497549 ],\n",
              "         [0.5411765 , 0.56666666, 0.5245098 ],\n",
              "         [0.52818626, 0.5536765 , 0.5056372 ],\n",
              "         ...,\n",
              "         [0.6102941 , 0.6629902 , 0.6186274 ],\n",
              "         [0.6036765 , 0.65710783, 0.6068627 ],\n",
              "         [0.60294116, 0.65588236, 0.60588235]],\n",
              " \n",
              "        [[0.5632353 , 0.59460783, 0.5514706 ],\n",
              "         [0.53039217, 0.5617647 , 0.51666665],\n",
              "         [0.5301471 , 0.5615196 , 0.51053923],\n",
              "         ...,\n",
              "         [0.60490197, 0.65392154, 0.60588235],\n",
              "         [0.6093137 , 0.65686274, 0.6095588 ],\n",
              "         [0.59436274, 0.64142156, 0.59436274]],\n",
              " \n",
              "        [[0.55      , 0.58137256, 0.5382353 ],\n",
              "         [0.52843136, 0.5598039 , 0.5147059 ],\n",
              "         [0.5232843 , 0.55465686, 0.5036765 ],\n",
              "         ...,\n",
              "         [0.6117647 , 0.654902  , 0.6       ],\n",
              "         [0.6071078 , 0.6502451 , 0.5953431 ],\n",
              "         [0.5919118 , 0.63504905, 0.5801471 ]]], dtype=float32),\n",
              " array([[[5.88235306e-03, 2.94117653e-03, 0.00000000e+00],\n",
              "         [5.88235306e-03, 2.94117653e-03, 7.35294132e-04],\n",
              "         [4.41176491e-03, 2.94117653e-03, 2.94117653e-03],\n",
              "         ...,\n",
              "         [9.80392192e-03, 8.82352982e-03, 2.94117653e-03],\n",
              "         [8.57843179e-03, 8.33333377e-03, 2.20588245e-03],\n",
              "         [8.08823574e-03, 1.05392160e-02, 2.20588245e-03]],\n",
              " \n",
              "        [[2.35294119e-01, 2.55882353e-01, 2.39215687e-01],\n",
              "         [2.34068632e-01, 2.57107854e-01, 2.39215687e-01],\n",
              "         [2.31372550e-01, 2.60784328e-01, 2.40686268e-01],\n",
              "         ...,\n",
              "         [2.12009802e-01, 2.36029416e-01, 2.37990201e-01],\n",
              "         [2.20588237e-01, 2.38725483e-01, 2.40686268e-01],\n",
              "         [2.19607845e-01, 2.35784307e-01, 2.35539213e-01]],\n",
              " \n",
              "        [[9.82107818e-01, 9.50980365e-01, 9.59803939e-01],\n",
              "         [9.66911793e-01, 9.58823502e-01, 9.61764693e-01],\n",
              "         [9.47549045e-01, 9.67892170e-01, 9.67647076e-01],\n",
              "         ...,\n",
              "         [8.26715708e-01, 8.76225471e-01, 8.87745082e-01],\n",
              "         [8.22303951e-01, 8.66911769e-01, 8.79901946e-01],\n",
              "         [8.34803939e-01, 8.76960814e-01, 8.88970613e-01]],\n",
              " \n",
              "        ...,\n",
              " \n",
              "        [[2.21813723e-01, 1.60049021e-01, 6.39705881e-02],\n",
              "         [1.81372553e-01, 1.19607843e-01, 2.35294122e-02],\n",
              "         [2.12254897e-01, 1.59313723e-01, 5.93137257e-02],\n",
              "         ...,\n",
              "         [4.96568620e-01, 4.41176491e-03, 4.65686293e-03],\n",
              "         [5.44852912e-01, 1.47058826e-03, 7.35294132e-04],\n",
              "         [5.81127465e-01, 1.10294120e-02, 1.05392160e-02]],\n",
              " \n",
              "        [[2.60294110e-01, 2.13970587e-01, 1.40931368e-01],\n",
              "         [1.59803927e-01, 1.15686275e-01, 3.52941193e-02],\n",
              "         [1.88235298e-01, 1.44117653e-01, 5.58823533e-02],\n",
              "         ...,\n",
              "         [5.33333361e-01, 2.62254905e-02, 2.23039221e-02],\n",
              "         [5.86764693e-01, 2.00980399e-02, 1.83823537e-02],\n",
              "         [6.11274481e-01, 1.07843140e-02, 8.33333377e-03]],\n",
              " \n",
              "        [[3.07352930e-01, 2.68137246e-01, 2.23039210e-01],\n",
              "         [2.73039222e-01, 2.38480389e-01, 1.76225483e-01],\n",
              "         [2.05882356e-01, 1.74509808e-01, 8.77451003e-02],\n",
              "         ...,\n",
              "         [5.40196061e-01, 2.32843142e-02, 1.32352943e-02],\n",
              "         [5.95588207e-01, 1.20098041e-02, 7.35294120e-03],\n",
              "         [6.27696097e-01, 7.84313772e-03, 2.20588245e-03]]], dtype=float32),\n",
              " 0.0)"
            ]
          },
          "metadata": {},
          "execution_count": 34
        }
      ]
    },
    {
      "cell_type": "code",
      "source": [
        "samp = samples.next()"
      ],
      "metadata": {
        "id": "resp6ed69BFs"
      },
      "execution_count": null,
      "outputs": []
    },
    {
      "cell_type": "code",
      "source": [
        "len(samp)"
      ],
      "metadata": {
        "colab": {
          "base_uri": "https://localhost:8080/"
        },
        "id": "phm8OfQ282Dp",
        "outputId": "5fe0734e-740a-4660-f614-15b55a04c2e9"
      },
      "execution_count": null,
      "outputs": [
        {
          "output_type": "execute_result",
          "data": {
            "text/plain": [
              "3"
            ]
          },
          "metadata": {},
          "execution_count": 45
        }
      ]
    },
    {
      "cell_type": "code",
      "source": [
        "plt.subplot(121)\n",
        "plt.imshow(samp[0])\n",
        "plt.title(\"Anchor Image\")\n",
        "plt.subplot(122)\n",
        "plt.imshow(samp[1])\n",
        "plt.title('Positive Image' if samp[2] == 1 else 'Negative Image');"
      ],
      "metadata": {
        "colab": {
          "base_uri": "https://localhost:8080/",
          "height": 308
        },
        "id": "nvE8UdXu9bjp",
        "outputId": "fa6865a1-3c98-4b58-bfae-69eb04ca78cc"
      },
      "execution_count": null,
      "outputs": [
        {
          "output_type": "display_data",
          "data": {
            "text/plain": [
              "<Figure size 640x480 with 2 Axes>"
            ],
            "image/png": "[encoded data removed]"
          },
          "metadata": {}
        }
      ]
    },
    {
      "cell_type": "code",
      "source": [
        "# Training partition\n",
        "train_data = data.take(round(len(data)*0.7))\n",
        "train_data = train_data.batch(16)\n",
        "train_data = train_data.prefetch(8)"
      ],
      "metadata": {
        "id": "VULHVKpS9mjX"
      },
      "execution_count": null,
      "outputs": []
    },
    {
      "cell_type": "code",
      "source": [
        "train_samples = train_data.as_numpy_iterator()"
      ],
      "metadata": {
        "id": "6o9a9Hxb-k29"
      },
      "execution_count": null,
      "outputs": []
    },
    {
      "cell_type": "code",
      "source": [
        "train_sample = train_samples.next()"
      ],
      "metadata": {
        "id": "SMNemm8P-3_q"
      },
      "execution_count": null,
      "outputs": []
    },
    {
      "cell_type": "code",
      "source": [
        "len(train_sample)"
      ],
      "metadata": {
        "colab": {
          "base_uri": "https://localhost:8080/"
        },
        "id": "nf_FDOSf-8F5",
        "outputId": "bc0de8f8-0478-44b4-b93b-63eeb3ef5d85"
      },
      "execution_count": null,
      "outputs": [
        {
          "output_type": "execute_result",
          "data": {
            "text/plain": [
              "3"
            ]
          },
          "metadata": {},
          "execution_count": 39
        }
      ]
    },
    {
      "cell_type": "code",
      "source": [
        "print(f'Length of each batch: {len(train_sample[0])}')"
      ],
      "metadata": {
        "colab": {
          "base_uri": "https://localhost:8080/"
        },
        "id": "g37zkiEp-9V1",
        "outputId": "7030c985-6ed5-4119-a4df-2ad6a6a91536"
      },
      "execution_count": null,
      "outputs": [
        {
          "output_type": "stream",
          "name": "stdout",
          "text": [
            "Length of each batch: 16\n"
          ]
        }
      ]
    },
    {
      "cell_type": "code",
      "source": [
        "# Testing partition\n",
        "test_data = data.skip(round(len(data) * 0.7))\n",
        "test_data = test_data.take(round(len(data) * 0.3))\n",
        "test_data = test_data.batch(16)\n",
        "test_data = test_data.prefetch(8)"
      ],
      "metadata": {
        "id": "_sBQ8R5h_AiZ"
      },
      "execution_count": null,
      "outputs": []
    },
    {
      "cell_type": "markdown",
      "source": [
        "# 4. Model Engineering"
      ],
      "metadata": {
        "id": "4VPESN68_qv6"
      }
    },
    {
      "cell_type": "markdown",
      "source": [
        "# 4.1 Build Embedding Layer"
      ],
      "metadata": {
        "id": "xb2j3iXYU_T0"
      }
    },
    {
      "cell_type": "code",
      "source": [
        "def make_embedding():\n",
        "  inp = Input(shape=(100, 100, 3), name='input_image')\n",
        "\n",
        "  # First Block\n",
        "  c1 = Conv2D(filters=64, kernel_size=(10, 10), activation='relu', kernel_initializer='he_normal')(inp)\n",
        "  m1 = MaxPooling2D(pool_size=(2, 2), padding='same')(c1)\n",
        "\n",
        "  # Second Block\n",
        "  c2 = Conv2D(filters=128, kernel_size=(7, 7), activation='relu', kernel_initializer='he_normal')(m1)\n",
        "  m2 = MaxPooling2D(pool_size=(2, 2), padding='same')(c2)\n",
        "\n",
        "  # Third Block\n",
        "  c3 = Conv2D(filters=128, kernel_size=(4, 4), activation='relu', kernel_initializer='he_normal')(m2)\n",
        "  m3 = MaxPooling2D(pool_size=(2, 2), padding='same')(c3)\n",
        "\n",
        "  # Final Ebedding Block\n",
        "  c4 = Conv2D(filters=256, kernel_size=(4, 4), activation='relu', kernel_initializer='he_normal')(m3)\n",
        "  f1 = Flatten()(c4)\n",
        "  d1 = Dense(4096, activation='sigmoid')(f1)\n",
        "\n",
        "  return Model(inputs=[inp], outputs=[d1], name='embedding')"
      ],
      "metadata": {
        "id": "BeTbN-40V9As"
      },
      "execution_count": null,
      "outputs": []
    },
    {
      "cell_type": "code",
      "source": [
        "embedding = make_embedding()"
      ],
      "metadata": {
        "id": "9Q3Q0OQxZ5yh"
      },
      "execution_count": null,
      "outputs": []
    },
    {
      "cell_type": "code",
      "source": [
        "embedding.summary()"
      ],
      "metadata": {
        "colab": {
          "base_uri": "https://localhost:8080/"
        },
        "id": "X-hkvHfPaLSx",
        "outputId": "9ab6f48d-4424-4a94-fa58-174e6e22d855"
      },
      "execution_count": null,
      "outputs": [
        {
          "output_type": "stream",
          "name": "stdout",
          "text": [
            "Model: \"embedding\"\n",
            "_________________________________________________________________\n",
            " Layer (type)                Output Shape              Param #   \n",
            "=================================================================\n",
            " input_image (InputLayer)    [(None, 100, 100, 3)]     0         \n",
            "                                                                 \n",
            " conv2d (Conv2D)             (None, 91, 91, 64)        19264     \n",
            "                                                                 \n",
            " max_pooling2d (MaxPooling2D  (None, 46, 46, 64)       0         \n",
            " )                                                               \n",
            "                                                                 \n",
            " conv2d_1 (Conv2D)           (None, 40, 40, 128)       401536    \n",
            "                                                                 \n",
            " max_pooling2d_1 (MaxPooling  (None, 20, 20, 128)      0         \n",
            " 2D)                                                             \n",
            "                                                                 \n",
            " conv2d_2 (Conv2D)           (None, 17, 17, 128)       262272    \n",
            "                                                                 \n",
            " max_pooling2d_2 (MaxPooling  (None, 9, 9, 128)        0         \n",
            " 2D)                                                             \n",
            "                                                                 \n",
            " conv2d_3 (Conv2D)           (None, 6, 6, 256)         524544    \n",
            "                                                                 \n",
            " flatten (Flatten)           (None, 9216)              0         \n",
            "                                                                 \n",
            " dense (Dense)               (None, 4096)              37752832  \n",
            "                                                                 \n",
            "=================================================================\n",
            "Total params: 38,960,448\n",
            "Trainable params: 38,960,448\n",
            "Non-trainable params: 0\n",
            "_________________________________________________________________\n"
          ]
        }
      ]
    },
    {
      "cell_type": "markdown",
      "source": [
        "# 4.2 Build Distance Layer"
      ],
      "metadata": {
        "id": "9XG5W0qvVXZj"
      }
    },
    {
      "cell_type": "code",
      "source": [
        "# Siames L1 Distance class\n",
        "class L1Dist(Layer):\n",
        "\n",
        "  # Init method - inheritance\n",
        "  def __init__(self, **kwargs):\n",
        "    super().__init__()\n",
        "\n",
        "  # Process happens here - similarity calculation\n",
        "  def call(self, input_embedding, validation_embedding):\n",
        "    return tf.math.abs(input_embedding - validation_embedding)"
      ],
      "metadata": {
        "id": "Ekf65jMjabHr"
      },
      "execution_count": null,
      "outputs": []
    },
    {
      "cell_type": "code",
      "source": [
        "l1 = L1Dist()"
      ],
      "metadata": {
        "id": "znLOs25rbfxW"
      },
      "execution_count": null,
      "outputs": []
    },
    {
      "cell_type": "markdown",
      "source": [
        "# 4.3 Make Siamese Model"
      ],
      "metadata": {
        "id": "MsYb5Hu7VZrb"
      }
    },
    {
      "cell_type": "code",
      "source": [
        "def make_siamese_model():\n",
        "\n",
        "  # Anchor image input in the network\n",
        "  input_image = Input(name='input_img', shape=(100, 100, 3))\n",
        "\n",
        "  # Validation image inn the network\n",
        "  validation_image = Input(name='validation_img', shape=(100, 100, 3))\n",
        "\n",
        "  # Combine siamese distance components\n",
        "  siamese_layer = L1Dist()\n",
        "  siamese_layer._name = 'distance'\n",
        "  distances = siamese_layer(embedding(input_image), embedding(validation_image))\n",
        "\n",
        "  # Classification Layer\n",
        "  classifier = Dense(1, activation='sigmoid')(distances)\n",
        "\n",
        "  return Model(inputs=[input_image, validation_image], outputs=[classifier], name='SiameseNetwork')"
      ],
      "metadata": {
        "id": "rcb_vzdxcBDP"
      },
      "execution_count": null,
      "outputs": []
    },
    {
      "cell_type": "code",
      "source": [
        "siamese_model = make_siamese_model()"
      ],
      "metadata": {
        "id": "3DfkiqzReBsA"
      },
      "execution_count": null,
      "outputs": []
    },
    {
      "cell_type": "code",
      "source": [
        "siamese_model.summary()"
      ],
      "metadata": {
        "colab": {
          "base_uri": "https://localhost:8080/"
        },
        "id": "khvS4BnVeniz",
        "outputId": "73c2f511-ab79-4695-b905-a76e848208e7"
      },
      "execution_count": null,
      "outputs": [
        {
          "output_type": "stream",
          "name": "stdout",
          "text": [
            "Model: \"SiameseNetwork\"\n",
            "__________________________________________________________________________________________________\n",
            " Layer (type)                   Output Shape         Param #     Connected to                     \n",
            "==================================================================================================\n",
            " input_img (InputLayer)         [(None, 100, 100, 3  0           []                               \n",
            "                                )]                                                                \n",
            "                                                                                                  \n",
            " validation_img (InputLayer)    [(None, 100, 100, 3  0           []                               \n",
            "                                )]                                                                \n",
            "                                                                                                  \n",
            " embedding (Functional)         (None, 4096)         38960448    ['input_img[0][0]',              \n",
            "                                                                  'validation_img[0][0]']         \n",
            "                                                                                                  \n",
            " distance (L1Dist)              (None, 4096)         0           ['embedding[0][0]',              \n",
            "                                                                  'embedding[1][0]']              \n",
            "                                                                                                  \n",
            " dense_1 (Dense)                (None, 1)            4097        ['distance[0][0]']               \n",
            "                                                                                                  \n",
            "==================================================================================================\n",
            "Total params: 38,964,545\n",
            "Trainable params: 38,964,545\n",
            "Non-trainable params: 0\n",
            "__________________________________________________________________________________________________\n"
          ]
        }
      ]
    },
    {
      "cell_type": "markdown",
      "source": [
        "# 5. Training"
      ],
      "metadata": {
        "id": "dt71tvZfeuGZ"
      }
    },
    {
      "cell_type": "markdown",
      "source": [
        "# 5.1 Setup Loss and Optimizer"
      ],
      "metadata": {
        "id": "fGzQCJ7Ee58d"
      }
    },
    {
      "cell_type": "code",
      "source": [
        "binary_crossentropy = tf.losses.BinaryCrossentropy()"
      ],
      "metadata": {
        "id": "dfHTd0CDfsAN"
      },
      "execution_count": null,
      "outputs": []
    },
    {
      "cell_type": "code",
      "source": [
        "optimizer = tf.keras.optimizers.Adam(learning_rate=1e-4)"
      ],
      "metadata": {
        "id": "Dk8OgJaxgI39"
      },
      "execution_count": null,
      "outputs": []
    },
    {
      "cell_type": "markdown",
      "source": [
        "# 5.2 Establish Checkpoints"
      ],
      "metadata": {
        "id": "m_PBK-MUe7cP"
      }
    },
    {
      "cell_type": "code",
      "source": [
        "os.makedirs('/content/training_checkpoints')"
      ],
      "metadata": {
        "id": "g6LrFeSvgtQm"
      },
      "execution_count": null,
      "outputs": []
    },
    {
      "cell_type": "code",
      "source": [
        "checkpoint_dir = './training_checkpoints'\n",
        "checkpoint_prefix = os.path.join(checkpoint_dir, 'ckpt')\n",
        "checkpoint = tf.train.Checkpoint(optimizer=optimizer, siamese_model = siamese_model)"
      ],
      "metadata": {
        "id": "f2MBFQ_DgaIa"
      },
      "execution_count": null,
      "outputs": []
    },
    {
      "cell_type": "markdown",
      "source": [
        "# 5.3 Build Train Step Function"
      ],
      "metadata": {
        "id": "gl9U8r5we8u2"
      }
    },
    {
      "cell_type": "code",
      "source": [
        "@tf.function\n",
        "def train_step(batch):\n",
        "\n",
        "  # Record all of our operations\n",
        "  with tf.GradientTape() as tape:\n",
        "\n",
        "    # Get anchor and positive/negative image\n",
        "    X = batch[:2]\n",
        "    # Get label\n",
        "    y = batch[2]\n",
        "\n",
        "    # Forward pass\n",
        "    yhat = siamese_model(X, training=True)\n",
        "    # Calculate loss\n",
        "    loss = binary_crossentropy(y, yhat)\n",
        "  print(loss)\n",
        "\n",
        "  # Calculate Gradients\n",
        "  grad = tape.gradient(loss, siamese_model.trainable_variables)\n",
        "\n",
        "  # Calculate updated weights and apply to siamese model\n",
        "  optimizer.apply_gradients(zip(grad, siamese_model.trainable_variables))\n",
        "\n",
        "  return loss"
      ],
      "metadata": {
        "id": "aSLUuRwqhKn7"
      },
      "execution_count": null,
      "outputs": []
    },
    {
      "cell_type": "markdown",
      "source": [
        "# 5.4 Build Train Loop"
      ],
      "metadata": {
        "id": "kUbeSKqafDn2"
      }
    },
    {
      "cell_type": "code",
      "source": [
        "def train(data, EPOCHS):\n",
        "  # Loop through epochs\n",
        "  for epoch in range(1, EPOCHS+1):\n",
        "    print('\\n Epoch {}/{}'.format(epoch, EPOCHS))\n",
        "    progbar = tf.keras.utils.Progbar(len(data))\n",
        "\n",
        "    # Loop through each batch\n",
        "    for idx, batch in enumerate(data):\n",
        "      # Run train step here\n",
        "      train_step(batch)\n",
        "      progbar.update(idx+1)\n",
        "\n",
        "    # Save checkpoints\n",
        "    if epoch % 10 == 0 :\n",
        "      checkpoint.save(file_prefix=checkpoint_prefix)"
      ],
      "metadata": {
        "id": "x3Z_Oo_dkZ58"
      },
      "execution_count": null,
      "outputs": []
    },
    {
      "cell_type": "markdown",
      "source": [
        "# 5.5 Train the model"
      ],
      "metadata": {
        "id": "vuiHLTfpfEr2"
      }
    },
    {
      "cell_type": "code",
      "source": [
        "EPOCHS = 50"
      ],
      "metadata": {
        "id": "aZVz97T5lVdT"
      },
      "execution_count": null,
      "outputs": []
    },
    {
      "cell_type": "code",
      "source": [
        "train(train_data, EPOCHS)"
      ],
      "metadata": {
        "colab": {
          "base_uri": "https://localhost:8080/"
        },
        "id": "8r1y43gNlZwV",
        "outputId": "cfd3c945-2b06-4b39-c90c-51e57e4909b5"
      },
      "execution_count": null,
      "outputs": [
        {
          "output_type": "stream",
          "name": "stdout",
          "text": [
            "\n",
            " Epoch 1/50\n",
            "27/27 [==============================] - 110s 4s/step\n",
            "\n",
            " Epoch 2/50\n",
            "27/27 [==============================] - 123s 4s/step\n",
            "\n",
            " Epoch 3/50\n",
            "27/27 [==============================] - 112s 4s/step\n",
            "\n",
            " Epoch 4/50\n",
            "27/27 [==============================] - 113s 4s/step\n",
            "\n",
            " Epoch 5/50\n",
            "27/27 [==============================] - 110s 4s/step\n",
            "\n",
            " Epoch 6/50\n",
            "27/27 [==============================] - 107s 4s/step\n",
            "\n",
            " Epoch 7/50\n",
            "27/27 [==============================] - 107s 4s/step\n",
            "\n",
            " Epoch 8/50\n",
            "27/27 [==============================] - 107s 4s/step\n",
            "\n",
            " Epoch 9/50\n",
            "27/27 [==============================] - 108s 4s/step\n",
            "\n",
            " Epoch 10/50\n",
            "27/27 [==============================] - 107s 4s/step\n",
            "\n",
            " Epoch 11/50\n",
            "27/27 [==============================] - 106s 4s/step\n",
            "\n",
            " Epoch 12/50\n",
            "27/27 [==============================] - 107s 4s/step\n",
            "\n",
            " Epoch 13/50\n",
            "27/27 [==============================] - 108s 4s/step\n",
            "\n",
            " Epoch 14/50\n",
            "27/27 [==============================] - 116s 4s/step\n",
            "\n",
            " Epoch 15/50\n",
            "27/27 [==============================] - 132s 5s/step\n",
            "\n",
            " Epoch 16/50\n",
            "27/27 [==============================] - 108s 4s/step\n",
            "\n",
            " Epoch 17/50\n",
            "27/27 [==============================] - 109s 4s/step\n",
            "\n",
            " Epoch 18/50\n",
            "27/27 [==============================] - 107s 4s/step\n",
            "\n",
            " Epoch 19/50\n",
            "27/27 [==============================] - 107s 4s/step\n",
            "\n",
            " Epoch 20/50\n",
            "27/27 [==============================] - 108s 4s/step\n",
            "\n",
            " Epoch 21/50\n",
            "27/27 [==============================] - 106s 4s/step\n",
            "\n",
            " Epoch 22/50\n",
            "27/27 [==============================] - 106s 4s/step\n",
            "\n",
            " Epoch 23/50\n",
            "27/27 [==============================] - 108s 4s/step\n",
            "\n",
            " Epoch 24/50\n",
            "27/27 [==============================] - 108s 4s/step\n",
            "\n",
            " Epoch 25/50\n",
            "27/27 [==============================] - 107s 4s/step\n",
            "\n",
            " Epoch 26/50\n",
            "27/27 [==============================] - 107s 4s/step\n",
            "\n",
            " Epoch 27/50\n",
            "27/27 [==============================] - 107s 4s/step\n",
            "\n",
            " Epoch 28/50\n",
            "27/27 [==============================] - 106s 4s/step\n",
            "\n",
            " Epoch 29/50\n",
            "27/27 [==============================] - 106s 4s/step\n",
            "\n",
            " Epoch 30/50\n",
            "27/27 [==============================] - 106s 4s/step\n",
            "\n",
            " Epoch 31/50\n",
            "27/27 [==============================] - 106s 4s/step\n",
            "\n",
            " Epoch 32/50\n",
            "27/27 [==============================] - 105s 4s/step\n",
            "\n",
            " Epoch 33/50\n",
            "27/27 [==============================] - 107s 4s/step\n",
            "\n",
            " Epoch 34/50\n",
            "27/27 [==============================] - 105s 4s/step\n",
            "\n",
            " Epoch 35/50\n",
            "27/27 [==============================] - 105s 4s/step\n",
            "\n",
            " Epoch 36/50\n",
            "27/27 [==============================] - 105s 4s/step\n",
            "\n",
            " Epoch 37/50\n",
            "27/27 [==============================] - 105s 4s/step\n",
            "\n",
            " Epoch 38/50\n",
            "27/27 [==============================] - 105s 4s/step\n",
            "\n",
            " Epoch 39/50\n",
            "27/27 [==============================] - 108s 4s/step\n",
            "\n",
            " Epoch 40/50\n",
            "27/27 [==============================] - 105s 4s/step\n",
            "\n",
            " Epoch 41/50\n",
            "27/27 [==============================] - 106s 4s/step\n",
            "\n",
            " Epoch 42/50\n",
            "27/27 [==============================] - 108s 4s/step\n",
            "\n",
            " Epoch 43/50\n",
            "27/27 [==============================] - 107s 4s/step\n",
            "\n",
            " Epoch 44/50\n",
            "27/27 [==============================] - 108s 4s/step\n",
            "\n",
            " Epoch 45/50\n",
            "27/27 [==============================] - 107s 4s/step\n",
            "\n",
            " Epoch 46/50\n",
            "27/27 [==============================] - 106s 4s/step\n",
            "\n",
            " Epoch 47/50\n",
            "27/27 [==============================] - 106s 4s/step\n",
            "\n",
            " Epoch 48/50\n",
            "27/27 [==============================] - 106s 4s/step\n",
            "\n",
            " Epoch 49/50\n",
            "27/27 [==============================] - 106s 4s/step\n",
            "\n",
            " Epoch 50/50\n",
            "27/27 [==============================] - 106s 4s/step\n"
          ]
        }
      ]
    },
    {
      "cell_type": "markdown",
      "source": [
        "# 6. Evaluate Model"
      ],
      "metadata": {
        "id": "O5R7rtMLfcHi"
      }
    },
    {
      "cell_type": "markdown",
      "source": [
        "# 6.1 Import Metrics"
      ],
      "metadata": {
        "id": "PYFWffdLmoYs"
      }
    },
    {
      "cell_type": "code",
      "source": [
        "# IMport metric calculations\n",
        "from tensorflow.keras.metrics import Recall, Precision"
      ],
      "metadata": {
        "id": "5nns_Na3nCJ7"
      },
      "execution_count": null,
      "outputs": []
    },
    {
      "cell_type": "markdown",
      "source": [
        "# 6.2 Make Predictions"
      ],
      "metadata": {
        "id": "xulqr8Edp9cf"
      }
    },
    {
      "cell_type": "code",
      "source": [
        "# Get a batch of test data\n",
        "test_input, test_val, y_true = test_data.as_numpy_iterator().next()"
      ],
      "metadata": {
        "id": "6Ch5Z2kQnZTX"
      },
      "execution_count": null,
      "outputs": []
    },
    {
      "cell_type": "code",
      "source": [
        "# Make predictions\n",
        "y_hat = siamese_model.predict([test_input, test_val])\n",
        "y_hat"
      ],
      "metadata": {
        "colab": {
          "base_uri": "https://localhost:8080/"
        },
        "id": "d2w0I-_rnZPV",
        "outputId": "d040773d-e1c5-4197-cb27-6c7fdf41d5c9"
      },
      "execution_count": null,
      "outputs": [
        {
          "output_type": "execute_result",
          "data": {
            "text/plain": [
              "array([[3.3380758e-08],\n",
              "       [4.8123657e-06],\n",
              "       [2.0364928e-08],\n",
              "       [9.9999082e-01],\n",
              "       [5.8195115e-09],\n",
              "       [9.9982250e-01],\n",
              "       [9.9999249e-01],\n",
              "       [9.9998844e-01],\n",
              "       [1.0000000e+00],\n",
              "       [3.8912749e-06],\n",
              "       [9.9999630e-01],\n",
              "       [7.8019822e-09],\n",
              "       [9.9999070e-01],\n",
              "       [1.7739539e-09],\n",
              "       [1.0000000e+00],\n",
              "       [3.1575826e-08]], dtype=float32)"
            ]
          },
          "metadata": {},
          "execution_count": 63
        }
      ]
    },
    {
      "cell_type": "code",
      "source": [
        "# Post-precoessing the results\n",
        "[1 if prediction > 0.5 else 0 for prediction in y_hat]"
      ],
      "metadata": {
        "colab": {
          "base_uri": "https://localhost:8080/"
        },
        "id": "UmZOEwRanZNg",
        "outputId": "fc03db0e-a426-4a85-d1ae-3a33936e6f6b"
      },
      "execution_count": null,
      "outputs": [
        {
          "output_type": "execute_result",
          "data": {
            "text/plain": [
              "[0, 0, 0, 1, 0, 1, 1, 1, 1, 0, 1, 0, 1, 0, 1, 0]"
            ]
          },
          "metadata": {},
          "execution_count": 64
        }
      ]
    },
    {
      "cell_type": "markdown",
      "source": [
        "# 6.3 Calculate Metrics"
      ],
      "metadata": {
        "id": "hwb-7Av2qCB3"
      }
    },
    {
      "cell_type": "code",
      "source": [
        "# Creating a metric object\n",
        "m = Recall()\n",
        "\n",
        "# Calculating the recall value\n",
        "m.update_state(y_true, y_hat)\n",
        "\n",
        "# Accessing recall results\n",
        "m.result().numpy()"
      ],
      "metadata": {
        "colab": {
          "base_uri": "https://localhost:8080/"
        },
        "id": "4DXT3IC4nZLJ",
        "outputId": "bceda478-bbec-4047-d545-15fa9c8a3296"
      },
      "execution_count": null,
      "outputs": [
        {
          "output_type": "execute_result",
          "data": {
            "text/plain": [
              "1.0"
            ]
          },
          "metadata": {},
          "execution_count": 66
        }
      ]
    },
    {
      "cell_type": "code",
      "source": [
        "# Creating a metric object\n",
        "m = Precision()\n",
        "\n",
        "# Calculating the recall value\n",
        "m.update_state(y_true, y_hat)\n",
        "\n",
        "# Accessing recall results\n",
        "m.result().numpy()"
      ],
      "metadata": {
        "colab": {
          "base_uri": "https://localhost:8080/"
        },
        "id": "aGEf0D7inZAs",
        "outputId": "9d605bbd-051f-401b-e663-b3ff707a3cdc"
      },
      "execution_count": null,
      "outputs": [
        {
          "output_type": "execute_result",
          "data": {
            "text/plain": [
              "1.0"
            ]
          },
          "metadata": {},
          "execution_count": 67
        }
      ]
    },
    {
      "cell_type": "markdown",
      "source": [
        "# 6.4 Visualize Results"
      ],
      "metadata": {
        "id": "Lrcfjw3bqHyV"
      }
    },
    {
      "cell_type": "code",
      "source": [
        "plt.figure(figsize=(18, 8))\n",
        "plt.subplot(121)\n",
        "plt.imshow(test_input[0])\n",
        "plt.subplot(122)\n",
        "plt.imshow(test_val[0])\n",
        "plt.show()\n"
      ],
      "metadata": {
        "colab": {
          "base_uri": "https://localhost:8080/",
          "height": 405
        },
        "id": "qVvUn4WbqQkA",
        "outputId": "12feec62-f1d4-405d-f508-9e9b1c76afa3"
      },
      "execution_count": null,
      "outputs": [
        {
          "output_type": "display_data",
          "data": {
            "text/plain": [
              "<Figure size 1800x800 with 2 Axes>"
            ],
            "image/png": "[encoded data removed]"
          },
          "metadata": {}
        }
      ]
    },
    {
      "cell_type": "markdown",
      "source": [
        "# 7. Save Model"
      ],
      "metadata": {
        "id": "sT7_U99Iq2Fz"
      }
    },
    {
      "cell_type": "code",
      "source": [
        "# Save weights\n",
        "siamese_model.save('siamesemodel.h5')"
      ],
      "metadata": {
        "colab": {
          "base_uri": "https://localhost:8080/"
        },
        "id": "NZEK8HMVrgze",
        "outputId": "3dc8b3f3-5e44-4791-d241-450e018b9d97"
      },
      "execution_count": null,
      "outputs": [
        {
          "output_type": "stream",
          "name": "stderr",
          "text": [
            "WARNING:tensorflow:Compiled the loaded model, but the compiled metrics have yet to be built. `model.compile_metrics` will be empty until you train or evaluate the model.\n"
          ]
        }
      ]
    },
    {
      "cell_type": "code",
      "source": [
        "# Reload model\n",
        "model = tf.keras.models.load_model('siamesemodel.h5',\n",
        "                                   custom_objects={'L1Dist':L1Dist, 'BinaryCrossentropy': tf.losses.BinaryCrossentropy})"
      ],
      "metadata": {
        "colab": {
          "base_uri": "https://localhost:8080/"
        },
        "id": "3FWvEdqKrse9",
        "outputId": "f910ddb3-b987-4652-be6d-9595d31f71d5"
      },
      "execution_count": null,
      "outputs": [
        {
          "output_type": "stream",
          "name": "stderr",
          "text": [
            "WARNING:tensorflow:No training configuration found in the save file, so the model was *not* compiled. Compile it manually.\n"
          ]
        }
      ]
    },
    {
      "cell_type": "code",
      "source": [
        "# Make predictions with reloaded model\n",
        "model.predict([test_input, test_val])"
      ],
      "metadata": {
        "colab": {
          "base_uri": "https://localhost:8080/"
        },
        "id": "UGnsgCQosgGz",
        "outputId": "7714af5d-e93f-412a-95e4-7d0499299768"
      },
      "execution_count": null,
      "outputs": [
        {
          "output_type": "execute_result",
          "data": {
            "text/plain": [
              "array([[3.3380758e-08],\n",
              "       [4.8123657e-06],\n",
              "       [2.0364928e-08],\n",
              "       [9.9999082e-01],\n",
              "       [5.8195115e-09],\n",
              "       [9.9982250e-01],\n",
              "       [9.9999249e-01],\n",
              "       [9.9998844e-01],\n",
              "       [1.0000000e+00],\n",
              "       [3.8912749e-06],\n",
              "       [9.9999630e-01],\n",
              "       [7.8019822e-09],\n",
              "       [9.9999070e-01],\n",
              "       [1.7739539e-09],\n",
              "       [1.0000000e+00],\n",
              "       [3.1575826e-08]], dtype=float32)"
            ]
          },
          "metadata": {},
          "execution_count": 71
        }
      ]
    },
    {
      "cell_type": "code",
      "source": [
        "# Check if summary is same\n",
        "model.summary()"
      ],
      "metadata": {
        "colab": {
          "base_uri": "https://localhost:8080/"
        },
        "id": "yrV-nehztKCN",
        "outputId": "08a8d08f-6e11-48fd-a13b-f31d4dc8fe6f"
      },
      "execution_count": null,
      "outputs": [
        {
          "output_type": "stream",
          "name": "stdout",
          "text": [
            "Model: \"SiameseNetwork\"\n",
            "__________________________________________________________________________________________________\n",
            " Layer (type)                   Output Shape         Param #     Connected to                     \n",
            "==================================================================================================\n",
            " input_img (InputLayer)         [(None, 100, 100, 3  0           []                               \n",
            "                                )]                                                                \n",
            "                                                                                                  \n",
            " validation_img (InputLayer)    [(None, 100, 100, 3  0           []                               \n",
            "                                )]                                                                \n",
            "                                                                                                  \n",
            " embedding (Functional)         (None, 4096)         38960448    ['input_img[0][0]',              \n",
            "                                                                  'validation_img[0][0]']         \n",
            "                                                                                                  \n",
            " l1_dist_2 (L1Dist)             (None, 4096)         0           ['embedding[0][0]',              \n",
            "                                                                  'embedding[1][0]']              \n",
            "                                                                                                  \n",
            " dense_1 (Dense)                (None, 1)            4097        ['l1_dist_2[0][0]']              \n",
            "                                                                                                  \n",
            "==================================================================================================\n",
            "Total params: 38,964,545\n",
            "Trainable params: 38,964,545\n",
            "Non-trainable params: 0\n",
            "__________________________________________________________________________________________________\n"
          ]
        }
      ]
    },
    {
      "cell_type": "markdown",
      "source": [
        "# 8. Real Time Test"
      ],
      "metadata": {
        "id": "muI_TXafttvS"
      }
    },
    {
      "cell_type": "code",
      "source": [
        "os.mkdir('/content/application_data')\n",
        "os.mkdir('/content/application_data/verification_images')\n",
        "os.mkdir('/content/application_data/input_image')"
      ],
      "metadata": {
        "id": "Q9mApxYZEbD7"
      },
      "execution_count": null,
      "outputs": []
    },
    {
      "cell_type": "markdown",
      "source": [
        "## 8.1 Verification Function"
      ],
      "metadata": {
        "id": "x-RGnrN72a1t"
      }
    },
    {
      "cell_type": "code",
      "source": [
        "def verify(model, detection_treshold, verification_treshold):\n",
        "  # Build results array\n",
        "  results = []\n",
        "  for image in os.listdir(os.path.join('application_data', 'verifiation_images')):\n",
        "    input_img = preprocess(os.path.join('application_data', 'input_image', 'input_image.jpg'))\n",
        "    validation_img = preprocess(os.path.join('application_data', 'verifiation_images', image))\n",
        "\n",
        "    result = model.predictlist(np.expand_dims([input_img, validation_img], axis=1))\n",
        "    results.append(result)\n",
        "\n",
        "  # Detection Treshold : Metric above which a prediction is considered positive\n",
        "  detection = np.sum(np.array(results) > detection_treshold)\n",
        "\n",
        "  # Verification Treshold : Proportion of positive predictions / total positive samples\n",
        "  verification = verification / len(os.listdir(os.path.join('application_data', 'verification_images')))\n",
        "  verified = verification > verification_treshold\n",
        "\n",
        "  return results, verified\n"
      ],
      "metadata": {
        "id": "QwVeNEW8D1yv"
      },
      "execution_count": null,
      "outputs": []
    },
    {
      "cell_type": "markdown",
      "source": [
        "## 8.2 OpenCV Real Time Verification"
      ],
      "metadata": {
        "id": "4HewRasQCAyX"
      }
    },
    {
      "cell_type": "code",
      "source": [
        "cap = cv2.VideoCapture(1)\n",
        "while cap.isOpened():\n",
        "  ret, frame = cap.read()\n",
        "  frame = frame[120:120+250, 200:200+250, :]\n",
        "\n",
        "  cv2.imshow('Verification', frame)\n",
        "\n",
        "  # Verification trigger\n",
        "  if cv2.waitKey(10) & 0xFF ==ord('v'):\n",
        "    # Save input image to application_data/input_image folder\n",
        "    cv2.imwrite(os.path.join('application_data', 'input_image', 'input_image.jpg'), frame)\n",
        "    # Run verification\n",
        "    results, verified = verify(model, 0.5, 0.5)\n",
        "    print(verified)\n",
        "\n",
        "\n",
        "  if cv2.waitKey(10) & 0xFF ==ord('q'):\n",
        "    break\n",
        "\n",
        "cap.release()\n",
        "cv2.destroyAllWindows()"
      ],
      "metadata": {
        "id": "7VJ998RUCHiV"
      },
      "execution_count": null,
      "outputs": []
    }
  ]
}